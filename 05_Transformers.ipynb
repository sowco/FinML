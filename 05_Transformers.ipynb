{
 "cells": [
  {
   "cell_type": "markdown",
   "metadata": {
    "toc": true
   },
   "source": [
    "<h1>Table of Contents<span class=\"tocSkip\"></span></h1>\n",
    "<div class=\"toc\"><ul class=\"toc-item\"><li><span><a href=\"#Задача\" data-toc-modified-id=\"Задача-1\"><span class=\"toc-item-num\">1&nbsp;&nbsp;</span>Задача</a></span></li><li><span><a href=\"#Загрузки\" data-toc-modified-id=\"Загрузки-2\"><span class=\"toc-item-num\">2&nbsp;&nbsp;</span>Загрузки</a></span></li><li><span><a href=\"#EDA\" data-toc-modified-id=\"EDA-3\"><span class=\"toc-item-num\">3&nbsp;&nbsp;</span>EDA</a></span></li><li><span><a href=\"#Заполняем-пропуски\" data-toc-modified-id=\"Заполняем-пропуски-4\"><span class=\"toc-item-num\">4&nbsp;&nbsp;</span>Заполняем пропуски</a></span></li><li><span><a href=\"#Строим-графики\" data-toc-modified-id=\"Строим-графики-5\"><span class=\"toc-item-num\">5&nbsp;&nbsp;</span>Строим графики</a></span></li><li><span><a href=\"#Анализ-торговых-стратегий\" data-toc-modified-id=\"Анализ-торговых-стратегий-6\"><span class=\"toc-item-num\">6&nbsp;&nbsp;</span>Анализ торговых стратегий</a></span><ul class=\"toc-item\"><li><span><a href=\"#Создаем-df-для-работы\" data-toc-modified-id=\"Создаем-df-для-работы-6.1\"><span class=\"toc-item-num\">6.1&nbsp;&nbsp;</span>Создаем df для работы</a></span></li><li><span><a href=\"#Тест?\" data-toc-modified-id=\"Тест?-6.2\"><span class=\"toc-item-num\">6.2&nbsp;&nbsp;</span>Тест?</a></span></li></ul></li></ul></div>"
   ]
  },
  {
   "cell_type": "markdown",
   "metadata": {},
   "source": [
    "# Оценка качества"
   ]
  },
  {
   "cell_type": "markdown",
   "metadata": {
    "jp-MarkdownHeadingCollapsed": true
   },
   "source": [
    "## Задача\n",
    "\n",
    "Тестирование торговой стратегии на базе предобученного трансформера."
   ]
  },
  {
   "cell_type": "markdown",
   "metadata": {},
   "source": [
    "## Загрузки"
   ]
  },
  {
   "cell_type": "code",
   "execution_count": 2,
   "metadata": {},
   "outputs": [],
   "source": [
    "# pip install \"C:\\YandexDisk\\Code\\Data&Lib_Arсhive\\Ta-lib\\ta_lib-0.5.1-cp312-cp312-win_amd64.whl\""
   ]
  },
  {
   "cell_type": "code",
   "execution_count": 3,
   "metadata": {},
   "outputs": [
    {
     "name": "stderr",
     "output_type": "stream",
     "text": [
      "C:\\Users\\fd\\anaconda3\\envs\\work_env\\Lib\\site-packages\\backtesting\\_plotting.py:55: UserWarning: Jupyter Notebook detected. Setting Bokeh output to notebook. This may not work in Jupyter clients without JavaScript support, such as old IDEs. Reset with `backtesting.set_bokeh_output(notebook=False)`.\n",
      "  warnings.warn('Jupyter Notebook detected. '\n"
     ]
    },
    {
     "data": {
      "text/html": [
       "    <style>\n",
       "        .bk-notebook-logo {\n",
       "            display: block;\n",
       "            width: 20px;\n",
       "            height: 20px;\n",
       "            background-image: url(data:image/png;base64,iVBORw0KGgoAAAANSUhEUgAAABQAAAAUCAYAAACNiR0NAAAABHNCSVQICAgIfAhkiAAAAAlwSFlzAAALEgAACxIB0t1+/AAAABx0RVh0U29mdHdhcmUAQWRvYmUgRmlyZXdvcmtzIENTNui8sowAAAOkSURBVDiNjZRtaJVlGMd/1/08zzln5zjP1LWcU9N0NkN8m2CYjpgQYQXqSs0I84OLIC0hkEKoPtiH3gmKoiJDU7QpLgoLjLIQCpEsNJ1vqUOdO7ppbuec5+V+rj4ctwzd8IIbbi6u+8f1539dt3A78eXC7QizUF7gyV1fD1Yqg4JWz84yffhm0qkFqBogB9rM8tZdtwVsPUhWhGcFJngGeWrPzHm5oaMmkfEg1usvLFyc8jLRqDOMru7AyC8saQr7GG7f5fvDeH7Ej8CM66nIF+8yngt6HWaKh7k49Soy9nXurCi1o3qUbS3zWfrYeQDTB/Qj6kX6Ybhw4B+bOYoLKCC9H3Nu/leUTZ1JdRWkkn2ldcCamzrcf47KKXdAJllSlxAOkRgyHsGC/zRday5Qld9DyoM4/q/rUoy/CXh3jzOu3bHUVZeU+DEn8FInkPBFlu3+nW3Nw0mk6vCDiWg8CeJaxEwuHS3+z5RgY+YBR6V1Z1nxSOfoaPa4LASWxxdNp+VWTk7+4vzaou8v8PN+xo+KY2xsw6une2frhw05CTYOmQvsEhjhWjn0bmXPjpE1+kplmmkP3suftwTubK9Vq22qKmrBhpY4jvd5afdRA3wGjFAgcnTK2s4hY0/GPNIb0nErGMCRxWOOX64Z8RAC4oCXdklmEvcL8o0BfkNK4lUg9HTl+oPlQxdNo3Mg4Nv175e/1LDGzZen30MEjRUtmXSfiTVu1kK8W4txyV6BMKlbgk3lMwYCiusNy9fVfvvwMxv8Ynl6vxoByANLTWplvuj/nF9m2+PDtt1eiHPBr1oIfhCChQMBw6Aw0UulqTKZdfVvfG7VcfIqLG9bcldL/+pdWTLxLUy8Qq38heUIjh4XlzZxzQm19lLFlr8vdQ97rjZVOLf8nclzckbcD4wxXMidpX30sFd37Fv/GtwwhzhxGVAprjbg0gCAEeIgwCZyTV2Z1REEW8O4py0wsjeloKoMr6iCY6dP92H6Vw/oTyICIthibxjm/DfN9lVz8IqtqKYLUXfoKVMVQVVJOElGjrnnUt9T9wbgp8AyYKaGlqingHZU/uG2NTZSVqwHQTWkx9hxjkpWDaCg6Ckj5qebgBVbT3V3NNXMSiWSDdGV3hrtzla7J+duwPOToIg42ChPQOQjspnSlp1V+Gjdged7+8UN5CRAV7a5EdFNwCjEaBR27b3W890TE7g24NAP/mMDXRWrGoFPQI9ls/MWO2dWFAar/xcOIImbbpA3zgAAAABJRU5ErkJggg==);\n",
       "        }\n",
       "    </style>\n",
       "    <div>\n",
       "        <a href=\"https://bokeh.org\" target=\"_blank\" class=\"bk-notebook-logo\"></a>\n",
       "        <span id=\"bf5c8c46-dd1a-49ed-a489-67efb69bb530\">Loading BokehJS ...</span>\n",
       "    </div>\n"
      ]
     },
     "metadata": {},
     "output_type": "display_data"
    },
    {
     "data": {
      "application/javascript": [
       "'use strict';\n",
       "(function(root) {\n",
       "  function now() {\n",
       "    return new Date();\n",
       "  }\n",
       "\n",
       "  const force = true;\n",
       "\n",
       "  if (typeof root._bokeh_onload_callbacks === \"undefined\" || force === true) {\n",
       "    root._bokeh_onload_callbacks = [];\n",
       "    root._bokeh_is_loading = undefined;\n",
       "  }\n",
       "\n",
       "const JS_MIME_TYPE = 'application/javascript';\n",
       "  const HTML_MIME_TYPE = 'text/html';\n",
       "  const EXEC_MIME_TYPE = 'application/vnd.bokehjs_exec.v0+json';\n",
       "  const CLASS_NAME = 'output_bokeh rendered_html';\n",
       "\n",
       "  /**\n",
       "   * Render data to the DOM node\n",
       "   */\n",
       "  function render(props, node) {\n",
       "    const script = document.createElement(\"script\");\n",
       "    node.appendChild(script);\n",
       "  }\n",
       "\n",
       "  /**\n",
       "   * Handle when an output is cleared or removed\n",
       "   */\n",
       "  function handleClearOutput(event, handle) {\n",
       "    function drop(id) {\n",
       "      const view = Bokeh.index.get_by_id(id)\n",
       "      if (view != null) {\n",
       "        view.model.document.clear()\n",
       "        Bokeh.index.delete(view)\n",
       "      }\n",
       "    }\n",
       "\n",
       "    const cell = handle.cell;\n",
       "\n",
       "    const id = cell.output_area._bokeh_element_id;\n",
       "    const server_id = cell.output_area._bokeh_server_id;\n",
       "\n",
       "    // Clean up Bokeh references\n",
       "    if (id != null) {\n",
       "      drop(id)\n",
       "    }\n",
       "\n",
       "    if (server_id !== undefined) {\n",
       "      // Clean up Bokeh references\n",
       "      const cmd_clean = \"from bokeh.io.state import curstate; print(curstate().uuid_to_server['\" + server_id + \"'].get_sessions()[0].document.roots[0]._id)\";\n",
       "      cell.notebook.kernel.execute(cmd_clean, {\n",
       "        iopub: {\n",
       "          output: function(msg) {\n",
       "            const id = msg.content.text.trim()\n",
       "            drop(id)\n",
       "          }\n",
       "        }\n",
       "      });\n",
       "      // Destroy server and session\n",
       "      const cmd_destroy = \"import bokeh.io.notebook as ion; ion.destroy_server('\" + server_id + \"')\";\n",
       "      cell.notebook.kernel.execute(cmd_destroy);\n",
       "    }\n",
       "  }\n",
       "\n",
       "  /**\n",
       "   * Handle when a new output is added\n",
       "   */\n",
       "  function handleAddOutput(event, handle) {\n",
       "    const output_area = handle.output_area;\n",
       "    const output = handle.output;\n",
       "\n",
       "    // limit handleAddOutput to display_data with EXEC_MIME_TYPE content only\n",
       "    if ((output.output_type != \"display_data\") || (!Object.prototype.hasOwnProperty.call(output.data, EXEC_MIME_TYPE))) {\n",
       "      return\n",
       "    }\n",
       "\n",
       "    const toinsert = output_area.element.find(\".\" + CLASS_NAME.split(' ')[0]);\n",
       "\n",
       "    if (output.metadata[EXEC_MIME_TYPE][\"id\"] !== undefined) {\n",
       "      toinsert[toinsert.length - 1].firstChild.textContent = output.data[JS_MIME_TYPE];\n",
       "      // store reference to embed id on output_area\n",
       "      output_area._bokeh_element_id = output.metadata[EXEC_MIME_TYPE][\"id\"];\n",
       "    }\n",
       "    if (output.metadata[EXEC_MIME_TYPE][\"server_id\"] !== undefined) {\n",
       "      const bk_div = document.createElement(\"div\");\n",
       "      bk_div.innerHTML = output.data[HTML_MIME_TYPE];\n",
       "      const script_attrs = bk_div.children[0].attributes;\n",
       "      for (let i = 0; i < script_attrs.length; i++) {\n",
       "        toinsert[toinsert.length - 1].firstChild.setAttribute(script_attrs[i].name, script_attrs[i].value);\n",
       "        toinsert[toinsert.length - 1].firstChild.textContent = bk_div.children[0].textContent\n",
       "      }\n",
       "      // store reference to server id on output_area\n",
       "      output_area._bokeh_server_id = output.metadata[EXEC_MIME_TYPE][\"server_id\"];\n",
       "    }\n",
       "  }\n",
       "\n",
       "  function register_renderer(events, OutputArea) {\n",
       "\n",
       "    function append_mime(data, metadata, element) {\n",
       "      // create a DOM node to render to\n",
       "      const toinsert = this.create_output_subarea(\n",
       "        metadata,\n",
       "        CLASS_NAME,\n",
       "        EXEC_MIME_TYPE\n",
       "      );\n",
       "      this.keyboard_manager.register_events(toinsert);\n",
       "      // Render to node\n",
       "      const props = {data: data, metadata: metadata[EXEC_MIME_TYPE]};\n",
       "      render(props, toinsert[toinsert.length - 1]);\n",
       "      element.append(toinsert);\n",
       "      return toinsert\n",
       "    }\n",
       "\n",
       "    /* Handle when an output is cleared or removed */\n",
       "    events.on('clear_output.CodeCell', handleClearOutput);\n",
       "    events.on('delete.Cell', handleClearOutput);\n",
       "\n",
       "    /* Handle when a new output is added */\n",
       "    events.on('output_added.OutputArea', handleAddOutput);\n",
       "\n",
       "    /**\n",
       "     * Register the mime type and append_mime function with output_area\n",
       "     */\n",
       "    OutputArea.prototype.register_mime_type(EXEC_MIME_TYPE, append_mime, {\n",
       "      /* Is output safe? */\n",
       "      safe: true,\n",
       "      /* Index of renderer in `output_area.display_order` */\n",
       "      index: 0\n",
       "    });\n",
       "  }\n",
       "\n",
       "  // register the mime type if in Jupyter Notebook environment and previously unregistered\n",
       "  if (root.Jupyter !== undefined) {\n",
       "    const events = require('base/js/events');\n",
       "    const OutputArea = require('notebook/js/outputarea').OutputArea;\n",
       "\n",
       "    if (OutputArea.prototype.mime_types().indexOf(EXEC_MIME_TYPE) == -1) {\n",
       "      register_renderer(events, OutputArea);\n",
       "    }\n",
       "  }\n",
       "  if (typeof (root._bokeh_timeout) === \"undefined\" || force === true) {\n",
       "    root._bokeh_timeout = Date.now() + 5000;\n",
       "    root._bokeh_failed_load = false;\n",
       "  }\n",
       "\n",
       "  const NB_LOAD_WARNING = {'data': {'text/html':\n",
       "     \"<div style='background-color: #fdd'>\\n\"+\n",
       "     \"<p>\\n\"+\n",
       "     \"BokehJS does not appear to have successfully loaded. If loading BokehJS from CDN, this \\n\"+\n",
       "     \"may be due to a slow or bad network connection. Possible fixes:\\n\"+\n",
       "     \"</p>\\n\"+\n",
       "     \"<ul>\\n\"+\n",
       "     \"<li>re-rerun `output_notebook()` to attempt to load from CDN again, or</li>\\n\"+\n",
       "     \"<li>use INLINE resources instead, as so:</li>\\n\"+\n",
       "     \"</ul>\\n\"+\n",
       "     \"<code>\\n\"+\n",
       "     \"from bokeh.resources import INLINE\\n\"+\n",
       "     \"output_notebook(resources=INLINE)\\n\"+\n",
       "     \"</code>\\n\"+\n",
       "     \"</div>\"}};\n",
       "\n",
       "  function display_loaded(error = null) {\n",
       "    const el = document.getElementById(\"bf5c8c46-dd1a-49ed-a489-67efb69bb530\");\n",
       "    if (el != null) {\n",
       "      const html = (() => {\n",
       "        if (typeof root.Bokeh === \"undefined\") {\n",
       "          if (error == null) {\n",
       "            return \"BokehJS is loading ...\";\n",
       "          } else {\n",
       "            return \"BokehJS failed to load.\";\n",
       "          }\n",
       "        } else {\n",
       "          const prefix = `BokehJS ${root.Bokeh.version}`;\n",
       "          if (error == null) {\n",
       "            return `${prefix} successfully loaded.`;\n",
       "          } else {\n",
       "            return `${prefix} <b>encountered errors</b> while loading and may not function as expected.`;\n",
       "          }\n",
       "        }\n",
       "      })();\n",
       "      el.innerHTML = html;\n",
       "\n",
       "      if (error != null) {\n",
       "        const wrapper = document.createElement(\"div\");\n",
       "        wrapper.style.overflow = \"auto\";\n",
       "        wrapper.style.height = \"5em\";\n",
       "        wrapper.style.resize = \"vertical\";\n",
       "        const content = document.createElement(\"div\");\n",
       "        content.style.fontFamily = \"monospace\";\n",
       "        content.style.whiteSpace = \"pre-wrap\";\n",
       "        content.style.backgroundColor = \"rgb(255, 221, 221)\";\n",
       "        content.textContent = error.stack ?? error.toString();\n",
       "        wrapper.append(content);\n",
       "        el.append(wrapper);\n",
       "      }\n",
       "    } else if (Date.now() < root._bokeh_timeout) {\n",
       "      setTimeout(() => display_loaded(error), 100);\n",
       "    }\n",
       "  }\n",
       "\n",
       "  function run_callbacks() {\n",
       "    try {\n",
       "      root._bokeh_onload_callbacks.forEach(function(callback) {\n",
       "        if (callback != null)\n",
       "          callback();\n",
       "      });\n",
       "    } finally {\n",
       "      delete root._bokeh_onload_callbacks\n",
       "    }\n",
       "    console.debug(\"Bokeh: all callbacks have finished\");\n",
       "  }\n",
       "\n",
       "  function load_libs(css_urls, js_urls, callback) {\n",
       "    if (css_urls == null) css_urls = [];\n",
       "    if (js_urls == null) js_urls = [];\n",
       "\n",
       "    root._bokeh_onload_callbacks.push(callback);\n",
       "    if (root._bokeh_is_loading > 0) {\n",
       "      console.debug(\"Bokeh: BokehJS is being loaded, scheduling callback at\", now());\n",
       "      return null;\n",
       "    }\n",
       "    if (js_urls == null || js_urls.length === 0) {\n",
       "      run_callbacks();\n",
       "      return null;\n",
       "    }\n",
       "    console.debug(\"Bokeh: BokehJS not loaded, scheduling load and callback at\", now());\n",
       "    root._bokeh_is_loading = css_urls.length + js_urls.length;\n",
       "\n",
       "    function on_load() {\n",
       "      root._bokeh_is_loading--;\n",
       "      if (root._bokeh_is_loading === 0) {\n",
       "        console.debug(\"Bokeh: all BokehJS libraries/stylesheets loaded\");\n",
       "        run_callbacks()\n",
       "      }\n",
       "    }\n",
       "\n",
       "    function on_error(url) {\n",
       "      console.error(\"failed to load \" + url);\n",
       "    }\n",
       "\n",
       "    for (let i = 0; i < css_urls.length; i++) {\n",
       "      const url = css_urls[i];\n",
       "      const element = document.createElement(\"link\");\n",
       "      element.onload = on_load;\n",
       "      element.onerror = on_error.bind(null, url);\n",
       "      element.rel = \"stylesheet\";\n",
       "      element.type = \"text/css\";\n",
       "      element.href = url;\n",
       "      console.debug(\"Bokeh: injecting link tag for BokehJS stylesheet: \", url);\n",
       "      document.body.appendChild(element);\n",
       "    }\n",
       "\n",
       "    for (let i = 0; i < js_urls.length; i++) {\n",
       "      const url = js_urls[i];\n",
       "      const element = document.createElement('script');\n",
       "      element.onload = on_load;\n",
       "      element.onerror = on_error.bind(null, url);\n",
       "      element.async = false;\n",
       "      element.src = url;\n",
       "      console.debug(\"Bokeh: injecting script tag for BokehJS library: \", url);\n",
       "      document.head.appendChild(element);\n",
       "    }\n",
       "  };\n",
       "\n",
       "  function inject_raw_css(css) {\n",
       "    const element = document.createElement(\"style\");\n",
       "    element.appendChild(document.createTextNode(css));\n",
       "    document.body.appendChild(element);\n",
       "  }\n",
       "\n",
       "  const js_urls = [\"https://cdn.bokeh.org/bokeh/release/bokeh-3.7.3.min.js\", \"https://cdn.bokeh.org/bokeh/release/bokeh-gl-3.7.3.min.js\", \"https://cdn.bokeh.org/bokeh/release/bokeh-widgets-3.7.3.min.js\", \"https://cdn.bokeh.org/bokeh/release/bokeh-tables-3.7.3.min.js\", \"https://cdn.bokeh.org/bokeh/release/bokeh-mathjax-3.7.3.min.js\"];\n",
       "  const css_urls = [];\n",
       "\n",
       "  const inline_js = [    function(Bokeh) {\n",
       "      Bokeh.set_log_level(\"info\");\n",
       "    },\n",
       "function(Bokeh) {\n",
       "    }\n",
       "  ];\n",
       "\n",
       "  function run_inline_js() {\n",
       "    if (root.Bokeh !== undefined || force === true) {\n",
       "      try {\n",
       "            for (let i = 0; i < inline_js.length; i++) {\n",
       "      inline_js[i].call(root, root.Bokeh);\n",
       "    }\n",
       "\n",
       "      } catch (error) {display_loaded(error);throw error;\n",
       "      }if (force === true) {\n",
       "        display_loaded();\n",
       "      }} else if (Date.now() < root._bokeh_timeout) {\n",
       "      setTimeout(run_inline_js, 100);\n",
       "    } else if (!root._bokeh_failed_load) {\n",
       "      console.log(\"Bokeh: BokehJS failed to load within specified timeout.\");\n",
       "      root._bokeh_failed_load = true;\n",
       "    } else if (force !== true) {\n",
       "      const cell = $(document.getElementById(\"bf5c8c46-dd1a-49ed-a489-67efb69bb530\")).parents('.cell').data().cell;\n",
       "      cell.output_area.append_execute_result(NB_LOAD_WARNING)\n",
       "    }\n",
       "  }\n",
       "\n",
       "  if (root._bokeh_is_loading === 0) {\n",
       "    console.debug(\"Bokeh: BokehJS loaded, going straight to plotting\");\n",
       "    run_inline_js();\n",
       "  } else {\n",
       "    load_libs(css_urls, js_urls, function() {\n",
       "      console.debug(\"Bokeh: BokehJS plotting callback run at\", now());\n",
       "      run_inline_js();\n",
       "    });\n",
       "  }\n",
       "}(window));"
      ],
      "application/vnd.bokehjs_load.v0+json": "'use strict';\n(function(root) {\n  function now() {\n    return new Date();\n  }\n\n  const force = true;\n\n  if (typeof root._bokeh_onload_callbacks === \"undefined\" || force === true) {\n    root._bokeh_onload_callbacks = [];\n    root._bokeh_is_loading = undefined;\n  }\n\n\n  if (typeof (root._bokeh_timeout) === \"undefined\" || force === true) {\n    root._bokeh_timeout = Date.now() + 5000;\n    root._bokeh_failed_load = false;\n  }\n\n  const NB_LOAD_WARNING = {'data': {'text/html':\n     \"<div style='background-color: #fdd'>\\n\"+\n     \"<p>\\n\"+\n     \"BokehJS does not appear to have successfully loaded. If loading BokehJS from CDN, this \\n\"+\n     \"may be due to a slow or bad network connection. Possible fixes:\\n\"+\n     \"</p>\\n\"+\n     \"<ul>\\n\"+\n     \"<li>re-rerun `output_notebook()` to attempt to load from CDN again, or</li>\\n\"+\n     \"<li>use INLINE resources instead, as so:</li>\\n\"+\n     \"</ul>\\n\"+\n     \"<code>\\n\"+\n     \"from bokeh.resources import INLINE\\n\"+\n     \"output_notebook(resources=INLINE)\\n\"+\n     \"</code>\\n\"+\n     \"</div>\"}};\n\n  function display_loaded(error = null) {\n    const el = document.getElementById(\"bf5c8c46-dd1a-49ed-a489-67efb69bb530\");\n    if (el != null) {\n      const html = (() => {\n        if (typeof root.Bokeh === \"undefined\") {\n          if (error == null) {\n            return \"BokehJS is loading ...\";\n          } else {\n            return \"BokehJS failed to load.\";\n          }\n        } else {\n          const prefix = `BokehJS ${root.Bokeh.version}`;\n          if (error == null) {\n            return `${prefix} successfully loaded.`;\n          } else {\n            return `${prefix} <b>encountered errors</b> while loading and may not function as expected.`;\n          }\n        }\n      })();\n      el.innerHTML = html;\n\n      if (error != null) {\n        const wrapper = document.createElement(\"div\");\n        wrapper.style.overflow = \"auto\";\n        wrapper.style.height = \"5em\";\n        wrapper.style.resize = \"vertical\";\n        const content = document.createElement(\"div\");\n        content.style.fontFamily = \"monospace\";\n        content.style.whiteSpace = \"pre-wrap\";\n        content.style.backgroundColor = \"rgb(255, 221, 221)\";\n        content.textContent = error.stack ?? error.toString();\n        wrapper.append(content);\n        el.append(wrapper);\n      }\n    } else if (Date.now() < root._bokeh_timeout) {\n      setTimeout(() => display_loaded(error), 100);\n    }\n  }\n\n  function run_callbacks() {\n    try {\n      root._bokeh_onload_callbacks.forEach(function(callback) {\n        if (callback != null)\n          callback();\n      });\n    } finally {\n      delete root._bokeh_onload_callbacks\n    }\n    console.debug(\"Bokeh: all callbacks have finished\");\n  }\n\n  function load_libs(css_urls, js_urls, callback) {\n    if (css_urls == null) css_urls = [];\n    if (js_urls == null) js_urls = [];\n\n    root._bokeh_onload_callbacks.push(callback);\n    if (root._bokeh_is_loading > 0) {\n      console.debug(\"Bokeh: BokehJS is being loaded, scheduling callback at\", now());\n      return null;\n    }\n    if (js_urls == null || js_urls.length === 0) {\n      run_callbacks();\n      return null;\n    }\n    console.debug(\"Bokeh: BokehJS not loaded, scheduling load and callback at\", now());\n    root._bokeh_is_loading = css_urls.length + js_urls.length;\n\n    function on_load() {\n      root._bokeh_is_loading--;\n      if (root._bokeh_is_loading === 0) {\n        console.debug(\"Bokeh: all BokehJS libraries/stylesheets loaded\");\n        run_callbacks()\n      }\n    }\n\n    function on_error(url) {\n      console.error(\"failed to load \" + url);\n    }\n\n    for (let i = 0; i < css_urls.length; i++) {\n      const url = css_urls[i];\n      const element = document.createElement(\"link\");\n      element.onload = on_load;\n      element.onerror = on_error.bind(null, url);\n      element.rel = \"stylesheet\";\n      element.type = \"text/css\";\n      element.href = url;\n      console.debug(\"Bokeh: injecting link tag for BokehJS stylesheet: \", url);\n      document.body.appendChild(element);\n    }\n\n    for (let i = 0; i < js_urls.length; i++) {\n      const url = js_urls[i];\n      const element = document.createElement('script');\n      element.onload = on_load;\n      element.onerror = on_error.bind(null, url);\n      element.async = false;\n      element.src = url;\n      console.debug(\"Bokeh: injecting script tag for BokehJS library: \", url);\n      document.head.appendChild(element);\n    }\n  };\n\n  function inject_raw_css(css) {\n    const element = document.createElement(\"style\");\n    element.appendChild(document.createTextNode(css));\n    document.body.appendChild(element);\n  }\n\n  const js_urls = [\"https://cdn.bokeh.org/bokeh/release/bokeh-3.7.3.min.js\", \"https://cdn.bokeh.org/bokeh/release/bokeh-gl-3.7.3.min.js\", \"https://cdn.bokeh.org/bokeh/release/bokeh-widgets-3.7.3.min.js\", \"https://cdn.bokeh.org/bokeh/release/bokeh-tables-3.7.3.min.js\", \"https://cdn.bokeh.org/bokeh/release/bokeh-mathjax-3.7.3.min.js\"];\n  const css_urls = [];\n\n  const inline_js = [    function(Bokeh) {\n      Bokeh.set_log_level(\"info\");\n    },\nfunction(Bokeh) {\n    }\n  ];\n\n  function run_inline_js() {\n    if (root.Bokeh !== undefined || force === true) {\n      try {\n            for (let i = 0; i < inline_js.length; i++) {\n      inline_js[i].call(root, root.Bokeh);\n    }\n\n      } catch (error) {display_loaded(error);throw error;\n      }if (force === true) {\n        display_loaded();\n      }} else if (Date.now() < root._bokeh_timeout) {\n      setTimeout(run_inline_js, 100);\n    } else if (!root._bokeh_failed_load) {\n      console.log(\"Bokeh: BokehJS failed to load within specified timeout.\");\n      root._bokeh_failed_load = true;\n    } else if (force !== true) {\n      const cell = $(document.getElementById(\"bf5c8c46-dd1a-49ed-a489-67efb69bb530\")).parents('.cell').data().cell;\n      cell.output_area.append_execute_result(NB_LOAD_WARNING)\n    }\n  }\n\n  if (root._bokeh_is_loading === 0) {\n    console.debug(\"Bokeh: BokehJS loaded, going straight to plotting\");\n    run_inline_js();\n  } else {\n    load_libs(css_urls, js_urls, function() {\n      console.debug(\"Bokeh: BokehJS plotting callback run at\", now());\n      run_inline_js();\n    });\n  }\n}(window));"
     },
     "metadata": {},
     "output_type": "display_data"
    }
   ],
   "source": [
    "'''Системные'''\n",
    "import os\n",
    "import sys\n",
    "from datetime import datetime, timezone, timedelta\n",
    "import time\n",
    "from tqdm import tqdm \n",
    "import warnings\n",
    "\n",
    "'''База'''\n",
    "import pandas as pd\n",
    "import numpy as np\n",
    "from itertools import chain, combinations\n",
    "from scipy import stats\n",
    "\n",
    "'''Графики'''\n",
    "from plotly.subplots import make_subplots\n",
    "import plotly.express as px\n",
    "import plotly.graph_objects as go\n",
    "import plotly.graph_objects as go\n",
    "import matplotlib.pyplot as plt\n",
    "from matplotlib.ticker import FuncFormatter\n",
    "\n",
    "\n",
    "'''Обучение'''\n",
    "from sklearn.linear_model import LinearRegression\n",
    "from sklearn.linear_model import LogisticRegression\n",
    "from sklearn.model_selection import train_test_split\n",
    "from sklearn.metrics import classification_report\n",
    "from sklearn.preprocessing import MinMaxScaler\n",
    "import torch\n",
    "import torch.nn as nn\n",
    "from torch.utils.data import DataLoader, TensorDataset\n",
    "\n",
    "'''Подготовка'''\n",
    "from tinkoff.invest import Client, CandleInterval\n",
    "from pybit.unified_trading import HTTP\n",
    "\n",
    "'''Торговые агенты'''\n",
    "import talib\n",
    "from backtesting.lib import crossover\n",
    "from backtesting import Backtest, Strategy\n",
    "\n",
    "\n",
    "\n",
    "\n",
    "\n",
    "\n"
   ]
  },
  {
   "cell_type": "code",
   "execution_count": 4,
   "metadata": {},
   "outputs": [],
   "source": [
    "from dotenv import load_dotenv\n",
    "\n",
    "load_dotenv()\n",
    "api_key = os.getenv(\"api_key_bybit\")\n",
    "api_secret = os.getenv(\"api_secret_bybit\")\n",
    "api_T = os.getenv(\"TOKEN_T\")"
   ]
  },
  {
   "cell_type": "code",
   "execution_count": 5,
   "metadata": {},
   "outputs": [],
   "source": [
    "tickers_crypt = ['BTCUSDT', 'ETHUSDT']\n",
    "tickers = [\"SBER\", \"XAU\", \"PLZL\", \"MGNT\", \"SBER\", \"YDEX\"]\n",
    "output_crypt_file = 'crypto_data.csv'\n",
    "output_file = 'ticker_data.csv'\n",
    "all_data = []\n",
    "all_data_crypt = []\n",
    "end_date = datetime.today().strftime('%dd-%mm-%YY')\n",
    "start_date = (datetime.today() - timedelta(days=(0.3 * 365))).strftime('%dd-%mm-%YY')\n",
    "start_dt = datetime.strptime(start_date, '%dd-%mm-%YY')\n",
    "end_dt = datetime.strptime(end_date, '%dd-%mm-%YY')\n",
    "\n",
    "# Константы комиссий\n",
    "COMMISSION_BUY = 0.003\n",
    "COMMISSION_SELL = 0.002\n",
    "\n",
    "N = 3"
   ]
  },
  {
   "cell_type": "code",
   "execution_count": 6,
   "metadata": {},
   "outputs": [
    {
     "name": "stdout",
     "output_type": "stream",
     "text": [
      "Данные успешно загружены:\n"
     ]
    },
    {
     "data": {
      "text/html": [
       "<div>\n",
       "<style scoped>\n",
       "    .dataframe tbody tr th:only-of-type {\n",
       "        vertical-align: middle;\n",
       "    }\n",
       "\n",
       "    .dataframe tbody tr th {\n",
       "        vertical-align: top;\n",
       "    }\n",
       "\n",
       "    .dataframe thead th {\n",
       "        text-align: right;\n",
       "    }\n",
       "</style>\n",
       "<table border=\"1\" class=\"dataframe\">\n",
       "  <thead>\n",
       "    <tr style=\"text-align: right;\">\n",
       "      <th></th>\n",
       "      <th>ticker</th>\n",
       "      <th>date</th>\n",
       "      <th>open</th>\n",
       "      <th>high</th>\n",
       "      <th>low</th>\n",
       "      <th>close</th>\n",
       "      <th>volume</th>\n",
       "    </tr>\n",
       "  </thead>\n",
       "  <tbody>\n",
       "    <tr>\n",
       "      <th>0</th>\n",
       "      <td>SBER</td>\n",
       "      <td>2025-04-10</td>\n",
       "      <td>294.09</td>\n",
       "      <td>296.75</td>\n",
       "      <td>288.27</td>\n",
       "      <td>292.46</td>\n",
       "      <td>6286284</td>\n",
       "    </tr>\n",
       "    <tr>\n",
       "      <th>1</th>\n",
       "      <td>SBER</td>\n",
       "      <td>2025-04-11</td>\n",
       "      <td>293.00</td>\n",
       "      <td>300.48</td>\n",
       "      <td>292.80</td>\n",
       "      <td>299.81</td>\n",
       "      <td>5041821</td>\n",
       "    </tr>\n",
       "    <tr>\n",
       "      <th>2</th>\n",
       "      <td>SBER</td>\n",
       "      <td>2025-04-12</td>\n",
       "      <td>300.18</td>\n",
       "      <td>301.80</td>\n",
       "      <td>300.03</td>\n",
       "      <td>300.95</td>\n",
       "      <td>461524</td>\n",
       "    </tr>\n",
       "    <tr>\n",
       "      <th>3</th>\n",
       "      <td>SBER</td>\n",
       "      <td>2025-04-13</td>\n",
       "      <td>300.88</td>\n",
       "      <td>301.99</td>\n",
       "      <td>300.01</td>\n",
       "      <td>301.49</td>\n",
       "      <td>407921</td>\n",
       "    </tr>\n",
       "    <tr>\n",
       "      <th>4</th>\n",
       "      <td>SBER</td>\n",
       "      <td>2025-04-14</td>\n",
       "      <td>301.49</td>\n",
       "      <td>302.40</td>\n",
       "      <td>295.13</td>\n",
       "      <td>296.50</td>\n",
       "      <td>3476895</td>\n",
       "    </tr>\n",
       "  </tbody>\n",
       "</table>\n",
       "</div>"
      ],
      "text/plain": [
       "  ticker        date    open    high     low   close   volume\n",
       "0   SBER  2025-04-10  294.09  296.75  288.27  292.46  6286284\n",
       "1   SBER  2025-04-11  293.00  300.48  292.80  299.81  5041821\n",
       "2   SBER  2025-04-12  300.18  301.80  300.03  300.95   461524\n",
       "3   SBER  2025-04-13  300.88  301.99  300.01  301.49   407921\n",
       "4   SBER  2025-04-14  301.49  302.40  295.13  296.50  3476895"
      ]
     },
     "metadata": {},
     "output_type": "display_data"
    }
   ],
   "source": [
    "if os.path.exists(output_file):\n",
    "    df = pd.read_csv(output_file, index_col=0)\n",
    "    print(\"Данные успешно загружены:\")\n",
    "    display(df.head())\n",
    "\n",
    "else: \n",
    "    data = []\n",
    "    \n",
    "    with Client(api_T) as client:\n",
    "        try:\n",
    "            for ticker in tqdm(tickers, desc=\"Загрузка данных\", unit=\"тикер\"):\n",
    "                \n",
    "                \"\"\" Сначала пытаемся найти акциb\"\"\"\n",
    "                instrument = None\n",
    "                shares = client.instruments.shares().instruments\n",
    "                instrument = next((i for i in shares if i.ticker == ticker), None)\n",
    "    \n",
    "                \"\"\" Если не нашли как акцию, ищем другие инструменты\"\"\"\n",
    "                if not instrument:\n",
    "                    instrument_response = client.instruments.find_instrument(query=ticker)\n",
    "                    instrument = next((i for i in instrument_response.instruments if i.ticker == ticker), None)\n",
    "    \n",
    "                if not instrument:\n",
    "                    print(f\"Инструмент {ticker} не найден.\")\n",
    "                    continue\n",
    "    \n",
    "                figi = instrument.figi\n",
    "                candles = client.market_data.get_candles(\n",
    "                    figi=figi,\n",
    "                    from_=start_dt,\n",
    "                    to=end_dt,\n",
    "                    interval=CandleInterval.CANDLE_INTERVAL_DAY\n",
    "                ).candles\n",
    "    \n",
    "                if not candles:\n",
    "                    print(f\"Нет данных по {ticker} за указанный период.\")\n",
    "                    continue\n",
    "    \n",
    "                for candle in candles:\n",
    "                    candle_time = candle.time.astimezone(timezone.utc)\n",
    "    \n",
    "                    data.append({\n",
    "                        'ticker': ticker,\n",
    "                        'date': candle_time,\n",
    "                        'open': candle.open.units + candle.open.nano / 1e9,\n",
    "                        'high': candle.high.units + candle.high.nano / 1e9,\n",
    "                        'low': candle.low.units + candle.low.nano / 1e9,\n",
    "                        'close': candle.close.units + candle.close.nano / 1e9,\n",
    "                        'volume': candle.volume\n",
    "                    })\n",
    "                df = pd.DataFrame(data)\n",
    "                df['date'] = pd.to_datetime(df['date']).dt.tz_localize(None)\n",
    "                df.to_csv(output_file, index=True)\n",
    "                print(\"Данные успешно сохранены.\")\n",
    "        except Exception as e:\n",
    "            print(f\"Ошибка при обработке {ticker}: {e}\")\n",
    "\n",
    "\n"
   ]
  },
  {
   "cell_type": "code",
   "execution_count": 7,
   "metadata": {},
   "outputs": [
    {
     "data": {
      "text/plain": [
       "array(['SBER', 'XAU', 'PLZL', 'MGNT', 'YDEX'], dtype=object)"
      ]
     },
     "execution_count": 7,
     "metadata": {},
     "output_type": "execute_result"
    }
   ],
   "source": [
    "\"\"\"Проверяем, какие тикеры загрузили\"\"\"\n",
    "df.ticker.unique()"
   ]
  },
  {
   "cell_type": "code",
   "execution_count": 8,
   "metadata": {
    "scrolled": true
   },
   "outputs": [
    {
     "name": "stdout",
     "output_type": "stream",
     "text": [
      "Данные успешно загружены:\n"
     ]
    },
    {
     "data": {
      "text/html": [
       "<div>\n",
       "<style scoped>\n",
       "    .dataframe tbody tr th:only-of-type {\n",
       "        vertical-align: middle;\n",
       "    }\n",
       "\n",
       "    .dataframe tbody tr th {\n",
       "        vertical-align: top;\n",
       "    }\n",
       "\n",
       "    .dataframe thead th {\n",
       "        text-align: right;\n",
       "    }\n",
       "</style>\n",
       "<table border=\"1\" class=\"dataframe\">\n",
       "  <thead>\n",
       "    <tr style=\"text-align: right;\">\n",
       "      <th></th>\n",
       "      <th>ticker</th>\n",
       "      <th>date</th>\n",
       "      <th>open</th>\n",
       "      <th>high</th>\n",
       "      <th>low</th>\n",
       "      <th>close</th>\n",
       "      <th>volume</th>\n",
       "    </tr>\n",
       "  </thead>\n",
       "  <tbody>\n",
       "    <tr>\n",
       "      <th>0</th>\n",
       "      <td>BTCUSDT</td>\n",
       "      <td>2025-07-28</td>\n",
       "      <td>119429.9</td>\n",
       "      <td>119844.9</td>\n",
       "      <td>117401.5</td>\n",
       "      <td>118068.9</td>\n",
       "      <td>55237.020</td>\n",
       "    </tr>\n",
       "    <tr>\n",
       "      <th>1</th>\n",
       "      <td>BTCUSDT</td>\n",
       "      <td>2025-07-27</td>\n",
       "      <td>117898.8</td>\n",
       "      <td>119784.0</td>\n",
       "      <td>117807.6</td>\n",
       "      <td>119429.9</td>\n",
       "      <td>35559.539</td>\n",
       "    </tr>\n",
       "    <tr>\n",
       "      <th>2</th>\n",
       "      <td>BTCUSDT</td>\n",
       "      <td>2025-07-26</td>\n",
       "      <td>117616.3</td>\n",
       "      <td>118333.4</td>\n",
       "      <td>117150.0</td>\n",
       "      <td>117898.8</td>\n",
       "      <td>26231.010</td>\n",
       "    </tr>\n",
       "    <tr>\n",
       "      <th>3</th>\n",
       "      <td>BTCUSDT</td>\n",
       "      <td>2025-07-25</td>\n",
       "      <td>118328.0</td>\n",
       "      <td>118440.3</td>\n",
       "      <td>114710.0</td>\n",
       "      <td>117616.3</td>\n",
       "      <td>121212.765</td>\n",
       "    </tr>\n",
       "    <tr>\n",
       "      <th>4</th>\n",
       "      <td>BTCUSDT</td>\n",
       "      <td>2025-07-24</td>\n",
       "      <td>118743.4</td>\n",
       "      <td>119492.9</td>\n",
       "      <td>117050.1</td>\n",
       "      <td>118328.0</td>\n",
       "      <td>68946.070</td>\n",
       "    </tr>\n",
       "  </tbody>\n",
       "</table>\n",
       "</div>"
      ],
      "text/plain": [
       "    ticker        date      open      high       low     close      volume\n",
       "0  BTCUSDT  2025-07-28  119429.9  119844.9  117401.5  118068.9   55237.020\n",
       "1  BTCUSDT  2025-07-27  117898.8  119784.0  117807.6  119429.9   35559.539\n",
       "2  BTCUSDT  2025-07-26  117616.3  118333.4  117150.0  117898.8   26231.010\n",
       "3  BTCUSDT  2025-07-25  118328.0  118440.3  114710.0  117616.3  121212.765\n",
       "4  BTCUSDT  2025-07-24  118743.4  119492.9  117050.1  118328.0   68946.070"
      ]
     },
     "metadata": {},
     "output_type": "display_data"
    }
   ],
   "source": [
    "if os.path.exists(output_crypt_file):\n",
    "    df_crypt = pd.read_csv(output_crypt_file, index_col=0)\n",
    "    print(\"Данные успешно загружены:\")\n",
    "    display(df_crypt.head())\n",
    "\n",
    "else: \n",
    "    client = HTTP()\n",
    "    try:\n",
    "        for ticker in tqdm(tickers_crypt, desc='Загрузка крипто-данных', unit='тикер'):\n",
    "            response = client.get_kline(\n",
    "                category='linear',\n",
    "                symbol=ticker,\n",
    "                interval='D',\n",
    "                start=int(start_dt.timestamp() * 1000),\n",
    "                end=int(end_dt.timestamp() * 1000)\n",
    "            )\n",
    "            candles = response.get('result', {}).get('list', [])\n",
    "    \n",
    "            if not candles:\n",
    "                print(f\"Нет данных по {ticker} за указанный период.\")\n",
    "                continue\n",
    "    \n",
    "            for candle in candles:\n",
    "                candle_time = datetime.utcfromtimestamp(int(candle[0]) / 1000)\n",
    "    \n",
    "                all_data_crypt.append({\n",
    "                    'ticker': ticker,\n",
    "                    'date': candle_time,\n",
    "                    'open': float(candle[1]),\n",
    "                    'high': float(candle[2]),\n",
    "                    'low': float(candle[3]),\n",
    "                    'close': float(candle[4]),\n",
    "                    'volume': float(candle[5])\n",
    "                })\n",
    "    \n",
    "        df_crypt = pd.DataFrame(all_data_crypt)\n",
    "        df_crypt.to_csv(output_crypt_file, index=True)\n",
    "        print(\"Крипто-данные успешно сохранены.\")\n",
    "    \n",
    "    except Exception as e:\n",
    "        print(f\"Ошибка при обработке {ticker}: {e}\")\n"
   ]
  },
  {
   "cell_type": "code",
   "execution_count": 9,
   "metadata": {},
   "outputs": [],
   "source": [
    "# df['date'] = df['date'].replace(tzinfo=None)\n",
    "df = pd.concat([df, df_crypt], ignore_index=True)\n"
   ]
  },
  {
   "cell_type": "code",
   "execution_count": null,
   "metadata": {},
   "outputs": [],
   "source": []
  },
  {
   "cell_type": "markdown",
   "metadata": {},
   "source": [
    "## EDA"
   ]
  },
  {
   "cell_type": "code",
   "execution_count": 10,
   "metadata": {},
   "outputs": [
    {
     "name": "stdout",
     "output_type": "stream",
     "text": [
      "Посмотрим на данные:\n"
     ]
    },
    {
     "data": {
      "text/html": [
       "<div>\n",
       "<style scoped>\n",
       "    .dataframe tbody tr th:only-of-type {\n",
       "        vertical-align: middle;\n",
       "    }\n",
       "\n",
       "    .dataframe tbody tr th {\n",
       "        vertical-align: top;\n",
       "    }\n",
       "\n",
       "    .dataframe thead th {\n",
       "        text-align: right;\n",
       "    }\n",
       "</style>\n",
       "<table border=\"1\" class=\"dataframe\">\n",
       "  <thead>\n",
       "    <tr style=\"text-align: right;\">\n",
       "      <th></th>\n",
       "      <th>ticker</th>\n",
       "      <th>date</th>\n",
       "      <th>open</th>\n",
       "      <th>high</th>\n",
       "      <th>low</th>\n",
       "      <th>close</th>\n",
       "      <th>volume</th>\n",
       "    </tr>\n",
       "  </thead>\n",
       "  <tbody>\n",
       "    <tr>\n",
       "      <th>287</th>\n",
       "      <td>PLZL</td>\n",
       "      <td>2025-07-10</td>\n",
       "      <td>1830.0</td>\n",
       "      <td>1877.2</td>\n",
       "      <td>1822.8</td>\n",
       "      <td>1860.8</td>\n",
       "      <td>583113.000</td>\n",
       "    </tr>\n",
       "    <tr>\n",
       "      <th>705</th>\n",
       "      <td>BTCUSDT</td>\n",
       "      <td>2025-04-21</td>\n",
       "      <td>85145.5</td>\n",
       "      <td>88442.9</td>\n",
       "      <td>85106.1</td>\n",
       "      <td>87471.1</td>\n",
       "      <td>129404.128</td>\n",
       "    </tr>\n",
       "    <tr>\n",
       "      <th>84</th>\n",
       "      <td>SBER</td>\n",
       "      <td>2025-07-12</td>\n",
       "      <td>310.0</td>\n",
       "      <td>311.0</td>\n",
       "      <td>310.0</td>\n",
       "      <td>310.2</td>\n",
       "      <td>87372.000</td>\n",
       "    </tr>\n",
       "  </tbody>\n",
       "</table>\n",
       "</div>"
      ],
      "text/plain": [
       "      ticker        date     open     high      low    close      volume\n",
       "287     PLZL  2025-07-10   1830.0   1877.2   1822.8   1860.8  583113.000\n",
       "705  BTCUSDT  2025-04-21  85145.5  88442.9  85106.1  87471.1  129404.128\n",
       "84      SBER  2025-07-12    310.0    311.0    310.0    310.2   87372.000"
      ]
     },
     "metadata": {},
     "output_type": "display_data"
    },
    {
     "name": "stdout",
     "output_type": "stream",
     "text": [
      "<class 'pandas.core.frame.DataFrame'>\n",
      "RangeIndex: 825 entries, 0 to 824\n",
      "Data columns (total 7 columns):\n",
      " #   Column  Non-Null Count  Dtype  \n",
      "---  ------  --------------  -----  \n",
      " 0   ticker  825 non-null    object \n",
      " 1   date    825 non-null    object \n",
      " 2   open    825 non-null    float64\n",
      " 3   high    825 non-null    float64\n",
      " 4   low     825 non-null    float64\n",
      " 5   close   825 non-null    float64\n",
      " 6   volume  825 non-null    float64\n",
      "dtypes: float64(5), object(2)\n",
      "memory usage: 45.2+ KB\n"
     ]
    },
    {
     "data": {
      "text/plain": [
       "None"
      ]
     },
     "metadata": {},
     "output_type": "display_data"
    },
    {
     "data": {
      "text/plain": [
       "Index(['ticker', 'date', 'open', 'high', 'low', 'close', 'volume'], dtype='object')"
      ]
     },
     "metadata": {},
     "output_type": "display_data"
    },
    {
     "name": "stdout",
     "output_type": "stream",
     "text": [
      "\n",
      "\n"
     ]
    }
   ],
   "source": [
    "def viewing_statistics(df_list):\n",
    "    print('Посмотрим на данные:')\n",
    "    for i in table:\n",
    "        if len(i) >= 3:\n",
    "            display(i.sample(3))\n",
    "        else:\n",
    "            display(i)\n",
    "        display(i.info())\n",
    "        display(i.columns)\n",
    "        print('\\n')\n",
    "table = [df]   \n",
    "viewing_statistics(table)"
   ]
  },
  {
   "cell_type": "code",
   "execution_count": 11,
   "metadata": {},
   "outputs": [
    {
     "name": "stdout",
     "output_type": "stream",
     "text": [
      "Проверим пропуски:\n"
     ]
    },
    {
     "data": {
      "text/plain": [
       "ticker    0.0\n",
       "date      0.0\n",
       "open      0.0\n",
       "high      0.0\n",
       "low       0.0\n",
       "close     0.0\n",
       "volume    0.0\n",
       "dtype: float64"
      ]
     },
     "metadata": {},
     "output_type": "display_data"
    }
   ],
   "source": [
    "print('Проверим пропуски:')\n",
    "for i in table:\n",
    "    display(i.isnull().mean().sort_values())"
   ]
  },
  {
   "cell_type": "markdown",
   "metadata": {},
   "source": [
    "## Заполняем пропуски\n",
    "пока нет, что бы не забыть оставлю."
   ]
  },
  {
   "cell_type": "code",
   "execution_count": 12,
   "metadata": {},
   "outputs": [
    {
     "name": "stderr",
     "output_type": "stream",
     "text": [
      "C:\\Users\\fd\\AppData\\Local\\Temp\\ipykernel_33504\\4089252463.py:1: FutureWarning: DataFrame.fillna with 'method' is deprecated and will raise in a future version. Use obj.ffill() or obj.bfill() instead.\n",
      "  df = df.fillna(method='ffill')\n",
      "C:\\Users\\fd\\AppData\\Local\\Temp\\ipykernel_33504\\4089252463.py:2: FutureWarning: The 'method' keyword in DataFrame.replace is deprecated and will be removed in a future version.\n",
      "  df = pd.DataFrame(df.replace(to_replace=0, method='ffill'))\n"
     ]
    }
   ],
   "source": [
    "df = df.fillna(method='ffill')\n",
    "df = pd.DataFrame(df.replace(to_replace=0, method='ffill'))"
   ]
  },
  {
   "cell_type": "markdown",
   "metadata": {},
   "source": [
    "## Строим графики"
   ]
  },
  {
   "cell_type": "code",
   "execution_count": 13,
   "metadata": {},
   "outputs": [
    {
     "data": {
      "application/vnd.plotly.v1+json": {
       "config": {
        "plotlyServerURL": "https://plot.ly"
       },
       "data": [
        {
         "mode": "lines",
         "name": "SBER",
         "type": "scatter",
         "x": [
          "2025-04-10",
          "2025-04-11",
          "2025-04-12",
          "2025-04-13",
          "2025-04-14",
          "2025-04-15",
          "2025-04-16",
          "2025-04-17",
          "2025-04-18",
          "2025-04-21",
          "2025-04-22",
          "2025-04-23",
          "2025-04-24",
          "2025-04-25",
          "2025-04-26",
          "2025-04-27",
          "2025-04-28",
          "2025-04-29",
          "2025-04-30",
          "2025-05-02",
          "2025-05-03",
          "2025-05-04",
          "2025-05-05",
          "2025-05-06",
          "2025-05-07",
          "2025-05-08",
          "2025-05-10",
          "2025-05-11",
          "2025-05-12",
          "2025-05-13",
          "2025-05-14",
          "2025-05-15",
          "2025-05-16",
          "2025-05-17",
          "2025-05-18",
          "2025-05-19",
          "2025-05-20",
          "2025-05-21",
          "2025-05-22",
          "2025-05-23",
          "2025-05-26",
          "2025-05-27",
          "2025-05-28",
          "2025-05-29",
          "2025-05-30",
          "2025-05-31",
          "2025-06-01",
          "2025-06-02",
          "2025-06-03",
          "2025-06-04",
          "2025-06-05",
          "2025-06-06",
          "2025-06-07",
          "2025-06-08",
          "2025-06-09",
          "2025-06-10",
          "2025-06-11",
          "2025-06-13",
          "2025-06-14",
          "2025-06-15",
          "2025-06-16",
          "2025-06-17",
          "2025-06-18",
          "2025-06-19",
          "2025-06-20",
          "2025-06-23",
          "2025-06-24",
          "2025-06-25",
          "2025-06-26",
          "2025-06-27",
          "2025-06-28",
          "2025-06-29",
          "2025-06-30",
          "2025-07-01",
          "2025-07-02",
          "2025-07-03",
          "2025-07-04",
          "2025-07-05",
          "2025-07-06",
          "2025-07-07",
          "2025-07-08",
          "2025-07-09",
          "2025-07-10",
          "2025-07-11",
          "2025-07-12",
          "2025-07-13",
          "2025-07-14",
          "2025-07-15",
          "2025-07-16",
          "2025-07-17",
          "2025-07-18",
          "2025-07-19",
          "2025-07-20",
          "2025-07-21",
          "2025-07-22",
          "2025-07-23",
          "2025-07-24",
          "2025-07-25",
          "2025-07-26",
          "2025-07-27",
          "2025-07-28"
         ],
         "y": {
          "_inputArray": {
           "0": 100,
           "1": 102.51316419339398,
           "10": 106.76673733160091,
           "100": 103.93558093414485,
           "11": 105.99740135403133,
           "12": 106.05210969021405,
           "13": 108.28489366067156,
           "14": 108.58920878068797,
           "15": 108.79436504137318,
           "16": 107.44375299186215,
           "17": 105.79566436435755,
           "18": 105.24516173151885,
           "19": 102.56445325856527,
           "2": 102.9029610886959,
           "20": 102.81747931341039,
           "21": 103.19359912466663,
           "22": 100.74540108048964,
           "23": 103.26882308691788,
           "24": 103.53210695479724,
           "25": 103.31327361006632,
           "26": 103.391916843329,
           "27": 104.45189085686933,
           "28": 106.27436230595637,
           "29": 106.42139095944745,
           "3": 103.08760172331259,
           "30": 104.01764343841893,
           "31": 104.1920262600014,
           "32": 104.74594816385148,
           "33": 105.61786227176367,
           "34": 106.39061752034466,
           "35": 105.42638309512414,
           "36": 104.68440128564592,
           "37": 103.93900020515628,
           "38": 103.48765643164879,
           "39": 103.3372085071463,
           "4": 101.38138548861384,
           "40": 101.81563290706421,
           "41": 102.13362511112632,
           "42": 105.47425288928403,
           "43": 104.8519455652055,
           "44": 105.7580523832319,
           "45": 105.56657320659238,
           "46": 103.65178144019696,
           "47": 105.87088832660878,
           "48": 107.21124256308556,
           "49": 107.10182589072011,
           "5": 101.89085686931547,
           "50": 108.71914107912193,
           "51": 107.06763318060591,
           "52": 107.5873623743418,
           "53": 107.48478424399919,
           "54": 106.39745606236752,
           "55": 105.54605758052385,
           "56": 106.6812555563154,
           "57": 106.06578677425973,
           "58": 106.09656021336254,
           "59": 106.02817479313411,
           "6": 102.85167202352459,
           "60": 106.51029200574438,
           "61": 107.21466183409699,
           "62": 107.15311495589141,
           "63": 106.83854202284073,
           "64": 105.8948232236887,
           "65": 106.05552896122548,
           "66": 106.46584148259592,
           "67": 107.28988579634822,
           "68": 106.9684743212747,
           "69": 107.76858373794708,
           "7": 104.21938042809273,
           "70": 107.81303426109554,
           "71": 108.03186760582643,
           "72": 108.10025302605484,
           "73": 108.87642754564727,
           "74": 109.22177391780072,
           "75": 109.13287287150382,
           "76": 109.22519318881214,
           "77": 109.26280516993778,
           "78": 109.20125829173222,
           "79": 107.19414620802846,
           "8": 102.58154961362239,
           "80": 105.89824249470013,
           "81": 106.02817479313411,
           "82": 107.3685290296109,
           "83": 105.9563701018943,
           "84": 106.06578677425973,
           "85": 105.80592217739178,
           "86": 108.72256035013336,
           "87": 109.41325309444028,
           "88": 109.9569171852561,
           "89": 111.82725842850306,
           "9": 105.35457840388429,
           "90": 105.65547425288928,
           "91": 106.82486493879506,
           "92": 106.87957327497777,
           "93": 106.13417219448813,
           "94": 106.2264925117965,
           "95": 107.05053682554879,
           "96": 106.2812008479792,
           "97": 105.63153935580935,
           "98": 105.62470081378652,
           "99": 105.59734664569514,
           "bdata": "AAAAAAAAWUC+BqGu16BZQJtgTh3KuVlA2ixCRJvFWUD9MK6eaFhZQB/Ih8wDeVlAM/1fy4G2WUCcAjVUCg5aQJ3g3hs4pVlAQiOeabFWWkBJ9nQ5ErFaQD4jfWzVf1pAitHhw1WDWkAD256yOxJbQInkvpi1JVtAJXJ44NYyW0A14/JyZtxaQIjgOSrsclpAq8bUurBPWkAkao8AIKRZQEQQwZRRtFlAjj6V7WPMWUDKxrumtC9ZQDauv2U00VlAAzVUCg7iWUDSe8GsDNRZQGA2YioV2VlAX+egx+scWkCe1eomj5FaQApqyRH4mlpA5L/xESEBWkB4q4IoSgxaQDcQXp29L1pAEKoyDotnWkD/x6Dg/5haQAdIUtxJW1pAIswMO80rWkBYBVGUGPxZQGZnUsM131lAFoj90pTVWUB2WF1UM3RZQJCNVlCNiFlAimDKKFpeWkDpIbFGhjZaQLKoJO6DcFpAqkZEvEJkWkBJcoDJtulZQC9QZKK8d1pAcv6G/4TNWkDaob1QhMZaQHwCTmgGLltA67QeGlTEWkC7LFtYl+VaQO1lfrQG31pAyl2N62+ZWkBNhX6b8mJaQPOl57CZq1pAHf262TWEWkApn+MKLoZaQEnFpZ3NgVpARQXNn6igWkBXSf0Evc1aQEEFrKLMyVpADBsprKq1WkBvXKDIRHlaQG8cWMmNg1pAqDfLWNCdWkD+uCd9jdJaQAA5uHv7vVpAF67YeTDxWkC0e9rACPRaQOM0bR4KAltAwg6ri2oGW0CXd49jFzhbQNUDO4sxTltAnGg3/YBIW0C6TrGQaU5bQI+GxszRUFtAekJ1auFMW0D6hzfkbMxaQFSnFs58eVpAScWlnc2BWkCMc8j6lddaQIag8So1fVpAHf262TWEWkA0wZw6lHNaQGJNxG0+LltA4GUbvXJaW0Dx6ZMhPn1bQLTwVc3x9FtA4+FHSvNpWkB670+WyrRaQMWdtO1KuFpA+9b4RpaIWkAcvXLafo5aQHI+z/47w1pAZ2vXMf+RWkCj1Qska2haQNo/Hxn7Z1pAs+hs7TpmWkBzutqO4PtZQA==",
           "dtype": "f8",
           "shape": "101"
          },
          "bdata": "AAAAAAAAWUC+BqGu16BZQJtgTh3KuVlA2ixCRJvFWUD9MK6eaFhZQB/Ih8wDeVlAM/1fy4G2WUCcAjVUCg5aQJ3g3hs4pVlAQiOeabFWWkBJ9nQ5ErFaQD4jfWzVf1pAitHhw1WDWkAD256yOxJbQInkvpi1JVtAJXJ44NYyW0A14/JyZtxaQIjgOSrsclpAq8bUurBPWkAkao8AIKRZQEQQwZRRtFlAjj6V7WPMWUDKxrumtC9ZQDauv2U00VlAAzVUCg7iWUDSe8GsDNRZQGA2YioV2VlAX+egx+scWkCe1eomj5FaQApqyRH4mlpA5L/xESEBWkB4q4IoSgxaQDcQXp29L1pAEKoyDotnWkD/x6Dg/5haQAdIUtxJW1pAIswMO80rWkBYBVGUGPxZQGZnUsM131lAFoj90pTVWUB2WF1UM3RZQJCNVlCNiFlAimDKKFpeWkDpIbFGhjZaQLKoJO6DcFpAqkZEvEJkWkBJcoDJtulZQC9QZKK8d1pAcv6G/4TNWkDaob1QhMZaQHwCTmgGLltA67QeGlTEWkC7LFtYl+VaQO1lfrQG31pAyl2N62+ZWkBNhX6b8mJaQPOl57CZq1pAHf262TWEWkApn+MKLoZaQEnFpZ3NgVpARQXNn6igWkBXSf0Evc1aQEEFrKLMyVpADBsprKq1WkBvXKDIRHlaQG8cWMmNg1pAqDfLWNCdWkD+uCd9jdJaQAA5uHv7vVpAF67YeTDxWkC0e9rACPRaQOM0bR4KAltAwg6ri2oGW0CXd49jFzhbQNUDO4sxTltAnGg3/YBIW0C6TrGQaU5bQI+GxszRUFtAekJ1auFMW0D6hzfkbMxaQFSnFs58eVpAScWlnc2BWkCMc8j6lddaQIag8So1fVpAHf262TWEWkA0wZw6lHNaQGJNxG0+LltA4GUbvXJaW0Dx6ZMhPn1bQLTwVc3x9FtA4+FHSvNpWkB670+WyrRaQMWdtO1KuFpA+9b4RpaIWkAcvXLafo5aQHI+z/47w1pAZ2vXMf+RWkCj1Qska2haQNo/Hxn7Z1pAs+hs7TpmWkBzutqO4PtZQA==",
          "dtype": "f8"
         }
        },
        {
         "mode": "lines",
         "name": "XAU",
         "type": "scatter",
         "x": [
          "2025-04-10",
          "2025-04-11",
          "2025-04-14",
          "2025-04-17",
          "2025-04-18",
          "2025-04-19",
          "2025-04-21",
          "2025-04-22",
          "2025-04-23",
          "2025-04-24",
          "2025-04-25",
          "2025-04-26",
          "2025-04-27",
          "2025-04-28",
          "2025-04-29",
          "2025-04-30",
          "2025-05-01",
          "2025-05-02",
          "2025-05-03",
          "2025-05-04",
          "2025-05-05",
          "2025-05-06",
          "2025-05-07",
          "2025-05-08",
          "2025-05-09",
          "2025-05-10",
          "2025-05-12",
          "2025-05-13",
          "2025-05-14",
          "2025-05-15",
          "2025-05-16",
          "2025-05-17",
          "2025-05-18",
          "2025-05-19",
          "2025-05-20",
          "2025-05-21",
          "2025-05-22",
          "2025-05-23",
          "2025-05-24",
          "2025-05-25",
          "2025-05-26",
          "2025-05-27",
          "2025-05-28",
          "2025-05-29",
          "2025-05-30",
          "2025-05-31",
          "2025-06-01",
          "2025-06-02",
          "2025-06-03",
          "2025-06-04",
          "2025-06-05",
          "2025-06-06",
          "2025-06-07",
          "2025-06-08",
          "2025-06-09",
          "2025-06-10",
          "2025-06-11",
          "2025-06-12",
          "2025-06-13",
          "2025-06-14",
          "2025-06-15",
          "2025-06-16",
          "2025-06-17",
          "2025-06-18",
          "2025-06-19",
          "2025-06-20",
          "2025-06-21",
          "2025-06-22",
          "2025-06-23",
          "2025-06-24",
          "2025-06-25",
          "2025-06-26",
          "2025-06-27",
          "2025-06-28",
          "2025-06-29",
          "2025-06-30",
          "2025-07-01",
          "2025-07-02",
          "2025-07-03",
          "2025-07-04",
          "2025-07-05",
          "2025-07-06",
          "2025-07-07",
          "2025-07-08",
          "2025-07-09",
          "2025-07-10",
          "2025-07-11",
          "2025-07-12",
          "2025-07-13",
          "2025-07-14",
          "2025-07-15",
          "2025-07-16",
          "2025-07-17",
          "2025-07-18",
          "2025-07-19",
          "2025-07-20",
          "2025-07-21",
          "2025-07-22",
          "2025-07-23",
          "2025-07-24",
          "2025-07-25",
          "2025-07-26",
          "2025-07-27",
          "2025-07-28"
         ],
         "y": {
          "_inputArray": {
           "0": 100,
           "1": 101.97481955483896,
           "10": 104.43460516205425,
           "100": 105.40674165795407,
           "101": 105.58907629712672,
           "102": 105.352576618338,
           "103": 104.61442049705872,
           "11": 104.36217516721882,
           "12": 104.58261428193534,
           "13": 105.31006336049981,
           "14": 104.4755438547873,
           "15": 103.6693665209669,
           "16": 101.98899064078502,
           "17": 102.50103921296937,
           "18": 102.56717094738433,
           "19": 102.43175834834418,
           "2": 101.46654993890687,
           "20": 105.02349251136836,
           "21": 108.16317533097357,
           "22": 106.01861765780292,
           "23": 104.21731517754796,
           "24": 104.66575131948555,
           "25": 104.6141055840377,
           "26": 101.88192021363697,
           "27": 102.29949487951428,
           "28": 100.18013024802548,
           "29": 102.17352967110484,
           "3": 104.74605413984656,
           "30": 101.07763235794273,
           "31": 100.99890410268684,
           "32": 101.03354453499944,
           "33": 101.69013818383364,
           "34": 103.45207653646062,
           "35": 104.4113015984985,
           "36": 103.7572272538325,
           "37": 105.68166072530767,
           "38": 105.6753624648872,
           "39": 105.80132767329661,
           "4": 104.74857344401475,
           "40": 105.38879161575572,
           "41": 103.91184954715507,
           "42": 103.79816594656558,
           "43": 104.48656581052313,
           "44": 103.5597767896507,
           "45": 103.66306826054642,
           "46": 103.77958607832515,
           "47": 106.47272223411895,
           "48": 105.6312746419439,
           "49": 106.19937773187047,
           "5": 104.74857344401475,
           "50": 105.59033594921084,
           "51": 104.2393590890196,
           "52": 104.48499124541802,
           "53": 104.52278080794085,
           "54": 104.7904568758109,
           "55": 104.66039779812814,
           "56": 105.56829203773918,
           "57": 106.50043457996901,
           "58": 108.08413216269666,
           "59": 108.2702457581216,
           "6": 107.78842883595551,
           "60": 108.88747527932784,
           "61": 106.55176540239586,
           "62": 106.67048761132176,
           "63": 106.19181981936589,
           "64": 106.47839066849735,
           "65": 106.08663887034402,
           "66": 106.45004849660525,
           "67": 107.50500711703428,
           "68": 106.09734591305882,
           "69": 104.70543036013453,
           "7": 106.8940758562485,
           "70": 104.93342738735561,
           "71": 104.80588761384107,
           "72": 103.22848829153388,
           "73": 103.42688349477875,
           "74": 103.03954047891972,
           "75": 104.01293662690365,
           "76": 105.06758033431167,
           "77": 105.55884464710847,
           "78": 104.67393905803218,
           "79": 105.0801768551526,
           "8": 104.02521823472357,
           "80": 105.07702772494237,
           "81": 105.01089599052742,
           "82": 105.08080668119466,
           "83": 103.95373297895122,
           "84": 104.30234169322432,
           "85": 104.66669605854864,
           "86": 105.4927129126935,
           "87": 105.45177421996044,
           "88": 105.47696726164233,
           "89": 105.25652814692583,
           "9": 105.65016942320531,
           "90": 104.69598296950382,
           "91": 105.32895814176125,
           "92": 105.1053698968345,
           "93": 105.42973030848879,
           "94": 105.43287943869903,
           "95": 105.41083552722739,
           "96": 106.9863453714084,
           "97": 107.92352652197464,
           "98": 106.72496756395884,
           "99": 106.14426795319135,
           "bdata": "AAAAAAAAWUA34o5xY35ZQJJjRvTbXVlA7uvcWb8vWkCjLJeg6C9aQKMsl6DoL1pAv2k4nnXyWkDBrvCJOLlaQKNZ8SydAVpAqmE2YJxpWkCIbCuS0BtaQDSowOAtF1pAEcZpjUklWkA2Qv4T2FNaQAQIfk9vHlpAxSWt5tbqWUAxjmafS39ZQORtxgYRoFlAc5Bfh0ykWUByesTtoZtZQMsBvOaAQVpA6YLxdnEKW0AR2R0IMYFaQIwf633oDVpAZR1sq5sqWkDo7oGBTSdaQCPQemFxeFlAVTWS7CqTWUCMEgVBhwtZQPuRMRwbi1lAbZ617fdEWUBVOHkL7j9ZQA4y+pclQllAU1JYOStsWUDK2GzS7txZQP2V8MNSGlpAbrZMaXbwWUCAik5UoGtaQLzofCM5a1pAFIzd80hzWkBPqDr24VhaQNL5M75b+llA7FGfJhXzWUAc4+zkIx9aQAQnB2LT41lAAITbtW/qWUCztAG95PFZQILowRRBnlpAXXzBzWZoWkDMe9GawoxaQODgbhDIZVpAu9XIqFEPWkCrergYCh9aQEZFoj11IVpAZaBv2JYyWkDkUyD1QypaQLAqkeVeZFpASLDCHgegWkC71N1rYgVbQPZA3bRLEVtALi4dZcw4W0CwltUfUKNaQALA3kTpqlpArLmixkaMWkAY+uTznZ5aQCiswn2LhVpAJaI1mM2cWkA1+l4JUuBaQCk/Wuo6hlpAiJhhxSUtWkCEeDlGvTtaQLpspKmTM1pAC+pajZ/OWUC5USYPUttZQAT1ydSHwllAMV4l9NMAWkArbnc8U0RaQAm4VhzEY1pAsm9J0SErWkCzsRqeIUVaQNHgsQXuRFpAQr4YhbJAWkDhQcnvK0VaQJRtDPYJ/VlAaCf5kFkTWkCq9fElqypaQHmVvZuIX1pA/Plq3ulcWkAOgbGhhl5aQDJjCPVqUFpA4SUn/IosWkCFJ3OmDVVaQMY4YWG+RlpAzEONs4BbWkCvFPZLtFtaQIBeGCFLWlpApTBWSCC/WkCpN/wOG/taQEx3Wt5lrlpAVTSnrzuJWkBZtSkOCFpaQITAEW2zZVpAJUaFnZBWWkD+NlmqUidaQA==",
           "dtype": "f8",
           "shape": "104"
          },
          "bdata": "AAAAAAAAWUA34o5xY35ZQJJjRvTbXVlA7uvcWb8vWkCjLJeg6C9aQKMsl6DoL1pAv2k4nnXyWkDBrvCJOLlaQKNZ8SydAVpAqmE2YJxpWkCIbCuS0BtaQDSowOAtF1pAEcZpjUklWkA2Qv4T2FNaQAQIfk9vHlpAxSWt5tbqWUAxjmafS39ZQORtxgYRoFlAc5Bfh0ykWUByesTtoZtZQMsBvOaAQVpA6YLxdnEKW0AR2R0IMYFaQIwf633oDVpAZR1sq5sqWkDo7oGBTSdaQCPQemFxeFlAVTWS7CqTWUCMEgVBhwtZQPuRMRwbi1lAbZ617fdEWUBVOHkL7j9ZQA4y+pclQllAU1JYOStsWUDK2GzS7txZQP2V8MNSGlpAbrZMaXbwWUCAik5UoGtaQLzofCM5a1pAFIzd80hzWkBPqDr24VhaQNL5M75b+llA7FGfJhXzWUAc4+zkIx9aQAQnB2LT41lAAITbtW/qWUCztAG95PFZQILowRRBnlpAXXzBzWZoWkDMe9GawoxaQODgbhDIZVpAu9XIqFEPWkCrergYCh9aQEZFoj11IVpAZaBv2JYyWkDkUyD1QypaQLAqkeVeZFpASLDCHgegWkC71N1rYgVbQPZA3bRLEVtALi4dZcw4W0CwltUfUKNaQALA3kTpqlpArLmixkaMWkAY+uTznZ5aQCiswn2LhVpAJaI1mM2cWkA1+l4JUuBaQCk/Wuo6hlpAiJhhxSUtWkCEeDlGvTtaQLpspKmTM1pAC+pajZ/OWUC5USYPUttZQAT1ydSHwllAMV4l9NMAWkArbnc8U0RaQAm4VhzEY1pAsm9J0SErWkCzsRqeIUVaQNHgsQXuRFpAQr4YhbJAWkDhQcnvK0VaQJRtDPYJ/VlAaCf5kFkTWkCq9fElqypaQHmVvZuIX1pA/Plq3ulcWkAOgbGhhl5aQDJjCPVqUFpA4SUn/IosWkCFJ3OmDVVaQMY4YWG+RlpAzEONs4BbWkCvFPZLtFtaQIBeGCFLWlpApTBWSCC/WkCpN/wOG/taQEx3Wt5lrlpAVTSnrzuJWkBZtSkOCFpaQITAEW2zZVpAJUaFnZBWWkD+NlmqUidaQA==",
          "dtype": "f8"
         }
        },
        {
         "mode": "lines",
         "name": "PLZL",
         "type": "scatter",
         "x": [
          "2025-04-10",
          "2025-04-11",
          "2025-04-12",
          "2025-04-13",
          "2025-04-14",
          "2025-04-15",
          "2025-04-16",
          "2025-04-17",
          "2025-04-18",
          "2025-04-21",
          "2025-04-22",
          "2025-04-23",
          "2025-04-24",
          "2025-04-25",
          "2025-04-26",
          "2025-04-27",
          "2025-04-28",
          "2025-04-29",
          "2025-04-30",
          "2025-05-02",
          "2025-05-03",
          "2025-05-04",
          "2025-05-05",
          "2025-05-06",
          "2025-05-07",
          "2025-05-08",
          "2025-05-10",
          "2025-05-11",
          "2025-05-12",
          "2025-05-13",
          "2025-05-14",
          "2025-05-15",
          "2025-05-16",
          "2025-05-17",
          "2025-05-18",
          "2025-05-19",
          "2025-05-20",
          "2025-05-21",
          "2025-05-22",
          "2025-05-23",
          "2025-05-26",
          "2025-05-27",
          "2025-05-28",
          "2025-05-29",
          "2025-05-30",
          "2025-05-31",
          "2025-06-01",
          "2025-06-02",
          "2025-06-03",
          "2025-06-04",
          "2025-06-05",
          "2025-06-06",
          "2025-06-07",
          "2025-06-08",
          "2025-06-09",
          "2025-06-10",
          "2025-06-11",
          "2025-06-13",
          "2025-06-14",
          "2025-06-15",
          "2025-06-16",
          "2025-06-17",
          "2025-06-18",
          "2025-06-19",
          "2025-06-20",
          "2025-06-23",
          "2025-06-24",
          "2025-06-25",
          "2025-06-26",
          "2025-06-27",
          "2025-06-28",
          "2025-06-29",
          "2025-06-30",
          "2025-07-01",
          "2025-07-02",
          "2025-07-03",
          "2025-07-04",
          "2025-07-05",
          "2025-07-06",
          "2025-07-07",
          "2025-07-08",
          "2025-07-09",
          "2025-07-10",
          "2025-07-11",
          "2025-07-12",
          "2025-07-13",
          "2025-07-14",
          "2025-07-15",
          "2025-07-16",
          "2025-07-17",
          "2025-07-18",
          "2025-07-19",
          "2025-07-20",
          "2025-07-21",
          "2025-07-22",
          "2025-07-23",
          "2025-07-24",
          "2025-07-25",
          "2025-07-26",
          "2025-07-27",
          "2025-07-28"
         ],
         "y": {
          "_inputArray": {
           "0": 100,
           "1": 102.68108108108108,
           "10": 105.63243243243244,
           "100": 104.37837837837837,
           "11": 103.2972972972973,
           "12": 102.96216216216216,
           "13": 100.36756756756758,
           "14": 99.98918918918919,
           "15": 100.24864864864864,
           "16": 98.19459459459459,
           "17": 95.23243243243243,
           "18": 94.67027027027028,
           "19": 91.98918918918919,
           "2": 104.60540540540542,
           "20": 92.94054054054055,
           "21": 93.10270270270271,
           "22": 94.3027027027027,
           "23": 97.52432432432433,
           "24": 95.31891891891892,
           "25": 94.52972972972972,
           "26": 94.34594594594596,
           "27": 94.5945945945946,
           "28": 93.87027027027027,
           "29": 95.12432432432432,
           "3": 104.04324324324324,
           "30": 92.54054054054053,
           "31": 91.05945945945946,
           "32": 89.91351351351352,
           "33": 90.6054054054054,
           "34": 90.84324324324325,
           "35": 89.49189189189188,
           "36": 92.16216216216216,
           "37": 92.21621621621622,
           "38": 90.25945945945946,
           "39": 92.94054054054055,
           "4": 102.58378378378379,
           "40": 89.8918918918919,
           "41": 89.38378378378377,
           "42": 91.28648648648648,
           "43": 90.85405405405406,
           "44": 91.1891891891892,
           "45": 91.25405405405405,
           "46": 89.16756756756756,
           "47": 93.5027027027027,
           "48": 94,
           "49": 95.23243243243243,
           "5": 102.5945945945946,
           "50": 98.58378378378379,
           "51": 94.3891891891892,
           "52": 94.42162162162163,
           "53": 94.31351351351351,
           "54": 92.52972972972972,
           "55": 93.10270270270271,
           "56": 93.72972972972973,
           "57": 95.37297297297297,
           "58": 95.42702702702704,
           "59": 95.27567567567567,
           "6": 105.40540540540539,
           "60": 94.97297297297297,
           "61": 94.2918918918919,
           "62": 93.66486486486487,
           "63": 93.67567567567568,
           "64": 92.72432432432433,
           "65": 91.98918918918919,
           "66": 92.85405405405405,
           "67": 94.89729729729729,
           "68": 96.75675675675676,
           "69": 97.14594594594594,
           "7": 104.01081081081081,
           "70": 97.09189189189189,
           "71": 96.47567567567567,
           "72": 98.23783783783784,
           "73": 100.8108108108108,
           "74": 100.9189189189189,
           "75": 100.08648648648648,
           "76": 103.13513513513513,
           "77": 102.97297297297297,
           "78": 102.89729729729729,
           "79": 101.72972972972974,
           "8": 103.63243243243244,
           "80": 99.74054054054055,
           "81": 98.83243243243244,
           "82": 100.58378378378379,
           "83": 96.75675675675676,
           "84": 96.44324324324324,
           "85": 96.21621621621622,
           "86": 99.32972972972972,
           "87": 100.64864864864865,
           "88": 101.85945945945947,
           "89": 102.21621621621621,
           "9": 105.83783783783784,
           "90": 101.24324324324326,
           "91": 101.48108108108109,
           "92": 101.50270270270269,
           "93": 105.03783783783784,
           "94": 106.48648648648648,
           "95": 106.42162162162161,
           "96": 106.64864864864865,
           "97": 103.4918918918919,
           "98": 104.14054054054054,
           "99": 103.64324324324326,
           "bdata": "AAAAAAAAWUC5ShrVlqtZQG1CUPa+JlpALOBOf8QCWkBW0qi2XKVZQGGKfNYNpllAnnWDKfJZWkALuNMfsQBaQIiO4cV56FlAWjeYIp91WkCIjuHFeWhaQDFFPusG01lA2fuaEJS9WUB5cR46hhdZQPVHLOBO/1hA/ogF3OkPWUDH8OI8dIxYQO70RyzgzldAr5JGteWqV0D1RyzgTv9WQMSL89AxPFdAalRbrpJGV0A2ISh7X5NXQBlenIeOYVhAR7XlKmnUV0AeOoYX56FXQGMBd/ojlldAYYp81g2mV0B7XxOCsndXQH/EAu70x1dAKfJZN5giV0A9dAwvzsNWQKg/YgF3elZAbEJQ9r6mVkBgE4Ky97VWQPc1ISh7X1ZApshn3WAKV0DeYIp81g1XQApB2fuakFZAxIvz0DE8V0CSz7rBFHlWQIgF3OmPWFZAJY1qy1XSVkBry1XSqLZWQMIU+awbzFZABGXva0LQVkCrpFFtuUpWQAPu9EcsYFdAAAAAAACAV0Du9Ecs4M5XQFbSqLZcpVhAj+HFeeiYV0CwCUHZ+5pXQEHZ+5oQlFdAHjqGF+chV0BqVFuukkZXQOsGU+SzbldAfk0Iyt7XV0C25SppVNtXQBrVlquk0VdA5LNuMEW+V0AraVRbrpJXQKm2XCWNaldAtG4wRT5rV0DmKmlUWy5XQPVHLOBO/1ZAastV0qg2V0CWq6RRbblXQAdT5LNuMFhAlTSqLVdJWEBenIeO4UVYQOehY3hxHlhA9NAxvDiPWEA+6wZT5DNZQKwbTJHPOllAWMCd/ogFWUCKfNYNpshZQOSzbjBFvllAlqukUW25WUDsBlPks25ZQPe+JgRl71hAVVuukka1WEBW0qi2XCVZQAdT5LNuMFhAxnnoGF4cWEDeYIp81g1YQFFtuUoa1VhAmCKfdYMpWUBxpz9iAXdZQN1ginzWjVlA+qwbTJFPWUDtfU0Iyl5ZQALu9EcsYFlAJwRl72tCWkDyWTeYIp9aQK8JQdn7mlpAmCKfdYOpWkD4NSEoe99ZQJBYwJ3+CFpAlEa15SrpWUCDKfJZNxhaQA==",
           "dtype": "f8",
           "shape": "101"
          },
          "bdata": "AAAAAAAAWUC5ShrVlqtZQG1CUPa+JlpALOBOf8QCWkBW0qi2XKVZQGGKfNYNpllAnnWDKfJZWkALuNMfsQBaQIiO4cV56FlAWjeYIp91WkCIjuHFeWhaQDFFPusG01lA2fuaEJS9WUB5cR46hhdZQPVHLOBO/1hA/ogF3OkPWUDH8OI8dIxYQO70RyzgzldAr5JGteWqV0D1RyzgTv9WQMSL89AxPFdAalRbrpJGV0A2ISh7X5NXQBlenIeOYVhAR7XlKmnUV0AeOoYX56FXQGMBd/ojlldAYYp81g2mV0B7XxOCsndXQH/EAu70x1dAKfJZN5giV0A9dAwvzsNWQKg/YgF3elZAbEJQ9r6mVkBgE4Ky97VWQPc1ISh7X1ZApshn3WAKV0DeYIp81g1XQApB2fuakFZAxIvz0DE8V0CSz7rBFHlWQIgF3OmPWFZAJY1qy1XSVkBry1XSqLZWQMIU+awbzFZABGXva0LQVkCrpFFtuUpWQAPu9EcsYFdAAAAAAACAV0Du9Ecs4M5XQFbSqLZcpVhAj+HFeeiYV0CwCUHZ+5pXQEHZ+5oQlFdAHjqGF+chV0BqVFuukkZXQOsGU+SzbldAfk0Iyt7XV0C25SppVNtXQBrVlquk0VdA5LNuMEW+V0AraVRbrpJXQKm2XCWNaldAtG4wRT5rV0DmKmlUWy5XQPVHLOBO/1ZAastV0qg2V0CWq6RRbblXQAdT5LNuMFhAlTSqLVdJWEBenIeO4UVYQOehY3hxHlhA9NAxvDiPWEA+6wZT5DNZQKwbTJHPOllAWMCd/ogFWUCKfNYNpshZQOSzbjBFvllAlqukUW25WUDsBlPks25ZQPe+JgRl71hAVVuukka1WEBW0qi2XCVZQAdT5LNuMFhAxnnoGF4cWEDeYIp81g1YQFFtuUoa1VhAmCKfdYMpWUBxpz9iAXdZQN1ginzWjVlA+qwbTJFPWUDtfU0Iyl5ZQALu9EcsYFlAJwRl72tCWkDyWTeYIp9aQK8JQdn7mlpAmCKfdYOpWkD4NSEoe99ZQJBYwJ3+CFpAlEa15SrpWUCDKfJZNxhaQA==",
          "dtype": "f8"
         }
        },
        {
         "mode": "lines",
         "name": "MGNT",
         "type": "scatter",
         "x": [
          "2025-04-10",
          "2025-04-11",
          "2025-04-12",
          "2025-04-13",
          "2025-04-14",
          "2025-04-15",
          "2025-04-16",
          "2025-04-17",
          "2025-04-18",
          "2025-04-21",
          "2025-04-22",
          "2025-04-23",
          "2025-04-24",
          "2025-04-25",
          "2025-04-26",
          "2025-04-27",
          "2025-04-28",
          "2025-04-29",
          "2025-04-30",
          "2025-05-02",
          "2025-05-03",
          "2025-05-04",
          "2025-05-05",
          "2025-05-06",
          "2025-05-07",
          "2025-05-08",
          "2025-05-10",
          "2025-05-11",
          "2025-05-12",
          "2025-05-13",
          "2025-05-14",
          "2025-05-15",
          "2025-05-16",
          "2025-05-17",
          "2025-05-18",
          "2025-05-19",
          "2025-05-20",
          "2025-05-21",
          "2025-05-22",
          "2025-05-23",
          "2025-05-26",
          "2025-05-27",
          "2025-05-28",
          "2025-05-29",
          "2025-05-30",
          "2025-05-31",
          "2025-06-01",
          "2025-06-02",
          "2025-06-03",
          "2025-06-04",
          "2025-06-05",
          "2025-06-06",
          "2025-06-07",
          "2025-06-08",
          "2025-06-09",
          "2025-06-10",
          "2025-06-11",
          "2025-06-13",
          "2025-06-14",
          "2025-06-15",
          "2025-06-16",
          "2025-06-17",
          "2025-06-18",
          "2025-06-19",
          "2025-06-20",
          "2025-06-23",
          "2025-06-24",
          "2025-06-25",
          "2025-06-26",
          "2025-06-27",
          "2025-06-28",
          "2025-06-29",
          "2025-06-30",
          "2025-07-01",
          "2025-07-02",
          "2025-07-03",
          "2025-07-04",
          "2025-07-05",
          "2025-07-06",
          "2025-07-07",
          "2025-07-08",
          "2025-07-09",
          "2025-07-10",
          "2025-07-11",
          "2025-07-12",
          "2025-07-13",
          "2025-07-14",
          "2025-07-15",
          "2025-07-16",
          "2025-07-17",
          "2025-07-18",
          "2025-07-19",
          "2025-07-20",
          "2025-07-21",
          "2025-07-22",
          "2025-07-23",
          "2025-07-24",
          "2025-07-25",
          "2025-07-26",
          "2025-07-27",
          "2025-07-28"
         ],
         "y": {
          "_inputArray": {
           "0": 100,
           "1": 99.661793584988,
           "10": 100.2072878027493,
           "100": 78.23478071132446,
           "11": 98.97447087060877,
           "12": 100.0436395374209,
           "13": 101.02552912939122,
           "14": 101.05825878245692,
           "15": 101.33100589133754,
           "16": 103.93846825223652,
           "17": 97.46890682958761,
           "18": 96.75976434649792,
           "19": 94.03229325769146,
           "2": 100.36002618372247,
           "20": 94.32686013528256,
           "21": 94.34867990399302,
           "22": 92.21034257036875,
           "23": 93.57407811477199,
           "24": 94.37049967270347,
           "25": 94.41413921012438,
           "26": 94.37049967270347,
           "27": 94.91599389046476,
           "28": 96.35609862535458,
           "29": 94.9814531965961,
           "3": 100.99279947632556,
           "30": 93.56316823041676,
           "31": 94.15230198559895,
           "32": 93.05040366572115,
           "33": 93.6613571896138,
           "34": 94.35958978834825,
           "35": 92.84311586297184,
           "36": 92.4830896792494,
           "37": 91.11935413484618,
           "38": 85.57713288239145,
           "39": 84.60615317477634,
           "4": 97.59982544185031,
           "40": 81.83504254854898,
           "41": 81.69321405193105,
           "42": 82.4787257255073,
           "43": 81.93323150774602,
           "44": 82.65328387519092,
           "45": 83.39515601134629,
           "46": 81.95505127645647,
           "47": 83.62426358280602,
           "48": 85.65350207287803,
           "49": 85.6425921885228,
           "5": 97.78529347588916,
           "50": 86.14444686886318,
           "51": 85.04254854898538,
           "52": 84.96617935849879,
           "53": 84.6279729434868,
           "54": 82.02051058258782,
           "55": 80.87497272528911,
           "56": 80.60222561640846,
           "57": 80.67859480689505,
           "58": 80.96225180013091,
           "59": 81.34409775256383,
           "6": 99.08356971416103,
           "60": 80.0676412830024,
           "61": 80.61313550076369,
           "62": 80.07855116735763,
           "63": 80.20946977962033,
           "64": 78.86755400392755,
           "65": 77.80929522147065,
           "66": 78.02749290857517,
           "67": 78.99847261619027,
           "68": 78.73663539166485,
           "69": 78.551167357626,
           "7": 99.27994763255509,
           "70": 78.98756273183504,
           "71": 78.85664411957232,
           "72": 79.26030984071569,
           "73": 81.15862971852499,
           "74": 79.94763255509491,
           "75": 79.35849879991272,
           "76": 78.61662666375736,
           "77": 78.80209469779619,
           "78": 79.02029238490073,
           "79": 78.88937377263801,
           "8": 97.59982544185031,
           "80": 77.49290857516911,
           "81": 76.42373990835696,
           "82": 76.17281256818677,
           "83": 74.07811477198342,
           "84": 74.36177176521929,
           "85": 74.36177176521929,
           "86": 76.39101025529129,
           "87": 76.83831551385555,
           "88": 78.11477198341697,
           "89": 77.87475452760201,
           "9": 98.46170630591315,
           "90": 79.02029238490073,
           "91": 79.7294348679904,
           "92": 79.90399301767401,
           "93": 80.14401047348898,
           "94": 80.94043203142046,
           "95": 80.59131573205323,
           "96": 80.10037093606807,
           "97": 80.29674885446214,
           "98": 80.42766746672486,
           "99": 79.84944359589788,
           "bdata": "AAAAAAAAWUB4DnvTWupYQKsyQ6sKF1lAeJPQBoo/WUCTA0CKY2ZYQDEtkT9CclhAflDJNFnFWECsmnmp6tFYQJMDQIpjZlhAQRCbmIydWEDAag80RA1ZQNYKErtdvlhAQ4J8/coCWUAp9e1EokFZQN1WC4O6Q1lA/4RVMy9VWUAr7CTdD/xZQMp8ypECXlhABjij+p8wWECiar0XEYJXQOfZxUbrlFdACRuExVCWV0AvLK9Adg1XQOISIrK9ZFdAK1xCRLaXV0Bu3r5BgZpXQCtcQkS2l1dAcrjWpJ+6V0Aag+NRyhZYQNZ7ESHQvldAUfLC8gpkV0Db0NNQv4lXQLz3S9A5Q1dAaBcbrVNqV0CaO+OEA5dXQPyMPJz1NVdAU1r58OoeV0Chc4Z/o8dWQFLUwb7vZFVA+4GvNssmVUBUMk1WcXVUQPqKeJ5dbFRAsrM5caOeVEBrV6UQuntUQL+8K2fPqVRANWNwPErZVECNmGOPH31UQBUPPu/z51RAR7hb+tJpVUC2l/w6IGlVQLpxFJ4+iVVAm5iMHblCVUCltPLh1T1VQB3DbbUwKFVA8VueC1CBVECPAJqN/zdUQGvST92KJlRAYbbpGG4rVEAVBZOIlT1UQOF4lLIFVlRAtZYaPFQEVED88q6cPSdUQEa3efsGBVRADz7v82cNVEB+mDoBhrdTQKJBL37Lc1NA8sydccKBU0BIH7D55r9TQLURxQglr1NAF+hzU0ajU0C3/lA6NL9TQO1320HTtlNA2yyb6qjQU0BET0P9JkpUQHwwBAOm/FNA8lHzpPHWU0B8q67PdqdTQBnV/4RVs1NAamBueEzBU0Cg2fh/67hTQDyRaNCLX1NAzhn+jR4bU0DMLHJcDwtTQDbAGdX/hFJA6g7DRCeXUkDqDsNEJ5dSQBy44E8GGVNATO8c9qY1U0B40ZZsWIdTQAcFavr7d1NAamBueEzBU0AtpZUPr+5TQDmuhwXb+VNAqnq0dzcJVEDzw9QJMDxUQNqx8B3YJVRAZ/g3emwGVECVQuju/RJUQF/JXedeG1RAZQusSF32U0CxN62lBo9TQA==",
           "dtype": "f8",
           "shape": "101"
          },
          "bdata": "AAAAAAAAWUB4DnvTWupYQKsyQ6sKF1lAeJPQBoo/WUCTA0CKY2ZYQDEtkT9CclhAflDJNFnFWECsmnmp6tFYQJMDQIpjZlhAQRCbmIydWEDAag80RA1ZQNYKErtdvlhAQ4J8/coCWUAp9e1EokFZQN1WC4O6Q1lA/4RVMy9VWUAr7CTdD/xZQMp8ypECXlhABjij+p8wWECiar0XEYJXQOfZxUbrlFdACRuExVCWV0AvLK9Adg1XQOISIrK9ZFdAK1xCRLaXV0Bu3r5BgZpXQCtcQkS2l1dAcrjWpJ+6V0Aag+NRyhZYQNZ7ESHQvldAUfLC8gpkV0Db0NNQv4lXQLz3S9A5Q1dAaBcbrVNqV0CaO+OEA5dXQPyMPJz1NVdAU1r58OoeV0Chc4Z/o8dWQFLUwb7vZFVA+4GvNssmVUBUMk1WcXVUQPqKeJ5dbFRAsrM5caOeVEBrV6UQuntUQL+8K2fPqVRANWNwPErZVECNmGOPH31UQBUPPu/z51RAR7hb+tJpVUC2l/w6IGlVQLpxFJ4+iVVAm5iMHblCVUCltPLh1T1VQB3DbbUwKFVA8VueC1CBVECPAJqN/zdUQGvST92KJlRAYbbpGG4rVEAVBZOIlT1UQOF4lLIFVlRAtZYaPFQEVED88q6cPSdUQEa3efsGBVRADz7v82cNVEB+mDoBhrdTQKJBL37Lc1NA8sydccKBU0BIH7D55r9TQLURxQglr1NAF+hzU0ajU0C3/lA6NL9TQO1320HTtlNA2yyb6qjQU0BET0P9JkpUQHwwBAOm/FNA8lHzpPHWU0B8q67PdqdTQBnV/4RVs1NAamBueEzBU0Cg2fh/67hTQDyRaNCLX1NAzhn+jR4bU0DMLHJcDwtTQDbAGdX/hFJA6g7DRCeXUkDqDsNEJ5dSQBy44E8GGVNATO8c9qY1U0B40ZZsWIdTQAcFavr7d1NAamBueEzBU0AtpZUPr+5TQDmuhwXb+VNAqnq0dzcJVEDzw9QJMDxUQNqx8B3YJVRAZ/g3emwGVECVQuju/RJUQF/JXedeG1RAZQusSF32U0CxN62lBo9TQA==",
          "dtype": "f8"
         }
        },
        {
         "mode": "lines",
         "name": "YDEX",
         "type": "scatter",
         "x": [
          "2025-04-10",
          "2025-04-11",
          "2025-04-12",
          "2025-04-13",
          "2025-04-14",
          "2025-04-15",
          "2025-04-16",
          "2025-04-17",
          "2025-04-18",
          "2025-04-21",
          "2025-04-22",
          "2025-04-23",
          "2025-04-24",
          "2025-04-25",
          "2025-04-28",
          "2025-04-29",
          "2025-04-30",
          "2025-05-02",
          "2025-05-03",
          "2025-05-04",
          "2025-05-05",
          "2025-05-06",
          "2025-05-07",
          "2025-05-08",
          "2025-05-10",
          "2025-05-11",
          "2025-05-12",
          "2025-05-13",
          "2025-05-14",
          "2025-05-15",
          "2025-05-16",
          "2025-05-17",
          "2025-05-18",
          "2025-05-19",
          "2025-05-20",
          "2025-05-21",
          "2025-05-22",
          "2025-05-23",
          "2025-05-26",
          "2025-05-27",
          "2025-05-28",
          "2025-05-29",
          "2025-05-30",
          "2025-05-31",
          "2025-06-01",
          "2025-06-02",
          "2025-06-03",
          "2025-06-04",
          "2025-06-05",
          "2025-06-06",
          "2025-06-07",
          "2025-06-08",
          "2025-06-09",
          "2025-06-10",
          "2025-06-11",
          "2025-06-13",
          "2025-06-14",
          "2025-06-15",
          "2025-06-16",
          "2025-06-17",
          "2025-06-18",
          "2025-06-19",
          "2025-06-20",
          "2025-06-23",
          "2025-06-24",
          "2025-06-25",
          "2025-06-26",
          "2025-06-27",
          "2025-06-28",
          "2025-06-29",
          "2025-06-30",
          "2025-07-01",
          "2025-07-02",
          "2025-07-03",
          "2025-07-04",
          "2025-07-05",
          "2025-07-06",
          "2025-07-07",
          "2025-07-08",
          "2025-07-09",
          "2025-07-10",
          "2025-07-11",
          "2025-07-12",
          "2025-07-13",
          "2025-07-14",
          "2025-07-15",
          "2025-07-16",
          "2025-07-17",
          "2025-07-18",
          "2025-07-19",
          "2025-07-20",
          "2025-07-21",
          "2025-07-22",
          "2025-07-23",
          "2025-07-24",
          "2025-07-25",
          "2025-07-26",
          "2025-07-27",
          "2025-07-28"
         ],
         "y": {
          "_inputArray": {
           "0": 100,
           "1": 102.7432648542256,
           "10": 107.33177512609177,
           "11": 105.42502152786322,
           "12": 105.62184770574486,
           "13": 107.55320457620863,
           "14": 105.37581498339279,
           "15": 102.22659613728626,
           "16": 101.0210357977611,
           "17": 96.08807971460203,
           "18": 96.9491942428343,
           "19": 97.14602042071596,
           "2": 103.89961864928034,
           "20": 94.96863082790011,
           "21": 98.73293147988682,
           "22": 98.19165949071227,
           "23": 98.25316767130028,
           "24": 98.33927912412351,
           "25": 99.88928527494156,
           "26": 102.18969122893344,
           "27": 101.23016361176036,
           "28": 98.92975765776848,
           "29": 98.15475458235944,
           "3": 105.4496248000984,
           "30": 98.95436093000369,
           "31": 100.75039980317382,
           "32": 101.0210357977611,
           "33": 99.74166564153032,
           "34": 99.40952146635502,
           "35": 98.17935785459466,
           "36": 99.00356747447411,
           "37": 98.6468200270636,
           "38": 96.37101734530692,
           "39": 98.22856439906508,
           "4": 101.3531799729364,
           "40": 102.47262885963832,
           "41": 101.2916717923484,
           "42": 102.64485176528477,
           "43": 102.47262885963832,
           "44": 99.95079345552959,
           "45": 101.98056341493418,
           "46": 104.12104809939721,
           "47": 103.33374338787058,
           "48": 105.35121171115757,
           "49": 102.57104194857915,
           "5": 103.16152048222413,
           "50": 103.18612375445935,
           "51": 102.48493049575593,
           "52": 100.20912781399926,
           "53": 97.89642022388978,
           "54": 98.3515807602411,
           "55": 97.92102349612499,
           "56": 98.2900725796531,
           "57": 98.53610530200515,
           "58": 98.11784967400664,
           "59": 100.18452454176405,
           "6": 104.05953991880921,
           "60": 99.36031492188461,
           "61": 99.71706236929512,
           "62": 99.53253782753106,
           "63": 98.59761348259319,
           "64": 101.0210357977611,
           "65": 101.98056341493418,
           "66": 101.74683232869972,
           "67": 102.71866158199042,
           "68": 102.66945503751998,
           "69": 102.57104194857915,
           "7": 104.62541518021897,
           "70": 102.52183540410876,
           "71": 102.55874031246155,
           "72": 101.63611760364128,
           "73": 101.40238651740681,
           "74": 100.59047853364498,
           "75": 100.46746217246894,
           "76": 100.3567474474105,
           "77": 99.88928527494156,
           "78": 100.63968507811538,
           "79": 102.3865174068151,
           "8": 103.33374338787058,
           "80": 102.53413704022635,
           "81": 98.24086603518268,
           "82": 98.2900725796531,
           "83": 98.25316767130028,
           "84": 101.93135687046377,
           "85": 104.3670808217493,
           "86": 106.51986714232993,
           "87": 104.78533644974782,
           "88": 108.27900110714725,
           "89": 108.69725673514577,
           "9": 106.1262147865666,
           "90": 108.63574855455775,
           "91": 108.14368310985361,
           "92": 107.95915856808955,
           "93": 107.57780784844384,
           "94": 105.79407061139132,
           "95": 104.49009718292533,
           "96": 105.0313691720999,
           "97": 104.88374953868865,
           "98": 102.96469430434247,
           "bdata": "AAAAAAAAWUCSSsCmka9ZQPhhGVqT+VlAKvkYp8ZcWkBMVyyAmlZZQFsyAVpWyllA5AWFgM8DWkCYXWTNBihaQEQKOg1c1VlA0CQv5xOIWkAwDL3NO9VaQC+Rfo0zW1pAE9FRWsxnWkAStCq0Z+NaQDTBSVoNWFpA2MIVjYCOWUB424emWEFZQAhqGRmjBVhAlqE1mb88WEB84QhmWElYQJ7uJwz+vVdAqBRwWeiuWEDxJCsmRIxYQOgoLeYzkFhA3ZTJv7aVWEAOLMkM6vhYQNwmruYjjFlAXE8oALtOWUCOVEMmgbtYQPWIw3/niVhAi7zdPxS9WECcY+WMBjBZQHjbh6ZYQVlAIrwqc3fvWEBOQIaZNdpYQPLwXZl6i1hAhYwSczrAWEC0qNN/ZalYQOMVib++F1hA7MCSzKCOWEC20h2NP55ZQFVTKsCqUllAn6pWQEWpWUC20h2NP55ZQAcwy8zZ/FhA+LINjcF+WUDbCYdAvwdaQEQKOg1c1VlAN1mvQHpWWkCpcofzi6RZQFiam3Ppy1lAtQbrGQmfWUDkc6BZYg1ZQBhF7vJeeVhA28iWTICWWEAVrYgM8npYQOTElIyQklhAwtScjE+iWED67FvZiodYQOcLBkDPC1lAVXBRZg/XWEAmVJBZ5O1YQD5IihkV4lhAu9ieTD+mWEB424emWEFZQPiyDY3BfllAGNfSGcxvWUCX4iWN/q1ZQJwS8VnYqllAqXKH84ukWUCxolLAZaFZQKs+umbCo1lAJgOcJrZoWUBFJ2GzwFlZQLK/eWbKJVlAwrd15uodWUDQ4z7z1BZZQA4syQzq+FhAqo+umfAoWUDCZoGzvJhZQK/WH00vollA6vRfWWqPWEDkxJSMkJJYQOgoLeYzkFhA/+LYWZt7WUC7GY9AfhdaQJyk1YBFoVpAgwHQ80IyWkCyr3Un2xFbQHqXttqfLFtAgpO0GrAoW0DEc6QaMglbQNxnntpi/VpADxzFzfrkWkD9qIoN0nJaQKohk8BdH1pAYxHY8wFCWkB2oTlajzhaQHXyLY29vVlA",
           "dtype": "f8",
           "shape": "99"
          },
          "bdata": "AAAAAAAAWUCSSsCmka9ZQPhhGVqT+VlAKvkYp8ZcWkBMVyyAmlZZQFsyAVpWyllA5AWFgM8DWkCYXWTNBihaQEQKOg1c1VlA0CQv5xOIWkAwDL3NO9VaQC+Rfo0zW1pAE9FRWsxnWkAStCq0Z+NaQDTBSVoNWFpA2MIVjYCOWUB424emWEFZQAhqGRmjBVhAlqE1mb88WEB84QhmWElYQJ7uJwz+vVdAqBRwWeiuWEDxJCsmRIxYQOgoLeYzkFhA3ZTJv7aVWEAOLMkM6vhYQNwmruYjjFlAXE8oALtOWUCOVEMmgbtYQPWIw3/niVhAi7zdPxS9WECcY+WMBjBZQHjbh6ZYQVlAIrwqc3fvWEBOQIaZNdpYQPLwXZl6i1hAhYwSczrAWEC0qNN/ZalYQOMVib++F1hA7MCSzKCOWEC20h2NP55ZQFVTKsCqUllAn6pWQEWpWUC20h2NP55ZQAcwy8zZ/FhA+LINjcF+WUDbCYdAvwdaQEQKOg1c1VlAN1mvQHpWWkCpcofzi6RZQFiam3Ppy1lAtQbrGQmfWUDkc6BZYg1ZQBhF7vJeeVhA28iWTICWWEAVrYgM8npYQOTElIyQklhAwtScjE+iWED67FvZiodYQOcLBkDPC1lAVXBRZg/XWEAmVJBZ5O1YQD5IihkV4lhAu9ieTD+mWEB424emWEFZQPiyDY3BfllAGNfSGcxvWUCX4iWN/q1ZQJwS8VnYqllAqXKH84ukWUCxolLAZaFZQKs+umbCo1lAJgOcJrZoWUBFJ2GzwFlZQLK/eWbKJVlAwrd15uodWUDQ4z7z1BZZQA4syQzq+FhAqo+umfAoWUDCZoGzvJhZQK/WH00vollA6vRfWWqPWEDkxJSMkJJYQOgoLeYzkFhA/+LYWZt7WUC7GY9AfhdaQJyk1YBFoVpAgwHQ80IyWkCyr3Un2xFbQHqXttqfLFtAgpO0GrAoW0DEc6QaMglbQNxnntpi/VpADxzFzfrkWkD9qIoN0nJaQKohk8BdH1pAYxHY8wFCWkB2oTlajzhaQHXyLY29vVlA",
          "dtype": "f8"
         }
        },
        {
         "mode": "lines",
         "name": "BTCUSDT",
         "type": "scatter",
         "x": [
          "2025-04-11",
          "2025-04-12",
          "2025-04-13",
          "2025-04-14",
          "2025-04-15",
          "2025-04-16",
          "2025-04-17",
          "2025-04-18",
          "2025-04-19",
          "2025-04-20",
          "2025-04-21",
          "2025-04-22",
          "2025-04-23",
          "2025-04-24",
          "2025-04-25",
          "2025-04-26",
          "2025-04-27",
          "2025-04-28",
          "2025-04-29",
          "2025-04-30",
          "2025-05-01",
          "2025-05-02",
          "2025-05-03",
          "2025-05-04",
          "2025-05-05",
          "2025-05-06",
          "2025-05-07",
          "2025-05-08",
          "2025-05-09",
          "2025-05-10",
          "2025-05-11",
          "2025-05-12",
          "2025-05-13",
          "2025-05-14",
          "2025-05-15",
          "2025-05-16",
          "2025-05-17",
          "2025-05-18",
          "2025-05-19",
          "2025-05-20",
          "2025-05-21",
          "2025-05-22",
          "2025-05-23",
          "2025-05-24",
          "2025-05-25",
          "2025-05-26",
          "2025-05-27",
          "2025-05-28",
          "2025-05-29",
          "2025-05-30",
          "2025-05-31",
          "2025-06-01",
          "2025-06-02",
          "2025-06-03",
          "2025-06-04",
          "2025-06-05",
          "2025-06-06",
          "2025-06-07",
          "2025-06-08",
          "2025-06-09",
          "2025-06-10",
          "2025-06-11",
          "2025-06-12",
          "2025-06-13",
          "2025-06-14",
          "2025-06-15",
          "2025-06-16",
          "2025-06-17",
          "2025-06-18",
          "2025-06-19",
          "2025-06-20",
          "2025-06-21",
          "2025-06-22",
          "2025-06-23",
          "2025-06-24",
          "2025-06-25",
          "2025-06-26",
          "2025-06-27",
          "2025-06-28",
          "2025-06-29",
          "2025-06-30",
          "2025-07-01",
          "2025-07-02",
          "2025-07-03",
          "2025-07-04",
          "2025-07-05",
          "2025-07-06",
          "2025-07-07",
          "2025-07-08",
          "2025-07-09",
          "2025-07-10",
          "2025-07-11",
          "2025-07-12",
          "2025-07-13",
          "2025-07-14",
          "2025-07-15",
          "2025-07-16",
          "2025-07-17",
          "2025-07-18",
          "2025-07-19",
          "2025-07-20",
          "2025-07-21",
          "2025-07-22",
          "2025-07-23",
          "2025-07-24",
          "2025-07-25",
          "2025-07-26",
          "2025-07-27",
          "2025-07-28"
         ],
         "y": {
          "_inputArray": {
           "0": 100,
           "1": 102.22539900315172,
           "10": 104.90304954978724,
           "100": 140.66498126711983,
           "101": 140.7880282264448,
           "102": 143.96686127114944,
           "103": 142.4075468801719,
           "104": 141.90936260235924,
           "105": 141.05582925975142,
           "106": 141.39462814873093,
           "107": 143.23085816259467,
           "108": 141.59862705498014,
           "11": 112.01350878118748,
           "12": 112.29558134291484,
           "13": 112.66772044114613,
           "14": 113.44809720949644,
           "15": 113.42662995246022,
           "16": 112.37329521196217,
           "17": 113.89603131581092,
           "18": 112.97293926325334,
           "19": 112.87459763884158,
           "2": 100.40056222626248,
           "20": 115.64843109130419,
           "21": 116.13126448140383,
           "22": 114.91038919297505,
           "23": 113.00184210652557,
           "24": 113.57102424001113,
           "25": 116.08988904186475,
           "26": 116.31667442206306,
           "27": 123.81450371059739,
           "28": 123.44416354451997,
           "29": 125.66416575121009,
           "3": 101.39669092426735,
           "30": 124.82190571676652,
           "31": 123.22205538792173,
           "32": 124.81063240860226,
           "33": 124.06035777162676,
           "34": 124.37816911881107,
           "35": 124.0186225456569,
           "36": 123.6240567599073,
           "37": 127.63795411044005,
           "38": 126.57046777033152,
           "39": 128.09380351823157,
           "4": 100.26492274186043,
           "40": 131.45240984951332,
           "41": 133.89631914495556,
           "42": 128.65471056380932,
           "43": 129.1825172577558,
           "44": 130.69386012463,
           "45": 131.1808910230887,
           "46": 130.55929999952028,
           "47": 129.20998095530493,
           "48": 126.5848592275625,
           "49": 124.69789932695952,
           "5": 100.72341058347764,
           "50": 125.40487966343179,
           "51": 126.6620933813688,
           "52": 126.91730188959833,
           "53": 126.31465961805071,
           "54": 125.48151417318678,
           "55": 121.67401430510847,
           "56": 124.99880071189742,
           "57": 126.52477489362313,
           "58": 126.72973323035446,
           "59": 132.1854147378116,
           "6": 101.82735528190466,
           "60": 132.19452932739125,
           "61": 130.25600003837724,
           "62": 126.64590299198395,
           "63": 127.1522424288942,
           "64": 126.35303683733335,
           "65": 126.58222079373684,
           "66": 128.0231654489895,
           "67": 125.34083767875389,
           "68": 125.74211947787792,
           "69": 125.45057254014016,
           "7": 101.24342190475734,
           "70": 123.81918093419746,
           "71": 122.42800673520198,
           "72": 121.0133264893959,
           "73": 126.26524894822433,
           "74": 127.18270434669981,
           "75": 128.6404390353886,
           "76": 128.2102543929923,
           "77": 128.32334726106583,
           "78": 128.6128554090292,
           "79": 129.9006509735821,
           "8": 101.99765419247136,
           "80": 128.42120917023655,
           "81": 126.68655885866148,
           "82": 130.48614342526278,
           "83": 131.3700187568659,
           "84": 129.46003252469333,
           "85": 129.69629228090204,
           "86": 130.91488892193593,
           "87": 129.76297269940562,
           "88": 130.5807672565565,
           "89": 133.3724701017476,
           "9": 102.11398513842182,
           "90": 139.10554694733207,
           "91": 140.92690578872381,
           "92": 140.76032467127513,
           "93": 142.77548847004417,
           "94": 143.7246050744278,
           "95": 141.21101714022555,
           "96": 142.26711024335955,
           "97": 142.9775685153293,
           "98": 141.43216586634176,
           "99": 141.3266285133145,
           "bdata": "AAAAAAAAWUCcxfDvbI5ZQNxzv8+iGVlASpZUYmNZWUB2EIR+9BBZQHln51tMLllABH2RY/N0WUAFBHg5lE9ZQG9Y+JDZf1lAHXBSiEuHWUA9wFaQyzlaQC5a71PdAFxAIUgCzuoSXED5ZYTuuypcQNQN65+tXFxA4lO3501bXEBhyJkR5BdcQGJmu5NYeVxAtyoLo0Q+XEDw/l9o+TdcQBy3HuV/6VxAYLAjo2YIXUBrnQjRQ7pcQB7SWi4eQFxAjARBqYtkXED8xPe9wAVdQGWPy2REFF1AIt8r1CD0XkB6cu4sbdxeQIUkEbGBal9AF3pvGpo0X0CQQc0nNs5eQJABwWbhM19AkczX5twDX0ClaT/sMxhfQCMknhwxAV9Ak6nDi/DnXkAVLHo91OhfQL0/QIuCpF9AvWE8cAADYECJgTgkem5gQJzLfKWuvGBABH2RY/MUYECJoG4u1yVgQBnpJRo0VmBAyon428llYED10hzJ5VFgQCn6+im4JmBARMllVW6lX0BCTPBhqixfQFJQZIzpWV9AIvjqvF+qX0CRGPwStbpfQJQ5GGIjlF9AdJnSINFeX0CIXuUMI2teQIo00lnsP19A43dv6ZWhX0BRywHzs65fQB1j4+ruhWBARGiRlTmGYEBcE/4mMUhgQGq9gHlWqV9AgkoHV77JX0BSqNEnmJZfQKgJARtDpV9A07l3xb0AYECF39ZI0FVfQHXNseJ+b19AKxg1LtZcX0CheN51bfReQEGKXHZkm15ADghZV9pAXkAAe7nW+ZBfQGp6km2xy19AbQIBen4UYEDBt2tnugZgQO3wWtxYCmBAoV7ygpwTYECplP0h0jxgQB9ep4t6DWBAuy6RlPCrX0BpFah8jk9gQKl0kzHXa2BA7xQhlrguYEDP3b8GSDZgQADmIcVGXWBABPa4RWo4YEDurzallVJgQM03a0brq2BAfN/9o2BjYUBXIVQ2qZ1hQP+uZ5RUmGFAeSgyzdDYYUDcJfv2L/dhQEGFBKfApmFA/fTHKozIYUAJXsQ9SN9hQFXMgk3UrWFAD9SjvXOqYUBvV8uGR5VhQPic+IY3mWFAY2sMh/D+YUCbPcGfCs1hQNSqmX8ZvWFAWplxWsmhYUAsHDbLoKxhQHtLqDBj52FAf/Ts8yezYUA=",
           "dtype": "f8",
           "shape": "109"
          },
          "bdata": "AAAAAAAAWUCcxfDvbI5ZQNxzv8+iGVlASpZUYmNZWUB2EIR+9BBZQHln51tMLllABH2RY/N0WUAFBHg5lE9ZQG9Y+JDZf1lAHXBSiEuHWUA9wFaQyzlaQC5a71PdAFxAIUgCzuoSXED5ZYTuuypcQNQN65+tXFxA4lO3501bXEBhyJkR5BdcQGJmu5NYeVxAtyoLo0Q+XEDw/l9o+TdcQBy3HuV/6VxAYLAjo2YIXUBrnQjRQ7pcQB7SWi4eQFxAjARBqYtkXED8xPe9wAVdQGWPy2REFF1AIt8r1CD0XkB6cu4sbdxeQIUkEbGBal9AF3pvGpo0X0CQQc0nNs5eQJABwWbhM19AkczX5twDX0ClaT/sMxhfQCMknhwxAV9Ak6nDi/DnXkAVLHo91OhfQL0/QIuCpF9AvWE8cAADYECJgTgkem5gQJzLfKWuvGBABH2RY/MUYECJoG4u1yVgQBnpJRo0VmBAyon428llYED10hzJ5VFgQCn6+im4JmBARMllVW6lX0BCTPBhqixfQFJQZIzpWV9AIvjqvF+qX0CRGPwStbpfQJQ5GGIjlF9AdJnSINFeX0CIXuUMI2teQIo00lnsP19A43dv6ZWhX0BRywHzs65fQB1j4+ruhWBARGiRlTmGYEBcE/4mMUhgQGq9gHlWqV9AgkoHV77JX0BSqNEnmJZfQKgJARtDpV9A07l3xb0AYECF39ZI0FVfQHXNseJ+b19AKxg1LtZcX0CheN51bfReQEGKXHZkm15ADghZV9pAXkAAe7nW+ZBfQGp6km2xy19AbQIBen4UYEDBt2tnugZgQO3wWtxYCmBAoV7ygpwTYECplP0h0jxgQB9ep4t6DWBAuy6RlPCrX0BpFah8jk9gQKl0kzHXa2BA7xQhlrguYEDP3b8GSDZgQADmIcVGXWBABPa4RWo4YEDurzallVJgQM03a0brq2BAfN/9o2BjYUBXIVQ2qZ1hQP+uZ5RUmGFAeSgyzdDYYUDcJfv2L/dhQEGFBKfApmFA/fTHKozIYUAJXsQ9SN9hQFXMgk3UrWFAD9SjvXOqYUBvV8uGR5VhQPic+IY3mWFAY2sMh/D+YUCbPcGfCs1hQNSqmX8ZvWFAWplxWsmhYUAsHDbLoKxhQHtLqDBj52FAf/Ts8yezYUA=",
          "dtype": "f8"
         }
        },
        {
         "mode": "lines",
         "name": "ETHUSDT",
         "type": "scatter",
         "x": [
          "2025-04-11",
          "2025-04-12",
          "2025-04-13",
          "2025-04-14",
          "2025-04-15",
          "2025-04-16",
          "2025-04-17",
          "2025-04-18",
          "2025-04-19",
          "2025-04-20",
          "2025-04-21",
          "2025-04-22",
          "2025-04-23",
          "2025-04-24",
          "2025-04-25",
          "2025-04-26",
          "2025-04-27",
          "2025-04-28",
          "2025-04-29",
          "2025-04-30",
          "2025-05-01",
          "2025-05-02",
          "2025-05-03",
          "2025-05-04",
          "2025-05-05",
          "2025-05-06",
          "2025-05-07",
          "2025-05-08",
          "2025-05-09",
          "2025-05-10",
          "2025-05-11",
          "2025-05-12",
          "2025-05-13",
          "2025-05-14",
          "2025-05-15",
          "2025-05-16",
          "2025-05-17",
          "2025-05-18",
          "2025-05-19",
          "2025-05-20",
          "2025-05-21",
          "2025-05-22",
          "2025-05-23",
          "2025-05-24",
          "2025-05-25",
          "2025-05-26",
          "2025-05-27",
          "2025-05-28",
          "2025-05-29",
          "2025-05-30",
          "2025-05-31",
          "2025-06-01",
          "2025-06-02",
          "2025-06-03",
          "2025-06-04",
          "2025-06-05",
          "2025-06-06",
          "2025-06-07",
          "2025-06-08",
          "2025-06-09",
          "2025-06-10",
          "2025-06-11",
          "2025-06-12",
          "2025-06-13",
          "2025-06-14",
          "2025-06-15",
          "2025-06-16",
          "2025-06-17",
          "2025-06-18",
          "2025-06-19",
          "2025-06-20",
          "2025-06-21",
          "2025-06-22",
          "2025-06-23",
          "2025-06-24",
          "2025-06-25",
          "2025-06-26",
          "2025-06-27",
          "2025-06-28",
          "2025-06-29",
          "2025-06-30",
          "2025-07-01",
          "2025-07-02",
          "2025-07-03",
          "2025-07-04",
          "2025-07-05",
          "2025-07-06",
          "2025-07-07",
          "2025-07-08",
          "2025-07-09",
          "2025-07-10",
          "2025-07-11",
          "2025-07-12",
          "2025-07-13",
          "2025-07-14",
          "2025-07-15",
          "2025-07-16",
          "2025-07-17",
          "2025-07-18",
          "2025-07-19",
          "2025-07-20",
          "2025-07-21",
          "2025-07-22",
          "2025-07-23",
          "2025-07-24",
          "2025-07-25",
          "2025-07-26",
          "2025-07-27",
          "2025-07-28"
         ],
         "y": {
          "_inputArray": {
           "0": 100,
           "1": 104.96895996729938,
           "10": 100.83603709475513,
           "100": 239.97777380374524,
           "101": 240.32649515877677,
           "102": 239.31482001890504,
           "103": 231.8064532611195,
           "104": 236.75880744960787,
           "105": 237.95186878880003,
           "106": 238.99867153769515,
           "107": 247.37756431545867,
           "108": 242.48524640421022,
           "11": 112.12413458345043,
           "12": 114.59137010448867,
           "13": 112.9748614056153,
           "14": 113.9188360626421,
           "15": 116.24811588278874,
           "16": 114.34419947372454,
           "17": 114.89666096109138,
           "18": 114.74401553279002,
           "19": 114.49748358582632,
           "2": 101.99205477352274,
           "20": 117.34729070331859,
           "21": 117.59829343688526,
           "22": 117.04008379531462,
           "23": 115.44209692665355,
           "24": 116.19446644355311,
           "25": 116.0086094576297,
           "26": 115.6183736555706,
           "27": 140.9204710931712,
           "28": 149.74452647983037,
           "29": 164.88580333648417,
           "3": 103.65263265462534,
           "30": 160.5299798175919,
           "31": 159.33244769179674,
           "32": 171.10849960401603,
           "33": 166.60641749482667,
           "34": 162.7302455100529,
           "35": 161.94977390593465,
           "36": 158.03591957693587,
           "37": 159.48573180389852,
           "38": 161.42733055718773,
           "39": 161.16610888281429,
           "4": 101.4025496257313,
           "40": 162.84009912372582,
           "41": 170.1313133893672,
           "42": 161.31364484071224,
           "43": 161.5320747004573,
           "44": 162.90141276856653,
           "45": 163.70232225429834,
           "46": 169.8662596121912,
           "47": 171.18833507906905,
           "48": 168.02429553176813,
           "49": 161.59402702909844,
           "5": 100.69488797486139,
           "50": 161.38198400735763,
           "51": 162.11391564264363,
           "52": 166.5016733515571,
           "53": 165.53981554811844,
           "54": 166.48570625654648,
           "55": 154.12206524793703,
           "56": 158.08318217816722,
           "57": 161.16163809621133,
           "58": 160.19275477096798,
           "59": 171.12382801522622,
           "6": 101.09151061492476,
           "60": 179.81759190659886,
           "61": 176.93712796668626,
           "62": 168.67255958919858,
           "63": 164.66034795493448,
           "64": 161.53973890606238,
           "65": 162.62933346958587,
           "66": 162.43389622665612,
           "67": 160.24257210740106,
           "68": 161.18335334542573,
           "69": 160.92979587665738,
           "7": 101.40446567713258,
           "70": 153.61814372940245,
           "71": 146.57793219732775,
           "72": 142.2144444728304,
           "73": 153.92982142400942,
           "74": 156.30380911018574,
           "75": 154.3807321871088,
           "76": 154.21020361239556,
           "77": 154.6962419845183,
           "78": 155.50609304345605,
           "79": 159.62432618859054,
           "8": 102.98393071558134,
           "80": 158.64905602534296,
           "81": 153.5057353805278,
           "82": 164.1238535625782,
           "83": 165.4325166696472,
           "84": 160.11355797971538,
           "85": 160.64749763686993,
           "86": 164.08170043175022,
           "87": 162.3004113123675,
           "88": 166.97940883427432,
           "89": 176.78831464118744,
           "9": 101.34059729709016,
           "90": 188.4436553151266,
           "91": 188.8600771530031,
           "92": 187.90907697417163,
           "93": 189.727409753979,
           "94": 192.39583067215082,
           "95": 200.49306389392737,
           "96": 215.2766778223437,
           "97": 222.0914339728687,
           "98": 226.55327900263137,
           "99": 229.44715530235288,
           "bdata": "AAAAAAAAWUDIq6pwAz5aQLwHTtN9f1lAuPrAu8TpWUAcYoFfw1lZQHSaaQt5LFlArZVWT9tFWUDk6AHE4llZQOk8ibj4vllA7QabWMxVWUDVDbuhgTVZQDgOLtLxB1xAGqf+AdmlXEAF0BchZD5cQLrbxTXOelxAiIxwIeEPXUChvDpdB5ZcQDLfp+RiuVxAJUNT852vXEDv2mTF1p9cQFM9yQI6Vl1AWjWOcEpmXUB0fp+7kEJdQOdo6FBL3FxAuc5hI3IMXUAtva4OjQBdQI7YGG+T51xArULLf3SdYUAUPDIp07diQGQcPYBYnGRAHQM8mPUQZEC6fFdpo+pjQBdcKdR4Y2VAF4CpxWfTZEBM99QrXldkQKwSP4xkPmRAOQfQQCbBY0Dhi2wdi+9jQH32IbGsLWRAZmiTw1AlZECfuY4X4lpkQH0bI7gzRGVAYq3nYAkqZEDHr4XBBjFkQBUml1/YXGRA3C6FbHl2ZECeBhRmuDtlQFGpSdcGZmVAQkxsB8cAZUBf3fhEAjNkQEZmhjY5LGRACPVqMqVDZEDMxkW1DdBkQFChQStGsWRAjerY54rPZEDE+2D150NjQNPaq22pwmNAfiCoIywlZECTrg0MKwZkQDV3K2b2Y2VAIIqAtil6ZkC0Isrz/B1mQAMHsJuFFWVAks0IkiGVZEBWvYaKRTFkQMnE8X8jVGRAEetWeuJNZECzhpQmwwdkQOfG1QfeJWRAX0ZI48AdZEBawFvVxzNjQIDaqWt+UmJAqrOnutzGYUCz59sYwT1jQDAP4s24iWNAV4VE9S5MY0CuF+38uUZjQHczRZ1HVmNAD8wJ6jFwY0AMQep6+vNjQNVDJBHF1GNAgfn2+y4wY0CHGL+b9oNkQILjMi3XrWRAeiJYRKIDZED/0vZMuBRkQPZNOUqdgmRA8D4v+JxJZEDlEzJRV99kQHVboN85GWZASqWhbDKOZ0DshYXAhZtnQKQzmCgXfWdAMwTS8Ea3Z0CH9BWlqgxoQDVo7i3HD2lA1M9yi9roakDdZvAG7cJrQLC7Kna0UWxA1vqiGE+ubEAVv0nsSf9tQPSn+aVyCm5AWKpuARPqbUBYyBF3zvlsQN2AjyZImG1AVr+ItXW+bUAYOwMe9d9tQANhwgEV7G5AtJJ3I4dPbkA=",
           "dtype": "f8",
           "shape": "109"
          },
          "bdata": "AAAAAAAAWUDIq6pwAz5aQLwHTtN9f1lAuPrAu8TpWUAcYoFfw1lZQHSaaQt5LFlArZVWT9tFWUDk6AHE4llZQOk8ibj4vllA7QabWMxVWUDVDbuhgTVZQDgOLtLxB1xAGqf+AdmlXEAF0BchZD5cQLrbxTXOelxAiIxwIeEPXUChvDpdB5ZcQDLfp+RiuVxAJUNT852vXEDv2mTF1p9cQFM9yQI6Vl1AWjWOcEpmXUB0fp+7kEJdQOdo6FBL3FxAuc5hI3IMXUAtva4OjQBdQI7YGG+T51xArULLf3SdYUAUPDIp07diQGQcPYBYnGRAHQM8mPUQZEC6fFdpo+pjQBdcKdR4Y2VAF4CpxWfTZEBM99QrXldkQKwSP4xkPmRAOQfQQCbBY0Dhi2wdi+9jQH32IbGsLWRAZmiTw1AlZECfuY4X4lpkQH0bI7gzRGVAYq3nYAkqZEDHr4XBBjFkQBUml1/YXGRA3C6FbHl2ZECeBhRmuDtlQFGpSdcGZmVAQkxsB8cAZUBf3fhEAjNkQEZmhjY5LGRACPVqMqVDZEDMxkW1DdBkQFChQStGsWRAjerY54rPZEDE+2D150NjQNPaq22pwmNAfiCoIywlZECTrg0MKwZkQDV3K2b2Y2VAIIqAtil6ZkC0Isrz/B1mQAMHsJuFFWVAks0IkiGVZEBWvYaKRTFkQMnE8X8jVGRAEetWeuJNZECzhpQmwwdkQOfG1QfeJWRAX0ZI48AdZEBawFvVxzNjQIDaqWt+UmJAqrOnutzGYUCz59sYwT1jQDAP4s24iWNAV4VE9S5MY0CuF+38uUZjQHczRZ1HVmNAD8wJ6jFwY0AMQep6+vNjQNVDJBHF1GNAgfn2+y4wY0CHGL+b9oNkQILjMi3XrWRAeiJYRKIDZED/0vZMuBRkQPZNOUqdgmRA8D4v+JxJZEDlEzJRV99kQHVboN85GWZASqWhbDKOZ0DshYXAhZtnQKQzmCgXfWdAMwTS8Ea3Z0CH9BWlqgxoQDVo7i3HD2lA1M9yi9roakDdZvAG7cJrQLC7Kna0UWxA1vqiGE+ubEAVv0nsSf9tQPSn+aVyCm5AWKpuARPqbUBYyBF3zvlsQN2AjyZImG1AVr+ItXW+bUAYOwMe9d9tQANhwgEV7G5AtJJ3I4dPbkA=",
          "dtype": "f8"
         }
        }
       ],
       "layout": {
        "autosize": true,
        "font": {
         "size": 14
        },
        "template": {
         "data": {
          "bar": [
           {
            "error_x": {
             "color": "#f2f5fa"
            },
            "error_y": {
             "color": "#f2f5fa"
            },
            "marker": {
             "line": {
              "color": "rgb(17,17,17)",
              "width": 0.5
             },
             "pattern": {
              "fillmode": "overlay",
              "size": 10,
              "solidity": 0.2
             }
            },
            "type": "bar"
           }
          ],
          "barpolar": [
           {
            "marker": {
             "line": {
              "color": "rgb(17,17,17)",
              "width": 0.5
             },
             "pattern": {
              "fillmode": "overlay",
              "size": 10,
              "solidity": 0.2
             }
            },
            "type": "barpolar"
           }
          ],
          "carpet": [
           {
            "aaxis": {
             "endlinecolor": "#A2B1C6",
             "gridcolor": "#506784",
             "linecolor": "#506784",
             "minorgridcolor": "#506784",
             "startlinecolor": "#A2B1C6"
            },
            "baxis": {
             "endlinecolor": "#A2B1C6",
             "gridcolor": "#506784",
             "linecolor": "#506784",
             "minorgridcolor": "#506784",
             "startlinecolor": "#A2B1C6"
            },
            "type": "carpet"
           }
          ],
          "choropleth": [
           {
            "colorbar": {
             "outlinewidth": 0,
             "ticks": ""
            },
            "type": "choropleth"
           }
          ],
          "contour": [
           {
            "colorbar": {
             "outlinewidth": 0,
             "ticks": ""
            },
            "colorscale": [
             [
              0,
              "#0d0887"
             ],
             [
              0.1111111111111111,
              "#46039f"
             ],
             [
              0.2222222222222222,
              "#7201a8"
             ],
             [
              0.3333333333333333,
              "#9c179e"
             ],
             [
              0.4444444444444444,
              "#bd3786"
             ],
             [
              0.5555555555555556,
              "#d8576b"
             ],
             [
              0.6666666666666666,
              "#ed7953"
             ],
             [
              0.7777777777777778,
              "#fb9f3a"
             ],
             [
              0.8888888888888888,
              "#fdca26"
             ],
             [
              1,
              "#f0f921"
             ]
            ],
            "type": "contour"
           }
          ],
          "contourcarpet": [
           {
            "colorbar": {
             "outlinewidth": 0,
             "ticks": ""
            },
            "type": "contourcarpet"
           }
          ],
          "heatmap": [
           {
            "colorbar": {
             "outlinewidth": 0,
             "ticks": ""
            },
            "colorscale": [
             [
              0,
              "#0d0887"
             ],
             [
              0.1111111111111111,
              "#46039f"
             ],
             [
              0.2222222222222222,
              "#7201a8"
             ],
             [
              0.3333333333333333,
              "#9c179e"
             ],
             [
              0.4444444444444444,
              "#bd3786"
             ],
             [
              0.5555555555555556,
              "#d8576b"
             ],
             [
              0.6666666666666666,
              "#ed7953"
             ],
             [
              0.7777777777777778,
              "#fb9f3a"
             ],
             [
              0.8888888888888888,
              "#fdca26"
             ],
             [
              1,
              "#f0f921"
             ]
            ],
            "type": "heatmap"
           }
          ],
          "histogram": [
           {
            "marker": {
             "pattern": {
              "fillmode": "overlay",
              "size": 10,
              "solidity": 0.2
             }
            },
            "type": "histogram"
           }
          ],
          "histogram2d": [
           {
            "colorbar": {
             "outlinewidth": 0,
             "ticks": ""
            },
            "colorscale": [
             [
              0,
              "#0d0887"
             ],
             [
              0.1111111111111111,
              "#46039f"
             ],
             [
              0.2222222222222222,
              "#7201a8"
             ],
             [
              0.3333333333333333,
              "#9c179e"
             ],
             [
              0.4444444444444444,
              "#bd3786"
             ],
             [
              0.5555555555555556,
              "#d8576b"
             ],
             [
              0.6666666666666666,
              "#ed7953"
             ],
             [
              0.7777777777777778,
              "#fb9f3a"
             ],
             [
              0.8888888888888888,
              "#fdca26"
             ],
             [
              1,
              "#f0f921"
             ]
            ],
            "type": "histogram2d"
           }
          ],
          "histogram2dcontour": [
           {
            "colorbar": {
             "outlinewidth": 0,
             "ticks": ""
            },
            "colorscale": [
             [
              0,
              "#0d0887"
             ],
             [
              0.1111111111111111,
              "#46039f"
             ],
             [
              0.2222222222222222,
              "#7201a8"
             ],
             [
              0.3333333333333333,
              "#9c179e"
             ],
             [
              0.4444444444444444,
              "#bd3786"
             ],
             [
              0.5555555555555556,
              "#d8576b"
             ],
             [
              0.6666666666666666,
              "#ed7953"
             ],
             [
              0.7777777777777778,
              "#fb9f3a"
             ],
             [
              0.8888888888888888,
              "#fdca26"
             ],
             [
              1,
              "#f0f921"
             ]
            ],
            "type": "histogram2dcontour"
           }
          ],
          "mesh3d": [
           {
            "colorbar": {
             "outlinewidth": 0,
             "ticks": ""
            },
            "type": "mesh3d"
           }
          ],
          "parcoords": [
           {
            "line": {
             "colorbar": {
              "outlinewidth": 0,
              "ticks": ""
             }
            },
            "type": "parcoords"
           }
          ],
          "pie": [
           {
            "automargin": true,
            "type": "pie"
           }
          ],
          "scatter": [
           {
            "marker": {
             "line": {
              "color": "#283442"
             }
            },
            "type": "scatter"
           }
          ],
          "scatter3d": [
           {
            "line": {
             "colorbar": {
              "outlinewidth": 0,
              "ticks": ""
             }
            },
            "marker": {
             "colorbar": {
              "outlinewidth": 0,
              "ticks": ""
             }
            },
            "type": "scatter3d"
           }
          ],
          "scattercarpet": [
           {
            "marker": {
             "colorbar": {
              "outlinewidth": 0,
              "ticks": ""
             }
            },
            "type": "scattercarpet"
           }
          ],
          "scattergeo": [
           {
            "marker": {
             "colorbar": {
              "outlinewidth": 0,
              "ticks": ""
             }
            },
            "type": "scattergeo"
           }
          ],
          "scattergl": [
           {
            "marker": {
             "line": {
              "color": "#283442"
             }
            },
            "type": "scattergl"
           }
          ],
          "scattermap": [
           {
            "marker": {
             "colorbar": {
              "outlinewidth": 0,
              "ticks": ""
             }
            },
            "type": "scattermap"
           }
          ],
          "scattermapbox": [
           {
            "marker": {
             "colorbar": {
              "outlinewidth": 0,
              "ticks": ""
             }
            },
            "type": "scattermapbox"
           }
          ],
          "scatterpolar": [
           {
            "marker": {
             "colorbar": {
              "outlinewidth": 0,
              "ticks": ""
             }
            },
            "type": "scatterpolar"
           }
          ],
          "scatterpolargl": [
           {
            "marker": {
             "colorbar": {
              "outlinewidth": 0,
              "ticks": ""
             }
            },
            "type": "scatterpolargl"
           }
          ],
          "scatterternary": [
           {
            "marker": {
             "colorbar": {
              "outlinewidth": 0,
              "ticks": ""
             }
            },
            "type": "scatterternary"
           }
          ],
          "surface": [
           {
            "colorbar": {
             "outlinewidth": 0,
             "ticks": ""
            },
            "colorscale": [
             [
              0,
              "#0d0887"
             ],
             [
              0.1111111111111111,
              "#46039f"
             ],
             [
              0.2222222222222222,
              "#7201a8"
             ],
             [
              0.3333333333333333,
              "#9c179e"
             ],
             [
              0.4444444444444444,
              "#bd3786"
             ],
             [
              0.5555555555555556,
              "#d8576b"
             ],
             [
              0.6666666666666666,
              "#ed7953"
             ],
             [
              0.7777777777777778,
              "#fb9f3a"
             ],
             [
              0.8888888888888888,
              "#fdca26"
             ],
             [
              1,
              "#f0f921"
             ]
            ],
            "type": "surface"
           }
          ],
          "table": [
           {
            "cells": {
             "fill": {
              "color": "#506784"
             },
             "line": {
              "color": "rgb(17,17,17)"
             }
            },
            "header": {
             "fill": {
              "color": "#2a3f5f"
             },
             "line": {
              "color": "rgb(17,17,17)"
             }
            },
            "type": "table"
           }
          ]
         },
         "layout": {
          "annotationdefaults": {
           "arrowcolor": "#f2f5fa",
           "arrowhead": 0,
           "arrowwidth": 1
          },
          "autotypenumbers": "strict",
          "coloraxis": {
           "colorbar": {
            "outlinewidth": 0,
            "ticks": ""
           }
          },
          "colorscale": {
           "diverging": [
            [
             0,
             "#8e0152"
            ],
            [
             0.1,
             "#c51b7d"
            ],
            [
             0.2,
             "#de77ae"
            ],
            [
             0.3,
             "#f1b6da"
            ],
            [
             0.4,
             "#fde0ef"
            ],
            [
             0.5,
             "#f7f7f7"
            ],
            [
             0.6,
             "#e6f5d0"
            ],
            [
             0.7,
             "#b8e186"
            ],
            [
             0.8,
             "#7fbc41"
            ],
            [
             0.9,
             "#4d9221"
            ],
            [
             1,
             "#276419"
            ]
           ],
           "sequential": [
            [
             0,
             "#0d0887"
            ],
            [
             0.1111111111111111,
             "#46039f"
            ],
            [
             0.2222222222222222,
             "#7201a8"
            ],
            [
             0.3333333333333333,
             "#9c179e"
            ],
            [
             0.4444444444444444,
             "#bd3786"
            ],
            [
             0.5555555555555556,
             "#d8576b"
            ],
            [
             0.6666666666666666,
             "#ed7953"
            ],
            [
             0.7777777777777778,
             "#fb9f3a"
            ],
            [
             0.8888888888888888,
             "#fdca26"
            ],
            [
             1,
             "#f0f921"
            ]
           ],
           "sequentialminus": [
            [
             0,
             "#0d0887"
            ],
            [
             0.1111111111111111,
             "#46039f"
            ],
            [
             0.2222222222222222,
             "#7201a8"
            ],
            [
             0.3333333333333333,
             "#9c179e"
            ],
            [
             0.4444444444444444,
             "#bd3786"
            ],
            [
             0.5555555555555556,
             "#d8576b"
            ],
            [
             0.6666666666666666,
             "#ed7953"
            ],
            [
             0.7777777777777778,
             "#fb9f3a"
            ],
            [
             0.8888888888888888,
             "#fdca26"
            ],
            [
             1,
             "#f0f921"
            ]
           ]
          },
          "colorway": [
           "#636efa",
           "#EF553B",
           "#00cc96",
           "#ab63fa",
           "#FFA15A",
           "#19d3f3",
           "#FF6692",
           "#B6E880",
           "#FF97FF",
           "#FECB52"
          ],
          "font": {
           "color": "#f2f5fa"
          },
          "geo": {
           "bgcolor": "rgb(17,17,17)",
           "lakecolor": "rgb(17,17,17)",
           "landcolor": "rgb(17,17,17)",
           "showlakes": true,
           "showland": true,
           "subunitcolor": "#506784"
          },
          "hoverlabel": {
           "align": "left"
          },
          "hovermode": "closest",
          "mapbox": {
           "style": "dark"
          },
          "paper_bgcolor": "rgb(17,17,17)",
          "plot_bgcolor": "rgb(17,17,17)",
          "polar": {
           "angularaxis": {
            "gridcolor": "#506784",
            "linecolor": "#506784",
            "ticks": ""
           },
           "bgcolor": "rgb(17,17,17)",
           "radialaxis": {
            "gridcolor": "#506784",
            "linecolor": "#506784",
            "ticks": ""
           }
          },
          "scene": {
           "xaxis": {
            "backgroundcolor": "rgb(17,17,17)",
            "gridcolor": "#506784",
            "gridwidth": 2,
            "linecolor": "#506784",
            "showbackground": true,
            "ticks": "",
            "zerolinecolor": "#C8D4E3"
           },
           "yaxis": {
            "backgroundcolor": "rgb(17,17,17)",
            "gridcolor": "#506784",
            "gridwidth": 2,
            "linecolor": "#506784",
            "showbackground": true,
            "ticks": "",
            "zerolinecolor": "#C8D4E3"
           },
           "zaxis": {
            "backgroundcolor": "rgb(17,17,17)",
            "gridcolor": "#506784",
            "gridwidth": 2,
            "linecolor": "#506784",
            "showbackground": true,
            "ticks": "",
            "zerolinecolor": "#C8D4E3"
           }
          },
          "shapedefaults": {
           "line": {
            "color": "#f2f5fa"
           }
          },
          "sliderdefaults": {
           "bgcolor": "#C8D4E3",
           "bordercolor": "rgb(17,17,17)",
           "borderwidth": 1,
           "tickwidth": 0
          },
          "ternary": {
           "aaxis": {
            "gridcolor": "#506784",
            "linecolor": "#506784",
            "ticks": ""
           },
           "baxis": {
            "gridcolor": "#506784",
            "linecolor": "#506784",
            "ticks": ""
           },
           "bgcolor": "rgb(17,17,17)",
           "caxis": {
            "gridcolor": "#506784",
            "linecolor": "#506784",
            "ticks": ""
           }
          },
          "title": {
           "x": 0.05
          },
          "updatemenudefaults": {
           "bgcolor": "#506784",
           "borderwidth": 0
          },
          "xaxis": {
           "automargin": true,
           "gridcolor": "#283442",
           "linecolor": "#506784",
           "ticks": "",
           "title": {
            "standoff": 15
           },
           "zerolinecolor": "#283442",
           "zerolinewidth": 2
          },
          "yaxis": {
           "automargin": true,
           "gridcolor": "#283442",
           "linecolor": "#506784",
           "ticks": "",
           "title": {
            "standoff": 15
           },
           "zerolinecolor": "#283442",
           "zerolinewidth": 2
          }
         }
        },
        "title": {
         "text": "Темпы прироста всех тикеров (нормализация к 100%)",
         "x": 0.5
        },
        "xaxis": {
         "autorange": true,
         "range": [
          "2025-04-10",
          "2025-07-28"
         ],
         "showgrid": false,
         "title": {
          "text": "Дата"
         },
         "type": "date"
        },
        "yaxis": {
         "autorange": true,
         "range": [
          64.45036757512369,
          257.0053115123184
         ],
         "showgrid": false,
         "title": {
          "text": "Темп прироста (%)"
         },
         "type": "linear"
        }
       }
      }
     },
     "metadata": {},
     "output_type": "display_data"
    }
   ],
   "source": [
    "fig = go.Figure()\n",
    "df.columns = df.columns.str.capitalize()\n",
    "for ticker in df['Ticker'].unique():\n",
    "    _ = df[df['Ticker'] == ticker].copy()\n",
    "    \n",
    "    '''Убираю ошибку с лишней линией, проверю дубликаты и пропуски после'''\n",
    "    _ = _.drop_duplicates(subset=['Date']).sort_values(by='Date')\n",
    "    if _['Close'].isnull().any():\n",
    "        _['Close'] = _['Close'].fillna(method='ffill')  # Заполнение пропусков предыдущим значением\n",
    "    \n",
    "\n",
    "    _['Growth'] = (_['Close'] / _['Close'].iloc[0]) * 100  # Нормализация, первое значение = 100%\n",
    "    fig.add_trace(go.Scatter(\n",
    "        x=_['Date'],\n",
    "        y=_['Growth'],\n",
    "        mode='lines',\n",
    "        name=ticker,\n",
    "    ))\n",
    "\n",
    "fig.update_layout(\n",
    "    template=\"plotly_dark\",\n",
    "    title=\"Темпы прироста всех тикеров (нормализация к 100%)\",\n",
    "    title_x=0.5,\n",
    "    xaxis_title=\"Дата\",\n",
    "    yaxis_title=\"Темп прироста (%)\",\n",
    "    xaxis=dict(showgrid=False),\n",
    "    yaxis=dict(showgrid=False),\n",
    "    font=dict(size=14),\n",
    ")\n",
    "\n",
    "fig.show()\n"
   ]
  },
  {
   "cell_type": "markdown",
   "metadata": {},
   "source": [
    "## Анализ выбросов"
   ]
  },
  {
   "cell_type": "code",
   "execution_count": 14,
   "metadata": {},
   "outputs": [
    {
     "data": {
      "text/plain": [
       "Index(['Date', 'Open', 'High', 'Low', 'Close', 'Volume'], dtype='object')"
      ]
     },
     "execution_count": 14,
     "metadata": {},
     "output_type": "execute_result"
    }
   ],
   "source": [
    "df_0 = df.copy()\n",
    "df = df[df['Ticker'] == 'SBER']\n",
    "df = df[['Date', 'Open', 'High', 'Low', 'Close', 'Volume']]\n",
    "df.columns"
   ]
  },
  {
   "cell_type": "code",
   "execution_count": 15,
   "metadata": {},
   "outputs": [
    {
     "name": "stdout",
     "output_type": "stream",
     "text": [
      "Найдено выбросов: 4\n"
     ]
    }
   ],
   "source": [
    "df['Outlier'] = False  # зануляем стартовое значение\n",
    "\n",
    "\n",
    "numeric_cols = ['Open', 'High', 'Low', 'Close', 'Volume']\n",
    "\n",
    "# --- Метод 1: Z-оценка ---\n",
    "z_threshold = 4\n",
    "\n",
    "z_scores = np.abs(stats.zscore(df[numeric_cols], nan_policy='omit'))\n",
    "z_outliers = (z_scores > z_threshold).any(axis=1)\n",
    "\n",
    "# --- Метод 2: IQR ---\n",
    "iqr_outliers = pd.Series([False] * len(df))\n",
    "\n",
    "for col in numeric_cols:\n",
    "    Q1 = df[col].quantile(0.25)\n",
    "    Q3 = df[col].quantile(0.75)\n",
    "    IQR = Q3 - Q1\n",
    "    lower = Q1 - 1.5 * IQR\n",
    "    upper = Q3 + 1.5 * IQR\n",
    "    iqr_outliers |= (df[col] < lower) | (df[col] > upper)\n",
    "\n",
    "# Объединяем оба метода (можно использовать только один по желанию)\n",
    "df['Outlier'] = iqr_outliers | z_outliers #\n",
    "\n",
    "\n",
    "outliers_df = df[df['Outlier'] == True]\n",
    "print(f\"Найдено выбросов: {len(outliers_df)}\")"
   ]
  },
  {
   "cell_type": "code",
   "execution_count": 16,
   "metadata": {},
   "outputs": [],
   "source": [
    "df['Date'] = pd.to_datetime(df['Date']) \n",
    "df.set_index('Date', inplace=True)"
   ]
  },
  {
   "cell_type": "code",
   "execution_count": 17,
   "metadata": {},
   "outputs": [
    {
     "data": {
      "image/png": "[encoded data removed]",
      "text/plain": [
       "<Figure size 1200x600 with 1 Axes>"
      ]
     },
     "metadata": {},
     "output_type": "display_data"
    }
   ],
   "source": [
    "resampled_df = df.copy()\n",
    "resampled_df['MA_5'] = resampled_df['Close'].rolling(window=5).mean()\n",
    "\n",
    "outliers = df[df['Outlier'] == True].copy()\n",
    "\n",
    "plt.figure(figsize=(12, 6))\n",
    "\n",
    "plt.plot(df.index, df['Close'], label='Close', color='lightgray', linestyle='--')\n",
    "\n",
    "plt.scatter(outliers.index, outliers['Close'], color='red', label='Выбросы', zorder=5)\n",
    "plt.xticks(rotation=45) \n",
    "\n",
    "plt.title(\"График цены закрытия с выбросами\")\n",
    "plt.xlabel(\"Дата\")\n",
    "plt.ylabel(\"Цена\")\n",
    "plt.legend()\n",
    "plt.tight_layout()\n",
    "plt.show()"
   ]
  },
  {
   "cell_type": "markdown",
   "metadata": {},
   "source": [
    "## Модель с трансформером"
   ]
  },
  {
   "cell_type": "code",
   "execution_count": null,
   "metadata": {},
   "outputs": [],
   "source": []
  },
  {
   "cell_type": "code",
   "execution_count": 18,
   "metadata": {},
   "outputs": [],
   "source": [
    "# !git clone https://github.com/thuml/Time-Series-Library.git"
   ]
  },
  {
   "cell_type": "code",
   "execution_count": 19,
   "metadata": {},
   "outputs": [
    {
     "name": "stdout",
     "output_type": "stream",
     "text": [
      "⚠️ GPU не найден, будет использоваться CPU\n",
      "Путь 'C:\\YandexDisk\\Code\\education\\FinML\\Time-Series-Library' успешно добавлен в sys.path.\n",
      "Модель TimesNet успешно импортирована.\n"
     ]
    }
   ],
   "source": [
    "device = torch.device(\"cuda\" if torch.cuda.is_available() else \"cpu\")\n",
    "if torch.cuda.is_available():\n",
    "    print(f\"✅ Найден GPU: {torch.cuda.get_device_name(0)}\")\n",
    "else:\n",
    "    print(\"⚠️ GPU не найден, будет использоваться CPU\")\n",
    "\n",
    "project_path = r'C:\\YandexDisk\\Code\\education\\FinML\\Time-Series-Library' \n",
    "if not os.path.isdir(project_path):\n",
    "    raise FileNotFoundError(f\"Ошибка: Папка проекта не найдена по пути '{project_path}'.\")\n",
    "if project_path not in sys.path:\n",
    "    sys.path.append(project_path)\n",
    "    print(f\"Путь '{project_path}' успешно добавлен в sys.path.\")\n",
    "\n",
    "try:\n",
    "    from models.TimesNet import Model as TimesNetModel\n",
    "    print(\"Модель TimesNet успешно импортирована.\")\n",
    "except (ModuleNotFoundError, ImportError) as e:\n",
    "    print(f\"Критическая ошибка импорта: {e}\")\n",
    "    exit()\n"
   ]
  },
  {
   "cell_type": "code",
   "execution_count": 20,
   "metadata": {},
   "outputs": [
    {
     "name": "stdout",
     "output_type": "stream",
     "text": [
      "Train: (54, 10, 13), Val: (11, 10, 13), Test: (13, 10, 13)\n",
      "\n",
      "--- Баланс классов в обучающей выборке ---\n",
      "Класс 'Sell': 21 примеров\n",
      "Класс 'Hold': 3 примеров\n",
      "Класс 'Buy': 30 примеров\n"
     ]
    }
   ],
   "source": [
    "threshold = 0.001\n",
    "df[\"target\"] = 0\n",
    "df.loc[df[\"Close\"].shift(-3) > df[\"Close\"] * (1 + threshold), \"target\"] = 1\n",
    "df.loc[df[\"Close\"].shift(-3) < df[\"Close\"] * (1 - threshold), \"target\"] = -1\n",
    "df.dropna(subset=[\"target\"], inplace=True)\n",
    "df[\"target\"] = df[\"target\"] + 1\n",
    "df[\"target\"] = df[\"target\"].astype(int)\n",
    "df = df.iloc[:-1]\n",
    "\n",
    "for i in range(1, 6):\n",
    "    df[f'Close_lag_{i}'] = df['Close'].shift(i)\n",
    "df['SMA_10'] = df['Close'].rolling(window=10).mean()\n",
    "delta = df['Close'].diff()\n",
    "gain = (delta.where(delta > 0, 0)).rolling(window=14).mean()\n",
    "loss = (-delta.where(delta < 0, 0)).rolling(window=14).mean()\n",
    "rs = gain / loss\n",
    "df['RSI'] = 100 - (100 / (1 + rs))\n",
    "df.dropna(inplace=True)\n",
    "\n",
    "features = [col for col in df.columns if col != 'target']\n",
    "scaler = MinMaxScaler()\n",
    "df[features] = scaler.fit_transform(df[features])\n",
    "\n",
    "\n",
    "\n",
    "def create_sequences(input_data, target_data, window_size):\n",
    "    X, y = [], []\n",
    "    for i in range(len(input_data) - window_size):\n",
    "        X.append(input_data[i:i + window_size])\n",
    "        y.append(target_data[i + window_size])\n",
    "    return np.array(X, dtype=np.float32), np.array(y, dtype=np.int64)\n",
    "\n",
    "window_size = 10\n",
    "X_all, y_all = create_sequences(df[features].values, df['target'].values, window_size)\n",
    "\n",
    "train_size = int(len(X_all) * 0.7)\n",
    "val_size = int(len(X_all) * 0.15)\n",
    "X_train, y_train = X_all[:train_size], y_all[:train_size]\n",
    "X_val, y_val = X_all[train_size:train_size + val_size], y_all[train_size:train_size + val_size]\n",
    "X_test, y_test = X_all[train_size + val_size:], y_all[train_size + val_size:]\n",
    "\n",
    "print(f\"Train: {X_train.shape}, Val: {X_val.shape}, Test: {X_test.shape}\")\n",
    "\n",
    "print(\"\\n--- Баланс классов в обучающей выборке ---\")\n",
    "class_counts = np.bincount(y_train)\n",
    "class_names = ['Sell', 'Hold', 'Buy'] \n",
    "for i, count in enumerate(class_counts):\n",
    "    print(f\"Класс '{class_names[i]}': {count} примеров\")\n",
    "\n",
    "\n",
    "batch_size = 16\n",
    "\n",
    "train_dataset = TensorDataset(torch.from_numpy(X_train), torch.from_numpy(y_train))\n",
    "val_dataset = TensorDataset(torch.from_numpy(X_val), torch.from_numpy(y_val))\n",
    "test_dataset = TensorDataset(torch.from_numpy(X_test), torch.from_numpy(y_test))\n",
    "\n",
    "train_loader = DataLoader(train_dataset, shuffle=True, batch_size=batch_size)\n",
    "val_loader = DataLoader(val_dataset, shuffle=False, batch_size=batch_size)\n",
    "test_loader = DataLoader(test_dataset, shuffle=False, batch_size=batch_size)\n",
    "\n",
    "\n"
   ]
  },
  {
   "cell_type": "code",
   "execution_count": 21,
   "metadata": {},
   "outputs": [],
   "source": [
    "class TimesNetForClassification(nn.Module):\n",
    "    def __init__(self, configs, num_classes):\n",
    "        super().__init__()\n",
    "        # Инициализируем базовую модель TimesNet, чтобы получить доступ к ее слоям\n",
    "        self.timesnet = TimesNetModel(configs)\n",
    "        \n",
    "        # Добавляем слой для адаптации\n",
    "        self.flatten = nn.Flatten()\n",
    "        self.classification_head = nn.Linear(configs.seq_len * configs.d_model, num_classes)\n",
    "\n",
    "    def forward(self, x_enc):\n",
    "        # 1. Получаем эмбеддинги входных данных\n",
    "        enc_out = self.timesnet.enc_embedding(x_enc, None)\n",
    "\n",
    "        # 2. Пропускаем эмбеддинги через основные блоки TimesNet. т.к. self.timesnet.model - это nn.ModuleList, то используем цикл?\n",
    "        for layer in self.timesnet.model:\n",
    "            enc_out = layer(enc_out)\n",
    "        \n",
    "        # 3. Превращаем в одномерный вектор\n",
    "        x = self.flatten(enc_out)\n",
    "        \n",
    "        # 4. Пропускаем вектор признаков через слой классификации\n",
    "        output = self.classification_head(x)\n",
    "        \n",
    "        return output\n",
    "\n",
    "# Конфигурация TimesNet\n",
    "class Config:\n",
    "    task_name = 'classification'\n",
    "    seq_len = window_size\n",
    "    pred_len = 0\n",
    "    label_len = 3\n",
    "    enc_in = len(features)\n",
    "    d_model = 64\n",
    "    e_layers = 2\n",
    "    d_ff = 64\n",
    "    top_k = 5\n",
    "    dropout = 0.1\n",
    "    num_class = 3\n",
    "    num_kernels = 6\n",
    "    embed = 'timeF'\n",
    "    freq = 'h'\n",
    "    activation = 'gelu'\n",
    "    factor = 3\n",
    "    batch_size = 32\n",
    "    learning_rate = 1e-4\n",
    "    train_epochs = 10\n",
    "    patience = 3\n",
    "    gpu = 0\n",
    "    use_amp = False\n",
    "    moving_avg = 10\n",
    "\n",
    "configs = Config()\n",
    "model = TimesNetForClassification(configs, num_classes=3).to(device)"
   ]
  },
  {
   "cell_type": "code",
   "execution_count": 22,
   "metadata": {},
   "outputs": [
    {
     "name": "stdout",
     "output_type": "stream",
     "text": [
      "Эпоха [1/10], Loss: 1.2165, Val Loss: 1.3820, Val Acc: 45.45%\n",
      "Эпоха [2/10], Loss: 0.9672, Val Loss: 1.2547, Val Acc: 45.45%\n",
      "Эпоха [3/10], Loss: 0.7648, Val Loss: 1.2184, Val Acc: 45.45%\n",
      "Эпоха [4/10], Loss: 0.7942, Val Loss: 1.0929, Val Acc: 45.45%\n",
      "Эпоха [5/10], Loss: 0.7846, Val Loss: 1.0155, Val Acc: 54.55%\n",
      "Эпоха [6/10], Loss: 0.7794, Val Loss: 1.1546, Val Acc: 45.45%\n",
      "Эпоха [7/10], Loss: 0.8456, Val Loss: 1.2570, Val Acc: 45.45%\n",
      "Эпоха [8/10], Loss: 0.7293, Val Loss: 1.0145, Val Acc: 45.45%\n",
      "Эпоха [9/10], Loss: 0.7051, Val Loss: 1.1079, Val Acc: 45.45%\n",
      "Эпоха [10/10], Loss: 0.7778, Val Loss: 1.3588, Val Acc: 45.45%\n"
     ]
    }
   ],
   "source": [
    "epochs = 10\n",
    "learning_rate = 0.001\n",
    "\n",
    "criterion = nn.CrossEntropyLoss()\n",
    "optimizer = torch.optim.Adam(model.parameters(), lr=learning_rate)\n",
    "\n",
    "for epoch in range(epochs):\n",
    "    model.train()\n",
    "    total_loss = 0\n",
    "    \n",
    "    # DataLoader возвращает только данные и метки класса\n",
    "    for inputs, labels in train_loader:\n",
    "        inputs, labels = inputs.to(device), labels.to(device)\n",
    "        \n",
    "        optimizer.zero_grad()\n",
    "        \n",
    "        # Вызов модели\n",
    "        outputs = model(inputs)\n",
    "        loss = criterion(outputs, labels)\n",
    "        loss.backward()\n",
    "        optimizer.step()\n",
    "        \n",
    "        total_loss += loss.item()\n",
    "\n",
    "    # Валидация\n",
    "    model.eval()\n",
    "    val_loss = 0\n",
    "    correct = 0\n",
    "    total = 0\n",
    "    with torch.no_grad():\n",
    "        for inputs, labels in val_loader:\n",
    "            inputs, labels = inputs.to(device), labels.to(device)\n",
    "            outputs = model(inputs)\n",
    "            loss = criterion(outputs, labels)\n",
    "            val_loss += loss.item()\n",
    "            _, predicted = torch.max(outputs.data, 1)\n",
    "            total += labels.size(0)\n",
    "            correct += (predicted == labels).sum().item()\n",
    "\n",
    "    avg_train_loss = total_loss / len(train_loader)\n",
    "    avg_val_loss = val_loss / len(val_loader)\n",
    "    val_accuracy = 100 * correct / total\n",
    "    \n",
    "    print(f'Эпоха [{epoch+1}/{epochs}], Loss: {avg_train_loss:.4f}, Val Loss: {avg_val_loss:.4f}, Val Acc: {val_accuracy:.2f}%')"
   ]
  },
  {
   "cell_type": "code",
   "execution_count": 23,
   "metadata": {},
   "outputs": [
    {
     "name": "stdout",
     "output_type": "stream",
     "text": [
      "\n",
      "--- Отчет по классификации TimesNet ---\n",
      "              precision    recall  f1-score   support\n",
      "\n",
      "        Sell       0.00      0.00      0.00        10\n",
      "        Hold       0.00      0.00      0.00         0\n",
      "         Buy       0.23      1.00      0.38         3\n",
      "\n",
      "    accuracy                           0.23        13\n",
      "   macro avg       0.08      0.33      0.12        13\n",
      "weighted avg       0.05      0.23      0.09        13\n",
      "\n"
     ]
    },
    {
     "name": "stderr",
     "output_type": "stream",
     "text": [
      "C:\\Users\\fd\\anaconda3\\envs\\work_env\\Lib\\site-packages\\sklearn\\metrics\\_classification.py:1565: UndefinedMetricWarning:\n",
      "\n",
      "Precision is ill-defined and being set to 0.0 in labels with no predicted samples. Use `zero_division` parameter to control this behavior.\n",
      "\n",
      "C:\\Users\\fd\\anaconda3\\envs\\work_env\\Lib\\site-packages\\sklearn\\metrics\\_classification.py:1565: UndefinedMetricWarning:\n",
      "\n",
      "Recall is ill-defined and being set to 0.0 in labels with no true samples. Use `zero_division` parameter to control this behavior.\n",
      "\n",
      "C:\\Users\\fd\\anaconda3\\envs\\work_env\\Lib\\site-packages\\sklearn\\metrics\\_classification.py:1565: UndefinedMetricWarning:\n",
      "\n",
      "F-score is ill-defined and being set to 0.0 in labels with no true nor predicted samples. Use `zero_division` parameter to control this behavior.\n",
      "\n",
      "C:\\Users\\fd\\anaconda3\\envs\\work_env\\Lib\\site-packages\\sklearn\\metrics\\_classification.py:1565: UndefinedMetricWarning:\n",
      "\n",
      "Precision is ill-defined and being set to 0.0 in labels with no predicted samples. Use `zero_division` parameter to control this behavior.\n",
      "\n",
      "C:\\Users\\fd\\anaconda3\\envs\\work_env\\Lib\\site-packages\\sklearn\\metrics\\_classification.py:1565: UndefinedMetricWarning:\n",
      "\n",
      "Recall is ill-defined and being set to 0.0 in labels with no true samples. Use `zero_division` parameter to control this behavior.\n",
      "\n",
      "C:\\Users\\fd\\anaconda3\\envs\\work_env\\Lib\\site-packages\\sklearn\\metrics\\_classification.py:1565: UndefinedMetricWarning:\n",
      "\n",
      "F-score is ill-defined and being set to 0.0 in labels with no true nor predicted samples. Use `zero_division` parameter to control this behavior.\n",
      "\n",
      "C:\\Users\\fd\\anaconda3\\envs\\work_env\\Lib\\site-packages\\sklearn\\metrics\\_classification.py:1565: UndefinedMetricWarning:\n",
      "\n",
      "Precision is ill-defined and being set to 0.0 in labels with no predicted samples. Use `zero_division` parameter to control this behavior.\n",
      "\n",
      "C:\\Users\\fd\\anaconda3\\envs\\work_env\\Lib\\site-packages\\sklearn\\metrics\\_classification.py:1565: UndefinedMetricWarning:\n",
      "\n",
      "Recall is ill-defined and being set to 0.0 in labels with no true samples. Use `zero_division` parameter to control this behavior.\n",
      "\n",
      "C:\\Users\\fd\\anaconda3\\envs\\work_env\\Lib\\site-packages\\sklearn\\metrics\\_classification.py:1565: UndefinedMetricWarning:\n",
      "\n",
      "F-score is ill-defined and being set to 0.0 in labels with no true nor predicted samples. Use `zero_division` parameter to control this behavior.\n",
      "\n"
     ]
    }
   ],
   "source": [
    "model.eval()\n",
    "all_preds = []\n",
    "with torch.no_grad():\n",
    "    for inputs, _ in test_loader: \n",
    "        inputs = inputs.to(device)\n",
    "        outputs = model(inputs)\n",
    "        _, predicted = torch.max(outputs.data, 1)\n",
    "        all_preds.extend(predicted.cpu().numpy())\n",
    "\n",
    "pred_labels = np.array(all_preds)\n",
    "signals = pred_labels - 1 \n",
    "\n",
    "print(\"\\n--- Отчет по классификации TimesNet ---\")\n",
    "print(classification_report(\n",
    "    y_test - 1, \n",
    "    signals, \n",
    "    labels=[-1, 0, 1], \n",
    "    target_names=['Sell', 'Hold', 'Buy']\n",
    "))\n"
   ]
  },
  {
   "cell_type": "code",
   "execution_count": 24,
   "metadata": {},
   "outputs": [
    {
     "data": {
      "application/vnd.jupyter.widget-view+json": {
       "model_id": "",
       "version_major": 2,
       "version_minor": 0
      },
      "text/plain": [
       "Backtest.run:   0%|          | 0/12 [00:00<?, ?bar/s]"
      ]
     },
     "metadata": {},
     "output_type": "display_data"
    },
    {
     "name": "stdout",
     "output_type": "stream",
     "text": [
      "\n",
      "--- Результаты бэктестинга ---\n",
      "Start                     2025-07-16 00:00:00\n",
      "End                       2025-07-28 00:00:00\n",
      "Duration                     12 days 00:00:00\n",
      "Exposure Time [%]                         0.0\n",
      "Equity Final [$]                   13181.0525\n",
      "Equity Peak [$]                   26051.14106\n",
      "Return [%]                           31.81053\n",
      "Buy & Hold Return [%]               -65.36748\n",
      "Return (Ann.) [%]                233154.18764\n",
      "Volatility (Ann.) [%]     38536888963998.3...\n",
      "CAGR [%]                         445024.91479\n",
      "Sharpe Ratio                              0.0\n",
      "Sortino Ratio                      1054.38137\n",
      "Calmar Ratio                        4719.4179\n",
      "Alpha [%]                            12.74859\n",
      "Beta                                 -0.29161\n",
      "Max. Drawdown [%]                   -49.40317\n",
      "Avg. Drawdown [%]                   -30.77735\n",
      "Max. Drawdown Duration        5 days 00:00:00\n",
      "Avg. Drawdown Duration        4 days 00:00:00\n",
      "# Trades                                    0\n",
      "Win Rate [%]                              NaN\n",
      "Best Trade [%]                            NaN\n",
      "Worst Trade [%]                           NaN\n",
      "Avg. Trade [%]                            NaN\n",
      "Max. Trade Duration                       NaN\n",
      "Avg. Trade Duration                       NaN\n",
      "Profit Factor                             NaN\n",
      "Expectancy [%]                            NaN\n",
      "SQN                                       NaN\n",
      "Kelly Criterion                           NaN\n",
      "_strategy                          MyStrategy\n",
      "_equity_curve                             ...\n",
      "_trades                   Empty DataFrame\n",
      "...\n",
      "dtype: object\n"
     ]
    },
    {
     "name": "stderr",
     "output_type": "stream",
     "text": [
      "C:\\Users\\fd\\AppData\\Local\\Temp\\ipykernel_33504\\746017852.py:25: UserWarning:\n",
      "\n",
      "Some trades remain open at the end of backtest. Use `Backtest(..., finalize_trades=True)` to close them and include them in stats.\n",
      "\n"
     ]
    },
    {
     "data": {
      "text/html": [
       "\n",
       "  <div id=\"db199e44-7abe-4728-ace8-cef37639c25d\" data-root-id=\"p1267\" style=\"display: contents;\"></div>\n"
      ]
     },
     "metadata": {},
     "output_type": "display_data"
    },
    {
     "data": {
      "application/javascript": [
       "(function(root) {\n",
       "  function embed_document(root) {\n",
       "  const docs_json = {\"02da9ab8-d825-4fe2-98fc-5fca75f95538\":{\"version\":\"3.7.3\",\"title\":\"Bokeh Application\",\"roots\":[{\"type\":\"object\",\"name\":\"GridPlot\",\"id\":\"p1267\",\"attributes\":{\"rows\":null,\"cols\":null,\"sizing_mode\":\"stretch_width\",\"toolbar\":{\"type\":\"object\",\"name\":\"Toolbar\",\"id\":\"p1266\",\"attributes\":{\"tools\":[{\"type\":\"object\",\"name\":\"ToolProxy\",\"id\":\"p1253\",\"attributes\":{\"tools\":[{\"type\":\"object\",\"name\":\"PanTool\",\"id\":\"p1073\",\"attributes\":{\"dimensions\":\"width\"}},{\"type\":\"object\",\"name\":\"PanTool\",\"id\":\"p1026\",\"attributes\":{\"dimensions\":\"width\"}},{\"type\":\"object\",\"name\":\"PanTool\",\"id\":\"p1131\",\"attributes\":{\"dimensions\":\"width\"}},{\"type\":\"object\",\"name\":\"PanTool\",\"id\":\"p1220\",\"attributes\":{\"dimensions\":\"width\"}}]}},{\"type\":\"object\",\"name\":\"ToolProxy\",\"id\":\"p1254\",\"attributes\":{\"tools\":[{\"type\":\"object\",\"name\":\"WheelZoomTool\",\"id\":\"p1074\",\"attributes\":{\"dimensions\":\"width\",\"renderers\":\"auto\",\"maintain_focus\":false}},{\"type\":\"object\",\"name\":\"WheelZoomTool\",\"id\":\"p1027\",\"attributes\":{\"dimensions\":\"width\",\"renderers\":\"auto\",\"maintain_focus\":false}},{\"type\":\"object\",\"name\":\"WheelZoomTool\",\"id\":\"p1132\",\"attributes\":{\"dimensions\":\"width\",\"renderers\":\"auto\",\"maintain_focus\":false}},{\"type\":\"object\",\"name\":\"WheelZoomTool\",\"id\":\"p1221\",\"attributes\":{\"dimensions\":\"width\",\"renderers\":\"auto\",\"maintain_focus\":false}}]}},{\"type\":\"object\",\"name\":\"ToolProxy\",\"id\":\"p1255\",\"attributes\":{\"tools\":[{\"type\":\"object\",\"name\":\"WheelPanTool\",\"id\":\"p1075\"},{\"type\":\"object\",\"name\":\"WheelPanTool\",\"id\":\"p1028\"},{\"type\":\"object\",\"name\":\"WheelPanTool\",\"id\":\"p1133\"},{\"type\":\"object\",\"name\":\"WheelPanTool\",\"id\":\"p1222\"}]}},{\"type\":\"object\",\"name\":\"ToolProxy\",\"id\":\"p1256\",\"attributes\":{\"tools\":[{\"type\":\"object\",\"name\":\"BoxZoomTool\",\"id\":\"p1076\",\"attributes\":{\"dimensions\":\"both\",\"overlay\":{\"type\":\"object\",\"name\":\"BoxAnnotation\",\"id\":\"p1077\",\"attributes\":{\"syncable\":false,\"line_color\":\"black\",\"line_alpha\":1.0,\"line_width\":2,\"line_dash\":[4,4],\"fill_color\":\"lightgrey\",\"fill_alpha\":0.5,\"level\":\"overlay\",\"visible\":false,\"left\":{\"type\":\"number\",\"value\":\"nan\"},\"right\":{\"type\":\"number\",\"value\":\"nan\"},\"top\":{\"type\":\"number\",\"value\":\"nan\"},\"bottom\":{\"type\":\"number\",\"value\":\"nan\"},\"left_units\":\"canvas\",\"right_units\":\"canvas\",\"top_units\":\"canvas\",\"bottom_units\":\"canvas\",\"handles\":{\"type\":\"object\",\"name\":\"BoxInteractionHandles\",\"id\":\"p1083\",\"attributes\":{\"all\":{\"type\":\"object\",\"name\":\"AreaVisuals\",\"id\":\"p1082\",\"attributes\":{\"fill_color\":\"white\",\"hover_fill_color\":\"lightgray\"}}}}}}}},{\"type\":\"object\",\"name\":\"BoxZoomTool\",\"id\":\"p1029\",\"attributes\":{\"dimensions\":\"both\",\"overlay\":{\"type\":\"object\",\"name\":\"BoxAnnotation\",\"id\":\"p1030\",\"attributes\":{\"syncable\":false,\"line_color\":\"black\",\"line_alpha\":1.0,\"line_width\":2,\"line_dash\":[4,4],\"fill_color\":\"lightgrey\",\"fill_alpha\":0.5,\"level\":\"overlay\",\"visible\":false,\"left\":{\"type\":\"number\",\"value\":\"nan\"},\"right\":{\"type\":\"number\",\"value\":\"nan\"},\"top\":{\"type\":\"number\",\"value\":\"nan\"},\"bottom\":{\"type\":\"number\",\"value\":\"nan\"},\"left_units\":\"canvas\",\"right_units\":\"canvas\",\"top_units\":\"canvas\",\"bottom_units\":\"canvas\",\"handles\":{\"type\":\"object\",\"name\":\"BoxInteractionHandles\",\"id\":\"p1036\",\"attributes\":{\"all\":{\"type\":\"object\",\"name\":\"AreaVisuals\",\"id\":\"p1035\",\"attributes\":{\"fill_color\":\"white\",\"hover_fill_color\":\"lightgray\"}}}}}}}},{\"type\":\"object\",\"name\":\"BoxZoomTool\",\"id\":\"p1134\",\"attributes\":{\"dimensions\":\"both\",\"overlay\":{\"type\":\"object\",\"name\":\"BoxAnnotation\",\"id\":\"p1135\",\"attributes\":{\"syncable\":false,\"line_color\":\"black\",\"line_alpha\":1.0,\"line_width\":2,\"line_dash\":[4,4],\"fill_color\":\"lightgrey\",\"fill_alpha\":0.5,\"level\":\"overlay\",\"visible\":false,\"left\":{\"type\":\"number\",\"value\":\"nan\"},\"right\":{\"type\":\"number\",\"value\":\"nan\"},\"top\":{\"type\":\"number\",\"value\":\"nan\"},\"bottom\":{\"type\":\"number\",\"value\":\"nan\"},\"left_units\":\"canvas\",\"right_units\":\"canvas\",\"top_units\":\"canvas\",\"bottom_units\":\"canvas\",\"handles\":{\"type\":\"object\",\"name\":\"BoxInteractionHandles\",\"id\":\"p1141\",\"attributes\":{\"all\":{\"type\":\"object\",\"name\":\"AreaVisuals\",\"id\":\"p1140\",\"attributes\":{\"fill_color\":\"white\",\"hover_fill_color\":\"lightgray\"}}}}}}}},{\"type\":\"object\",\"name\":\"BoxZoomTool\",\"id\":\"p1223\",\"attributes\":{\"dimensions\":\"both\",\"overlay\":{\"type\":\"object\",\"name\":\"BoxAnnotation\",\"id\":\"p1224\",\"attributes\":{\"syncable\":false,\"line_color\":\"black\",\"line_alpha\":1.0,\"line_width\":2,\"line_dash\":[4,4],\"fill_color\":\"lightgrey\",\"fill_alpha\":0.5,\"level\":\"overlay\",\"visible\":false,\"left\":{\"type\":\"number\",\"value\":\"nan\"},\"right\":{\"type\":\"number\",\"value\":\"nan\"},\"top\":{\"type\":\"number\",\"value\":\"nan\"},\"bottom\":{\"type\":\"number\",\"value\":\"nan\"},\"left_units\":\"canvas\",\"right_units\":\"canvas\",\"top_units\":\"canvas\",\"bottom_units\":\"canvas\",\"handles\":{\"type\":\"object\",\"name\":\"BoxInteractionHandles\",\"id\":\"p1230\",\"attributes\":{\"all\":{\"type\":\"object\",\"name\":\"AreaVisuals\",\"id\":\"p1229\",\"attributes\":{\"fill_color\":\"white\",\"hover_fill_color\":\"lightgray\"}}}}}}}}]}},{\"type\":\"object\",\"name\":\"ToolProxy\",\"id\":\"p1257\",\"attributes\":{\"tools\":[{\"type\":\"object\",\"name\":\"UndoTool\",\"id\":\"p1084\"},{\"type\":\"object\",\"name\":\"UndoTool\",\"id\":\"p1037\"},{\"type\":\"object\",\"name\":\"UndoTool\",\"id\":\"p1142\"},{\"type\":\"object\",\"name\":\"UndoTool\",\"id\":\"p1231\"}]}},{\"type\":\"object\",\"name\":\"ToolProxy\",\"id\":\"p1258\",\"attributes\":{\"tools\":[{\"type\":\"object\",\"name\":\"RedoTool\",\"id\":\"p1085\"},{\"type\":\"object\",\"name\":\"RedoTool\",\"id\":\"p1038\"},{\"type\":\"object\",\"name\":\"RedoTool\",\"id\":\"p1143\"},{\"type\":\"object\",\"name\":\"RedoTool\",\"id\":\"p1232\"}]}},{\"type\":\"object\",\"name\":\"ToolProxy\",\"id\":\"p1259\",\"attributes\":{\"tools\":[{\"type\":\"object\",\"name\":\"ResetTool\",\"id\":\"p1086\"},{\"type\":\"object\",\"name\":\"ResetTool\",\"id\":\"p1039\"},{\"type\":\"object\",\"name\":\"ResetTool\",\"id\":\"p1144\"},{\"type\":\"object\",\"name\":\"ResetTool\",\"id\":\"p1233\"}]}},{\"type\":\"object\",\"name\":\"SaveTool\",\"id\":\"p1260\"},{\"type\":\"object\",\"name\":\"ToolProxy\",\"id\":\"p1261\",\"attributes\":{\"tools\":[{\"type\":\"object\",\"name\":\"HoverTool\",\"id\":\"p1108\",\"attributes\":{\"renderers\":[{\"type\":\"object\",\"name\":\"GlyphRenderer\",\"id\":\"p1094\",\"attributes\":{\"data_source\":{\"type\":\"object\",\"name\":\"ColumnDataSource\",\"id\":\"p1041\",\"attributes\":{\"selected\":{\"type\":\"object\",\"name\":\"Selection\",\"id\":\"p1042\",\"attributes\":{\"indices\":[],\"line_indices\":[]}},\"selection_policy\":{\"type\":\"object\",\"name\":\"UnionRenderers\",\"id\":\"p1043\"},\"data\":{\"type\":\"map\",\"entries\":[[\"index\",{\"type\":\"ndarray\",\"array\":{\"type\":\"bytes\",\"data\":\"AAAAAAEAAAACAAAAAwAAAAQAAAAFAAAABgAAAAcAAAAIAAAACQAAAAoAAAALAAAADAAAAA==\"},\"shape\":[13],\"dtype\":\"int32\",\"order\":\"little\"}],[\"Open\",{\"type\":\"ndarray\",\"array\":{\"type\":\"bytes\",\"data\":\"IKdrjRp87j8AAAAAAADwP0CBLZs35ss/4JZghCAW4j+AhsIS+afmP2AqqLwLDuY/QIVLw6o94z8wLJF/aqnjPyCj4M3ULOY/cOkOAVF+4z9wYm3jdK3hP8B4paibFuE/wGhT2SnJ4T8=\"},\"shape\":[13],\"dtype\":\"float64\",\"order\":\"little\"}],[\"High\",{\"type\":\"ndarray\",\"array\":{\"type\":\"bytes\",\"data\":\"4LD+8qAc6D8AAAAAAADwP6DltezIutQ/QK9CdByS3j+gWOjyfUneP0BfBvs0/d8/wHUp8cHK2T8gk1+1GtbfPwC93MPMvt4/gHz2GBrh2T+ABPkPBe7VP4B69PMhL9Q/QC52HrfW1D8=\"},\"shape\":[13],\"dtype\":\"float64\",\"order\":\"little\"}],[\"Low\",{\"type\":\"ndarray\",\"array\":{\"type\":\"bytes\",\"data\":\"4NZC1UQ27j8IAAAAAADwP6Awl7DzndI/0BSQ8gJu4z9Qr8puchjmP5DXev9VIOM/MDFBkIBN4j9QWar7IbjkP+A3nMZlmuM/AIZ/+TIU3z8QtRgLgKPiPxCTYPY21uE/AFEKAVS/2T8=\"},\"shape\":[13],\"dtype\":\"float64\",\"order\":\"little\"}],[\"Close\",{\"type\":\"ndarray\",\"array\":{\"type\":\"bytes\",\"data\":\"EFaOBmWZ6j8AAAAAAADwP0ApBmJPW9w/cNUibxmO4T/AJH6LirbhP2AWRNIKH98/YEL4kYin3z/gfBsE7DTiPwDhrspq+N8/wEM2aew33D8AcB8i0C3cP4AgxAVfBdw/IAoZi4ds0j8=\"},\"shape\":[13],\"dtype\":\"float64\",\"order\":\"little\"}],[\"Volume\",{\"type\":\"ndarray\",\"array\":{\"type\":\"bytes\",\"data\":\"39mv7/Au1D/jWLdjACLpPwAAAAAAAPA/XaCyRtQUsz+ynYWHwPWjPx80caTOl9g/E320KjxhzT93QqsALXvUP8u9ZFtkYM4/NWIasHnw2z+OZzVEWlyAP86mCFyL9Yc/mOY4hz8p1T8=\"},\"shape\":[13],\"dtype\":\"float64\",\"order\":\"little\"}],[\"datetime\",{\"type\":\"ndarray\",\"array\":{\"type\":\"bytes\",\"data\":\"AADAfgiBeUIAAIDkWoF5QgAAQEqtgXlCAAAAsP+BeUIAAMAVUoJ5QgAAgHukgnlCAABA4faCeUIAAABHSYN5QgAAwKybg3lCAACAEu6DeUIAAEB4QIR5QgAAAN6ShHlCAADAQ+WEeUI=\"},\"shape\":[13],\"dtype\":\"float64\",\"order\":\"little\"}],[\"inc\",{\"type\":\"ndarray\",\"array\":[\"0\",\"1\",\"1\",\"0\",\"0\",\"0\",\"0\",\"0\",\"0\",\"0\",\"0\",\"0\",\"0\"],\"shape\":[13],\"dtype\":\"object\",\"order\":\"little\"}],[\"drawdown\",{\"type\":\"ndarray\",\"array\":{\"type\":\"bytes\",\"data\":\"AAAAAAAAAAAAAAAAAAAAAAAAAAAAAAAAAAAAAAAAAAAAAAAAAAAAAJgbmQmiG78/QJznuk9Buz8AAAAAAAAAAKj4h+J6PL8/uL8tFYjOzD/EgMxMEvLMP7iGRys7gM0/kot8+zae3z8=\"},\"shape\":[13],\"dtype\":\"float64\",\"order\":\"little\"}],[\"\\u03bb(Signal)_0_0\",{\"type\":\"ndarray\",\"array\":{\"type\":\"bytes\",\"data\":\"AQAAAAEAAAABAAAAAQAAAAEAAAABAAAAAQAAAAEAAAABAAAAAQAAAAEAAAABAAAAAQAAAA==\"},\"shape\":[13],\"dtype\":\"int32\",\"order\":\"little\"}],[\"ohlc_low\",{\"type\":\"ndarray\",\"array\":{\"type\":\"bytes\",\"data\":\"4LD+8qAc6D8AAAAAAADwP6Awl7DzndI/QK9CdByS3j+gWOjyfUneP0BfBvs0/d8/wHUp8cHK2T8gk1+1GtbfPwC93MPMvt4/gHz2GBrh2T+ABPkPBe7VP4B69PMhL9Q/QC52HrfW1D8=\"},\"shape\":[13],\"dtype\":\"float64\",\"order\":\"little\"}],[\"ohlc_high\",{\"type\":\"ndarray\",\"array\":{\"type\":\"bytes\",\"data\":\"4NZC1UQ27j8IAAAAAADwP6DltezIutQ/0BSQ8gJu4z9Qr8puchjmP5DXev9VIOM/MDFBkIBN4j9QWar7IbjkP+A3nMZlmuM/AIZ/+TIU3z8QtRgLgKPiPxCTYPY21uE/AFEKAVS/2T8=\"},\"shape\":[13],\"dtype\":\"float64\",\"order\":\"little\"}]]}}},\"view\":{\"type\":\"object\",\"name\":\"CDSView\",\"id\":\"p1095\",\"attributes\":{\"filter\":{\"type\":\"object\",\"name\":\"AllIndices\",\"id\":\"p1096\"}}},\"glyph\":{\"type\":\"object\",\"name\":\"Line\",\"id\":\"p1091\",\"attributes\":{\"x\":{\"type\":\"field\",\"field\":\"index\"},\"y\":{\"type\":\"field\",\"field\":\"drawdown\"},\"line_color\":\"#1f77b4\",\"line_width\":1.3}},\"nonselection_glyph\":{\"type\":\"object\",\"name\":\"Line\",\"id\":\"p1092\",\"attributes\":{\"x\":{\"type\":\"field\",\"field\":\"index\"},\"y\":{\"type\":\"field\",\"field\":\"drawdown\"},\"line_color\":\"#1f77b4\",\"line_alpha\":0.1,\"line_width\":1.3}},\"muted_glyph\":{\"type\":\"object\",\"name\":\"Line\",\"id\":\"p1093\",\"attributes\":{\"x\":{\"type\":\"field\",\"field\":\"index\"},\"y\":{\"type\":\"field\",\"field\":\"drawdown\"},\"line_color\":\"#1f77b4\",\"line_alpha\":0.2,\"line_width\":1.3}}}}],\"tooltips\":[[\"Date\",\"@datetime{%c}\"],[\"Drawdown\",\"@drawdown{-0.[0]%}\"]],\"formatters\":{\"type\":\"map\",\"entries\":[[\"@datetime\",\"datetime\"]]},\"mode\":\"vline\",\"point_policy\":\"follow_mouse\"}}]}},{\"type\":\"object\",\"name\":\"ToolProxy\",\"id\":\"p1262\",\"attributes\":{\"tools\":[{\"type\":\"object\",\"name\":\"HoverTool\",\"id\":\"p1248\",\"attributes\":{\"renderers\":[{\"type\":\"object\",\"name\":\"GlyphRenderer\",\"id\":\"p1196\",\"attributes\":{\"data_source\":{\"id\":\"p1041\"},\"view\":{\"type\":\"object\",\"name\":\"CDSView\",\"id\":\"p1197\",\"attributes\":{\"filter\":{\"type\":\"object\",\"name\":\"AllIndices\",\"id\":\"p1198\"}}},\"glyph\":{\"type\":\"object\",\"name\":\"VBar\",\"id\":\"p1193\",\"attributes\":{\"x\":{\"type\":\"field\",\"field\":\"index\"},\"width\":{\"type\":\"value\",\"value\":0.8},\"bottom\":{\"type\":\"field\",\"field\":\"Close\"},\"top\":{\"type\":\"field\",\"field\":\"Open\"},\"fill_color\":{\"type\":\"field\",\"field\":\"inc\",\"transform\":{\"type\":\"object\",\"name\":\"CategoricalColorMapper\",\"id\":\"p1047\",\"attributes\":{\"palette\":[\"tomato\",\"lime\"],\"factors\":[\"0\",\"1\"]}}}}},\"nonselection_glyph\":{\"type\":\"object\",\"name\":\"VBar\",\"id\":\"p1194\",\"attributes\":{\"x\":{\"type\":\"field\",\"field\":\"index\"},\"width\":{\"type\":\"value\",\"value\":0.8},\"bottom\":{\"type\":\"field\",\"field\":\"Close\"},\"top\":{\"type\":\"field\",\"field\":\"Open\"},\"line_alpha\":{\"type\":\"value\",\"value\":0.1},\"fill_color\":{\"type\":\"field\",\"field\":\"inc\",\"transform\":{\"id\":\"p1047\"}},\"fill_alpha\":{\"type\":\"value\",\"value\":0.1},\"hatch_alpha\":{\"type\":\"value\",\"value\":0.1}}},\"muted_glyph\":{\"type\":\"object\",\"name\":\"VBar\",\"id\":\"p1195\",\"attributes\":{\"x\":{\"type\":\"field\",\"field\":\"index\"},\"width\":{\"type\":\"value\",\"value\":0.8},\"bottom\":{\"type\":\"field\",\"field\":\"Close\"},\"top\":{\"type\":\"field\",\"field\":\"Open\"},\"line_alpha\":{\"type\":\"value\",\"value\":0.2},\"fill_color\":{\"type\":\"field\",\"field\":\"inc\",\"transform\":{\"id\":\"p1047\"}},\"fill_alpha\":{\"type\":\"value\",\"value\":0.2},\"hatch_alpha\":{\"type\":\"value\",\"value\":0.2}}}}}],\"tooltips\":[[\"Date\",\"@datetime{%c}\"],[\"x, y\",\"$index\\u00a0\\u00a0\\u00a0\\u00a0$y{0,0.0[0000]}\"],[\"OHLC\",\"@Open{0,0.0[0000]}\\u00a0\\u00a0\\u00a0\\u00a0@High{0,0.0[0000]}\\u00a0\\u00a0\\u00a0\\u00a0@Low{0,0.0[0000]}\\u00a0\\u00a0\\u00a0\\u00a0@Close{0,0.0[0000]}\"],[\"Volume\",\"@Volume{0,0}\"]],\"formatters\":{\"type\":\"map\",\"entries\":[[\"@datetime\",\"datetime\"]]},\"mode\":\"vline\",\"point_policy\":\"follow_mouse\"}}]}},{\"type\":\"object\",\"name\":\"ToolProxy\",\"id\":\"p1263\",\"attributes\":{\"tools\":[{\"type\":\"object\",\"name\":\"HoverTool\",\"id\":\"p1155\",\"attributes\":{\"renderers\":[{\"type\":\"object\",\"name\":\"GlyphRenderer\",\"id\":\"p1152\",\"attributes\":{\"data_source\":{\"id\":\"p1041\"},\"view\":{\"type\":\"object\",\"name\":\"CDSView\",\"id\":\"p1153\",\"attributes\":{\"filter\":{\"type\":\"object\",\"name\":\"AllIndices\",\"id\":\"p1154\"}}},\"glyph\":{\"type\":\"object\",\"name\":\"VBar\",\"id\":\"p1149\",\"attributes\":{\"x\":{\"type\":\"field\",\"field\":\"index\"},\"width\":{\"type\":\"value\",\"value\":0.8},\"top\":{\"type\":\"field\",\"field\":\"Volume\"},\"line_color\":{\"type\":\"field\",\"field\":\"inc\",\"transform\":{\"id\":\"p1047\"}},\"fill_color\":{\"type\":\"field\",\"field\":\"inc\",\"transform\":{\"id\":\"p1047\"}},\"hatch_color\":{\"type\":\"field\",\"field\":\"inc\",\"transform\":{\"id\":\"p1047\"}}}},\"nonselection_glyph\":{\"type\":\"object\",\"name\":\"VBar\",\"id\":\"p1150\",\"attributes\":{\"x\":{\"type\":\"field\",\"field\":\"index\"},\"width\":{\"type\":\"value\",\"value\":0.8},\"top\":{\"type\":\"field\",\"field\":\"Volume\"},\"line_color\":{\"type\":\"field\",\"field\":\"inc\",\"transform\":{\"id\":\"p1047\"}},\"line_alpha\":{\"type\":\"value\",\"value\":0.1},\"fill_color\":{\"type\":\"field\",\"field\":\"inc\",\"transform\":{\"id\":\"p1047\"}},\"fill_alpha\":{\"type\":\"value\",\"value\":0.1},\"hatch_color\":{\"type\":\"field\",\"field\":\"inc\",\"transform\":{\"id\":\"p1047\"}},\"hatch_alpha\":{\"type\":\"value\",\"value\":0.1}}},\"muted_glyph\":{\"type\":\"object\",\"name\":\"VBar\",\"id\":\"p1151\",\"attributes\":{\"x\":{\"type\":\"field\",\"field\":\"index\"},\"width\":{\"type\":\"value\",\"value\":0.8},\"top\":{\"type\":\"field\",\"field\":\"Volume\"},\"line_color\":{\"type\":\"field\",\"field\":\"inc\",\"transform\":{\"id\":\"p1047\"}},\"line_alpha\":{\"type\":\"value\",\"value\":0.2},\"fill_color\":{\"type\":\"field\",\"field\":\"inc\",\"transform\":{\"id\":\"p1047\"}},\"fill_alpha\":{\"type\":\"value\",\"value\":0.2},\"hatch_color\":{\"type\":\"field\",\"field\":\"inc\",\"transform\":{\"id\":\"p1047\"}},\"hatch_alpha\":{\"type\":\"value\",\"value\":0.2}}}}}],\"tooltips\":[[\"Date\",\"@datetime{%c}\"],[\"Volume\",\"@Volume{0.00 a}\"]],\"formatters\":{\"type\":\"map\",\"entries\":[[\"@datetime\",\"datetime\"]]},\"mode\":\"vline\",\"point_policy\":\"follow_mouse\"}}]}},{\"type\":\"object\",\"name\":\"ToolProxy\",\"id\":\"p1264\",\"attributes\":{\"tools\":[{\"type\":\"object\",\"name\":\"HoverTool\",\"id\":\"p1246\",\"attributes\":{\"renderers\":[{\"type\":\"object\",\"name\":\"GlyphRenderer\",\"id\":\"p1241\",\"attributes\":{\"data_source\":{\"id\":\"p1041\"},\"view\":{\"type\":\"object\",\"name\":\"CDSView\",\"id\":\"p1242\",\"attributes\":{\"filter\":{\"type\":\"object\",\"name\":\"AllIndices\",\"id\":\"p1243\"}}},\"glyph\":{\"type\":\"object\",\"name\":\"Line\",\"id\":\"p1238\",\"attributes\":{\"x\":{\"type\":\"field\",\"field\":\"index\"},\"y\":{\"type\":\"field\",\"field\":\"\\u03bb(Signal)_0_0\"},\"line_color\":\"#1f77b4\",\"line_width\":1.3}},\"nonselection_glyph\":{\"type\":\"object\",\"name\":\"Line\",\"id\":\"p1239\",\"attributes\":{\"x\":{\"type\":\"field\",\"field\":\"index\"},\"y\":{\"type\":\"field\",\"field\":\"\\u03bb(Signal)_0_0\"},\"line_color\":\"#1f77b4\",\"line_alpha\":0.1,\"line_width\":1.3}},\"muted_glyph\":{\"type\":\"object\",\"name\":\"Line\",\"id\":\"p1240\",\"attributes\":{\"x\":{\"type\":\"field\",\"field\":\"index\"},\"y\":{\"type\":\"field\",\"field\":\"\\u03bb(Signal)_0_0\"},\"line_color\":\"#1f77b4\",\"line_alpha\":0.2,\"line_width\":1.3}}}}],\"tooltips\":[[\"Date\",\"@datetime{%c}\"],[\"\\u03bb(Signal)\",\"@{\\u03bb(Signal)_0_0}{0,0.0[0000]}\"]],\"formatters\":{\"type\":\"map\",\"entries\":[[\"@datetime\",\"datetime\"]]},\"mode\":\"vline\",\"point_policy\":\"follow_mouse\"}}]}},{\"type\":\"object\",\"name\":\"ToolProxy\",\"id\":\"p1265\",\"attributes\":{\"tools\":[{\"type\":\"object\",\"name\":\"CrosshairTool\",\"id\":\"p1252\",\"attributes\":{\"overlay\":[{\"type\":\"object\",\"name\":\"Span\",\"id\":\"p1250\",\"attributes\":{\"line_dash\":[2,4]}},{\"type\":\"object\",\"name\":\"Span\",\"id\":\"p1251\",\"attributes\":{\"dimension\":\"height\",\"line_dash\":[2,4]}}],\"line_color\":\"lightgrey\"}},{\"id\":\"p1252\"},{\"id\":\"p1252\"},{\"id\":\"p1252\"}]}}],\"logo\":null,\"active_drag\":{\"id\":\"p1253\"},\"active_scroll\":{\"id\":\"p1254\"}}},\"toolbar_location\":\"right\",\"children\":[[{\"type\":\"object\",\"name\":\"Figure\",\"id\":\"p1052\",\"attributes\":{\"width\":null,\"height\":80,\"sizing_mode\":\"stretch_width\",\"x_range\":{\"type\":\"object\",\"name\":\"Range1d\",\"id\":\"p1004\",\"attributes\":{\"js_property_callbacks\":{\"type\":\"map\",\"entries\":[[\"change:end\",[{\"type\":\"object\",\"name\":\"CustomJS\",\"id\":\"p1249\",\"attributes\":{\"args\":{\"type\":\"map\",\"entries\":[[\"ohlc_range\",{\"type\":\"object\",\"name\":\"DataRange1d\",\"id\":\"p1007\"}],[\"source\",{\"id\":\"p1041\"}],[\"volume_range\",{\"type\":\"object\",\"name\":\"DataRange1d\",\"id\":\"p1112\"}]]},\"code\":\"if (!window._bt_scale_range) {\\n    window._bt_scale_range = function (range, min, max, pad) {\\n        \\\"use strict\\\";\\n        if (min !== Infinity && max !== -Infinity) {\\n            pad = pad ? (max - min) * .03 : 0;\\n            range.start = min - pad;\\n            range.end = max + pad;\\n        } else console.error('backtesting: scale range error:', min, max, range);\\n    };\\n}\\n\\nclearTimeout(window._bt_autoscale_timeout);\\n\\nwindow._bt_autoscale_timeout = setTimeout(function () {\\n    /**\\n     * @variable cb_obj `fig_ohlc.x_range`.\\n     * @variable source `ColumnDataSource`\\n     * @variable ohlc_range `fig_ohlc.y_range`.\\n     * @variable volume_range `fig_volume.y_range`.\\n     */\\n    \\\"use strict\\\";\\n\\n    let i = Math.max(Math.floor(cb_obj.start), 0),\\n        j = Math.min(Math.ceil(cb_obj.end), source.data['ohlc_high'].length);\\n\\n    let max = Math.max.apply(null, source.data['ohlc_high'].slice(i, j)),\\n        min = Math.min.apply(null, source.data['ohlc_low'].slice(i, j));\\n    _bt_scale_range(ohlc_range, min, max, true);\\n\\n    if (volume_range) {\\n        max = Math.max.apply(null, source.data['Volume'].slice(i, j));\\n        _bt_scale_range(volume_range, 0, max * 1.03, false);\\n    }\\n\\n}, 50);\\n\"}}]]]},\"end\":12,\"bounds\":[-0.6,12.6],\"min_interval\":10}},\"y_range\":{\"type\":\"object\",\"name\":\"DataRange1d\",\"id\":\"p1054\"},\"x_scale\":{\"type\":\"object\",\"name\":\"LinearScale\",\"id\":\"p1061\"},\"y_scale\":{\"type\":\"object\",\"name\":\"LinearScale\",\"id\":\"p1062\"},\"title\":{\"type\":\"object\",\"name\":\"Title\",\"id\":\"p1059\"},\"outline_line_color\":\"#666666\",\"renderers\":[{\"id\":\"p1094\"},{\"type\":\"object\",\"name\":\"GlyphRenderer\",\"id\":\"p1103\",\"attributes\":{\"data_source\":{\"type\":\"object\",\"name\":\"ColumnDataSource\",\"id\":\"p1097\",\"attributes\":{\"selected\":{\"type\":\"object\",\"name\":\"Selection\",\"id\":\"p1098\",\"attributes\":{\"indices\":[],\"line_indices\":[]}},\"selection_policy\":{\"type\":\"object\",\"name\":\"UnionRenderers\",\"id\":\"p1099\"},\"data\":{\"type\":\"map\"}}},\"view\":{\"type\":\"object\",\"name\":\"CDSView\",\"id\":\"p1104\",\"attributes\":{\"filter\":{\"type\":\"object\",\"name\":\"AllIndices\",\"id\":\"p1105\"}}},\"glyph\":{\"type\":\"object\",\"name\":\"Scatter\",\"id\":\"p1100\",\"attributes\":{\"x\":{\"type\":\"value\",\"value\":12},\"y\":{\"type\":\"value\",\"value\":0.4940316635058305},\"size\":{\"type\":\"value\",\"value\":8},\"line_color\":{\"type\":\"value\",\"value\":\"red\"},\"fill_color\":{\"type\":\"value\",\"value\":\"red\"},\"hatch_color\":{\"type\":\"value\",\"value\":\"red\"}}},\"nonselection_glyph\":{\"type\":\"object\",\"name\":\"Scatter\",\"id\":\"p1101\",\"attributes\":{\"x\":{\"type\":\"value\",\"value\":12},\"y\":{\"type\":\"value\",\"value\":0.4940316635058305},\"size\":{\"type\":\"value\",\"value\":8},\"line_color\":{\"type\":\"value\",\"value\":\"red\"},\"line_alpha\":{\"type\":\"value\",\"value\":0.1},\"fill_color\":{\"type\":\"value\",\"value\":\"red\"},\"fill_alpha\":{\"type\":\"value\",\"value\":0.1},\"hatch_color\":{\"type\":\"value\",\"value\":\"red\"},\"hatch_alpha\":{\"type\":\"value\",\"value\":0.1}}},\"muted_glyph\":{\"type\":\"object\",\"name\":\"Scatter\",\"id\":\"p1102\",\"attributes\":{\"x\":{\"type\":\"value\",\"value\":12},\"y\":{\"type\":\"value\",\"value\":0.4940316635058305},\"size\":{\"type\":\"value\",\"value\":8},\"line_color\":{\"type\":\"value\",\"value\":\"red\"},\"line_alpha\":{\"type\":\"value\",\"value\":0.2},\"fill_color\":{\"type\":\"value\",\"value\":\"red\"},\"fill_alpha\":{\"type\":\"value\",\"value\":0.2},\"hatch_color\":{\"type\":\"value\",\"value\":\"red\"},\"hatch_alpha\":{\"type\":\"value\",\"value\":0.2}}}}}],\"toolbar\":{\"type\":\"object\",\"name\":\"Toolbar\",\"id\":\"p1060\",\"attributes\":{\"tools\":[{\"id\":\"p1073\"},{\"id\":\"p1074\"},{\"id\":\"p1075\"},{\"id\":\"p1076\"},{\"id\":\"p1084\"},{\"id\":\"p1085\"},{\"id\":\"p1086\"},{\"type\":\"object\",\"name\":\"SaveTool\",\"id\":\"p1087\"},{\"id\":\"p1108\"},{\"id\":\"p1252\"}],\"active_drag\":{\"id\":\"p1073\"},\"active_scroll\":{\"id\":\"p1074\"}}},\"toolbar_location\":null,\"left\":[{\"type\":\"object\",\"name\":\"LinearAxis\",\"id\":\"p1068\",\"attributes\":{\"ticker\":{\"type\":\"object\",\"name\":\"BasicTicker\",\"id\":\"p1069\",\"attributes\":{\"desired_num_ticks\":3,\"mantissas\":[1,2,5]}},\"formatter\":{\"type\":\"object\",\"name\":\"NumeralTickFormatter\",\"id\":\"p1109\",\"attributes\":{\"format\":\"-0.[0]%\"}},\"axis_label\":\"Drawdown\",\"major_label_policy\":{\"type\":\"object\",\"name\":\"AllLabels\",\"id\":\"p1071\"},\"minor_tick_line_color\":null}}],\"below\":[{\"type\":\"object\",\"name\":\"LinearAxis\",\"id\":\"p1063\",\"attributes\":{\"visible\":false,\"ticker\":{\"type\":\"object\",\"name\":\"BasicTicker\",\"id\":\"p1064\",\"attributes\":{\"mantissas\":[1,2,5]}},\"formatter\":{\"type\":\"object\",\"name\":\"BasicTickFormatter\",\"id\":\"p1065\"},\"major_label_policy\":{\"type\":\"object\",\"name\":\"AllLabels\",\"id\":\"p1066\"}}}],\"center\":[{\"type\":\"object\",\"name\":\"Grid\",\"id\":\"p1067\",\"attributes\":{\"axis\":{\"id\":\"p1063\"}}},{\"type\":\"object\",\"name\":\"Grid\",\"id\":\"p1072\",\"attributes\":{\"dimension\":1,\"axis\":{\"id\":\"p1068\"}}},{\"type\":\"object\",\"name\":\"Legend\",\"id\":\"p1106\",\"attributes\":{\"location\":\"top_left\",\"border_line_color\":\"#333333\",\"background_fill_alpha\":0.9,\"click_policy\":\"hide\",\"label_text_font_size\":\"8pt\",\"margin\":0,\"padding\":5,\"spacing\":0,\"items\":[{\"type\":\"object\",\"name\":\"LegendItem\",\"id\":\"p1107\",\"attributes\":{\"label\":{\"type\":\"value\",\"value\":\"Peak (-49.4%)\"},\"renderers\":[{\"id\":\"p1103\"}]}}]}}],\"min_border_top\":3,\"min_border_bottom\":6,\"min_border_left\":0,\"min_border_right\":10}},0,0],[{\"type\":\"object\",\"name\":\"Figure\",\"id\":\"p1005\",\"attributes\":{\"width\":null,\"height\":400,\"sizing_mode\":\"stretch_width\",\"x_range\":{\"id\":\"p1004\"},\"y_range\":{\"id\":\"p1007\"},\"x_scale\":{\"type\":\"object\",\"name\":\"LinearScale\",\"id\":\"p1014\"},\"y_scale\":{\"type\":\"object\",\"name\":\"LinearScale\",\"id\":\"p1015\"},\"title\":{\"type\":\"object\",\"name\":\"Title\",\"id\":\"p1012\"},\"outline_line_color\":\"#666666\",\"renderers\":[{\"type\":\"object\",\"name\":\"GlyphRenderer\",\"id\":\"p1166\",\"attributes\":{\"data_source\":{\"type\":\"object\",\"name\":\"ColumnDataSource\",\"id\":\"p1157\",\"attributes\":{\"selected\":{\"type\":\"object\",\"name\":\"Selection\",\"id\":\"p1158\",\"attributes\":{\"indices\":[],\"line_indices\":[]}},\"selection_policy\":{\"type\":\"object\",\"name\":\"UnionRenderers\",\"id\":\"p1159\"},\"data\":{\"type\":\"map\",\"entries\":[[\"index\",{\"type\":\"ndarray\",\"array\":{\"type\":\"bytes\",\"data\":\"AAAAAAAAGEA=\"},\"shape\":[1],\"dtype\":\"float64\",\"order\":\"little\"}],[\"Open\",{\"type\":\"ndarray\",\"array\":{\"type\":\"bytes\",\"data\":\"IKdrjRp87j8=\"},\"shape\":[1],\"dtype\":\"float64\",\"order\":\"little\"}],[\"High\",{\"type\":\"ndarray\",\"array\":{\"type\":\"bytes\",\"data\":\"AAAAAAAA8D8=\"},\"shape\":[1],\"dtype\":\"float64\",\"order\":\"little\"}],[\"Low\",{\"type\":\"ndarray\",\"array\":{\"type\":\"bytes\",\"data\":\"oDCXsPOd0j8=\"},\"shape\":[1],\"dtype\":\"float64\",\"order\":\"little\"}],[\"Close\",{\"type\":\"ndarray\",\"array\":{\"type\":\"bytes\",\"data\":\"IAoZi4ds0j8=\"},\"shape\":[1],\"dtype\":\"float64\",\"order\":\"little\"}],[\"Volume\",{\"type\":\"ndarray\",\"array\":{\"type\":\"bytes\",\"data\":\"S6NjMm+wEEA=\"},\"shape\":[1],\"dtype\":\"float64\",\"order\":\"little\"}],[\"_width\",{\"type\":\"ndarray\",\"array\":{\"type\":\"bytes\",\"data\":\"zczMzMzMKUA=\"},\"shape\":[1],\"dtype\":\"float64\",\"order\":\"little\"}],[\"inc\",{\"type\":\"ndarray\",\"array\":[\"0\"],\"shape\":[1],\"dtype\":\"object\",\"order\":\"little\"}]]}}},\"view\":{\"type\":\"object\",\"name\":\"CDSView\",\"id\":\"p1167\",\"attributes\":{\"filter\":{\"type\":\"object\",\"name\":\"AllIndices\",\"id\":\"p1168\"}}},\"glyph\":{\"type\":\"object\",\"name\":\"Segment\",\"id\":\"p1163\",\"attributes\":{\"x0\":{\"type\":\"field\",\"field\":\"index\"},\"y0\":{\"type\":\"field\",\"field\":\"High\"},\"x1\":{\"type\":\"field\",\"field\":\"index\"},\"y1\":{\"type\":\"field\",\"field\":\"Low\"},\"line_color\":{\"type\":\"value\",\"value\":\"#bbbbbb\"}}},\"nonselection_glyph\":{\"type\":\"object\",\"name\":\"Segment\",\"id\":\"p1164\",\"attributes\":{\"x0\":{\"type\":\"field\",\"field\":\"index\"},\"y0\":{\"type\":\"field\",\"field\":\"High\"},\"x1\":{\"type\":\"field\",\"field\":\"index\"},\"y1\":{\"type\":\"field\",\"field\":\"Low\"},\"line_color\":{\"type\":\"value\",\"value\":\"#bbbbbb\"},\"line_alpha\":{\"type\":\"value\",\"value\":0.1}}},\"muted_glyph\":{\"type\":\"object\",\"name\":\"Segment\",\"id\":\"p1165\",\"attributes\":{\"x0\":{\"type\":\"field\",\"field\":\"index\"},\"y0\":{\"type\":\"field\",\"field\":\"High\"},\"x1\":{\"type\":\"field\",\"field\":\"index\"},\"y1\":{\"type\":\"field\",\"field\":\"Low\"},\"line_color\":{\"type\":\"value\",\"value\":\"#bbbbbb\"},\"line_alpha\":{\"type\":\"value\",\"value\":0.2}}}}},{\"type\":\"object\",\"name\":\"GlyphRenderer\",\"id\":\"p1176\",\"attributes\":{\"data_source\":{\"id\":\"p1157\"},\"view\":{\"type\":\"object\",\"name\":\"CDSView\",\"id\":\"p1177\",\"attributes\":{\"filter\":{\"type\":\"object\",\"name\":\"AllIndices\",\"id\":\"p1178\"}}},\"glyph\":{\"type\":\"object\",\"name\":\"VBar\",\"id\":\"p1173\",\"attributes\":{\"x\":{\"type\":\"field\",\"field\":\"index\"},\"width\":{\"type\":\"field\",\"field\":\"_width\"},\"bottom\":{\"type\":\"field\",\"field\":\"Close\"},\"top\":{\"type\":\"field\",\"field\":\"Open\"},\"line_color\":{\"type\":\"value\",\"value\":null},\"fill_color\":{\"type\":\"field\",\"field\":\"inc\",\"transform\":{\"type\":\"object\",\"name\":\"CategoricalColorMapper\",\"id\":\"p1169\",\"attributes\":{\"palette\":[\"rgb(254, 220, 214)\",\"rgb(214, 254, 214)\"],\"factors\":[\"0\",\"1\"]}}}}},\"nonselection_glyph\":{\"type\":\"object\",\"name\":\"VBar\",\"id\":\"p1174\",\"attributes\":{\"x\":{\"type\":\"field\",\"field\":\"index\"},\"width\":{\"type\":\"field\",\"field\":\"_width\"},\"bottom\":{\"type\":\"field\",\"field\":\"Close\"},\"top\":{\"type\":\"field\",\"field\":\"Open\"},\"line_color\":{\"type\":\"value\",\"value\":null},\"line_alpha\":{\"type\":\"value\",\"value\":0.1},\"fill_color\":{\"type\":\"field\",\"field\":\"inc\",\"transform\":{\"id\":\"p1169\"}},\"fill_alpha\":{\"type\":\"value\",\"value\":0.1},\"hatch_alpha\":{\"type\":\"value\",\"value\":0.1}}},\"muted_glyph\":{\"type\":\"object\",\"name\":\"VBar\",\"id\":\"p1175\",\"attributes\":{\"x\":{\"type\":\"field\",\"field\":\"index\"},\"width\":{\"type\":\"field\",\"field\":\"_width\"},\"bottom\":{\"type\":\"field\",\"field\":\"Close\"},\"top\":{\"type\":\"field\",\"field\":\"Open\"},\"line_color\":{\"type\":\"value\",\"value\":null},\"line_alpha\":{\"type\":\"value\",\"value\":0.2},\"fill_color\":{\"type\":\"field\",\"field\":\"inc\",\"transform\":{\"id\":\"p1169\"}},\"fill_alpha\":{\"type\":\"value\",\"value\":0.2},\"hatch_alpha\":{\"type\":\"value\",\"value\":0.2}}}}},{\"type\":\"object\",\"name\":\"GlyphRenderer\",\"id\":\"p1185\",\"attributes\":{\"data_source\":{\"id\":\"p1041\"},\"view\":{\"type\":\"object\",\"name\":\"CDSView\",\"id\":\"p1186\",\"attributes\":{\"filter\":{\"type\":\"object\",\"name\":\"AllIndices\",\"id\":\"p1187\"}}},\"glyph\":{\"type\":\"object\",\"name\":\"Segment\",\"id\":\"p1182\",\"attributes\":{\"x0\":{\"type\":\"field\",\"field\":\"index\"},\"y0\":{\"type\":\"field\",\"field\":\"High\"},\"x1\":{\"type\":\"field\",\"field\":\"index\"},\"y1\":{\"type\":\"field\",\"field\":\"Low\"}}},\"nonselection_glyph\":{\"type\":\"object\",\"name\":\"Segment\",\"id\":\"p1183\",\"attributes\":{\"x0\":{\"type\":\"field\",\"field\":\"index\"},\"y0\":{\"type\":\"field\",\"field\":\"High\"},\"x1\":{\"type\":\"field\",\"field\":\"index\"},\"y1\":{\"type\":\"field\",\"field\":\"Low\"},\"line_alpha\":{\"type\":\"value\",\"value\":0.1}}},\"muted_glyph\":{\"type\":\"object\",\"name\":\"Segment\",\"id\":\"p1184\",\"attributes\":{\"x0\":{\"type\":\"field\",\"field\":\"index\"},\"y0\":{\"type\":\"field\",\"field\":\"High\"},\"x1\":{\"type\":\"field\",\"field\":\"index\"},\"y1\":{\"type\":\"field\",\"field\":\"Low\"},\"line_alpha\":{\"type\":\"value\",\"value\":0.2}}}}},{\"id\":\"p1196\"}],\"toolbar\":{\"type\":\"object\",\"name\":\"Toolbar\",\"id\":\"p1013\",\"attributes\":{\"tools\":[{\"id\":\"p1026\"},{\"id\":\"p1027\"},{\"id\":\"p1028\"},{\"id\":\"p1029\"},{\"id\":\"p1037\"},{\"id\":\"p1038\"},{\"id\":\"p1039\"},{\"type\":\"object\",\"name\":\"SaveTool\",\"id\":\"p1040\"},{\"id\":\"p1248\"},{\"id\":\"p1252\"}],\"active_drag\":{\"id\":\"p1026\"},\"active_scroll\":{\"id\":\"p1027\"}}},\"toolbar_location\":null,\"left\":[{\"type\":\"object\",\"name\":\"LinearAxis\",\"id\":\"p1021\",\"attributes\":{\"ticker\":{\"type\":\"object\",\"name\":\"BasicTicker\",\"id\":\"p1022\",\"attributes\":{\"mantissas\":[1,2,5]}},\"formatter\":{\"type\":\"object\",\"name\":\"BasicTickFormatter\",\"id\":\"p1023\"},\"major_label_policy\":{\"type\":\"object\",\"name\":\"AllLabels\",\"id\":\"p1024\"}}}],\"below\":[{\"type\":\"object\",\"name\":\"LinearAxis\",\"id\":\"p1016\",\"attributes\":{\"visible\":false,\"ticker\":{\"type\":\"object\",\"name\":\"BasicTicker\",\"id\":\"p1017\",\"attributes\":{\"mantissas\":[1,2,5]}},\"formatter\":{\"type\":\"object\",\"name\":\"CustomJSTickFormatter\",\"id\":\"p1051\",\"attributes\":{\"args\":{\"type\":\"map\",\"entries\":[[\"axis\",{\"id\":\"p1016\"}],[\"formatter\",{\"type\":\"object\",\"name\":\"DatetimeTickFormatter\",\"id\":\"p1050\",\"attributes\":{\"days\":\"%a, %d %b\"}}],[\"source\",{\"id\":\"p1041\"}]]},\"code\":\"\\nthis.labels = this.labels || formatter.doFormat(ticks\\n                                                .map(i => source.data.datetime[i])\\n                                                .filter(t => t !== undefined));\\nreturn this.labels[index] || \\\"\\\";\\n        \"}},\"major_label_policy\":{\"type\":\"object\",\"name\":\"AllLabels\",\"id\":\"p1019\"}}}],\"center\":[{\"type\":\"object\",\"name\":\"Grid\",\"id\":\"p1020\",\"attributes\":{\"axis\":{\"id\":\"p1016\"}}},{\"type\":\"object\",\"name\":\"Grid\",\"id\":\"p1025\",\"attributes\":{\"dimension\":1,\"axis\":{\"id\":\"p1021\"}}},{\"type\":\"object\",\"name\":\"Legend\",\"id\":\"p1188\",\"attributes\":{\"location\":\"top_left\",\"border_line_color\":\"#333333\",\"background_fill_alpha\":0.9,\"click_policy\":\"hide\",\"label_text_font_size\":\"8pt\",\"margin\":0,\"padding\":5,\"spacing\":0,\"items\":[{\"type\":\"object\",\"name\":\"LegendItem\",\"id\":\"p1189\",\"attributes\":{\"label\":{\"type\":\"value\",\"value\":\"OHLC\"},\"renderers\":[{\"id\":\"p1185\"},{\"id\":\"p1196\"}]}}]}},{\"type\":\"object\",\"name\":\"Label\",\"id\":\"p1247\",\"attributes\":{\"text\":\"Created with Backtesting.py: http://kernc.github.io/backtesting.py\",\"text_color\":\"silver\",\"text_alpha\":0.09,\"x\":10,\"y\":15,\"x_units\":\"screen\",\"y_units\":\"screen\"}}],\"min_border_top\":3,\"min_border_bottom\":6,\"min_border_left\":0,\"min_border_right\":10}},1,0],[{\"type\":\"object\",\"name\":\"Figure\",\"id\":\"p1110\",\"attributes\":{\"width\":null,\"height\":70,\"sizing_mode\":\"stretch_width\",\"x_range\":{\"id\":\"p1004\"},\"y_range\":{\"id\":\"p1112\"},\"x_scale\":{\"type\":\"object\",\"name\":\"LinearScale\",\"id\":\"p1119\"},\"y_scale\":{\"type\":\"object\",\"name\":\"LinearScale\",\"id\":\"p1120\"},\"title\":{\"type\":\"object\",\"name\":\"Title\",\"id\":\"p1117\"},\"outline_line_color\":\"#666666\",\"renderers\":[{\"id\":\"p1152\"}],\"toolbar\":{\"type\":\"object\",\"name\":\"Toolbar\",\"id\":\"p1118\",\"attributes\":{\"tools\":[{\"id\":\"p1131\"},{\"id\":\"p1132\"},{\"id\":\"p1133\"},{\"id\":\"p1134\"},{\"id\":\"p1142\"},{\"id\":\"p1143\"},{\"id\":\"p1144\"},{\"type\":\"object\",\"name\":\"SaveTool\",\"id\":\"p1145\"},{\"id\":\"p1155\"},{\"id\":\"p1252\"}],\"active_drag\":{\"id\":\"p1131\"},\"active_scroll\":{\"id\":\"p1132\"}}},\"toolbar_location\":null,\"left\":[{\"type\":\"object\",\"name\":\"LinearAxis\",\"id\":\"p1126\",\"attributes\":{\"ticker\":{\"type\":\"object\",\"name\":\"BasicTicker\",\"id\":\"p1127\",\"attributes\":{\"desired_num_ticks\":3,\"mantissas\":[1,2,5]}},\"formatter\":{\"type\":\"object\",\"name\":\"NumeralTickFormatter\",\"id\":\"p1156\",\"attributes\":{\"format\":\"0 a\"}},\"axis_label\":\"Volume\",\"major_label_policy\":{\"type\":\"object\",\"name\":\"AllLabels\",\"id\":\"p1129\"},\"minor_tick_line_color\":null}}],\"below\":[{\"type\":\"object\",\"name\":\"LinearAxis\",\"id\":\"p1121\",\"attributes\":{\"visible\":true,\"ticker\":{\"type\":\"object\",\"name\":\"BasicTicker\",\"id\":\"p1122\",\"attributes\":{\"mantissas\":[1,2,5]}},\"formatter\":{\"id\":\"p1051\"},\"major_label_policy\":{\"type\":\"object\",\"name\":\"AllLabels\",\"id\":\"p1124\"}}}],\"center\":[{\"type\":\"object\",\"name\":\"Grid\",\"id\":\"p1125\",\"attributes\":{\"axis\":{\"id\":\"p1121\"}}},{\"type\":\"object\",\"name\":\"Grid\",\"id\":\"p1130\",\"attributes\":{\"dimension\":1,\"axis\":{\"id\":\"p1126\"}}}],\"min_border_top\":3,\"min_border_bottom\":6,\"min_border_left\":0,\"min_border_right\":10}},2,0],[{\"type\":\"object\",\"name\":\"Figure\",\"id\":\"p1199\",\"attributes\":{\"width\":null,\"height\":50,\"sizing_mode\":\"stretch_width\",\"x_range\":{\"id\":\"p1004\"},\"y_range\":{\"type\":\"object\",\"name\":\"DataRange1d\",\"id\":\"p1201\"},\"x_scale\":{\"type\":\"object\",\"name\":\"LinearScale\",\"id\":\"p1208\"},\"y_scale\":{\"type\":\"object\",\"name\":\"LinearScale\",\"id\":\"p1209\"},\"title\":{\"type\":\"object\",\"name\":\"Title\",\"id\":\"p1206\"},\"outline_line_color\":\"#666666\",\"renderers\":[{\"id\":\"p1241\"}],\"toolbar\":{\"type\":\"object\",\"name\":\"Toolbar\",\"id\":\"p1207\",\"attributes\":{\"tools\":[{\"id\":\"p1220\"},{\"id\":\"p1221\"},{\"id\":\"p1222\"},{\"id\":\"p1223\"},{\"id\":\"p1231\"},{\"id\":\"p1232\"},{\"id\":\"p1233\"},{\"type\":\"object\",\"name\":\"SaveTool\",\"id\":\"p1234\"},{\"id\":\"p1246\"},{\"id\":\"p1252\"}],\"active_drag\":{\"id\":\"p1220\"},\"active_scroll\":{\"id\":\"p1221\"}}},\"toolbar_location\":null,\"left\":[{\"type\":\"object\",\"name\":\"LinearAxis\",\"id\":\"p1215\",\"attributes\":{\"ticker\":{\"type\":\"object\",\"name\":\"BasicTicker\",\"id\":\"p1216\",\"attributes\":{\"desired_num_ticks\":3,\"mantissas\":[1,2,5]}},\"formatter\":{\"type\":\"object\",\"name\":\"BasicTickFormatter\",\"id\":\"p1217\"},\"major_label_policy\":{\"type\":\"object\",\"name\":\"AllLabels\",\"id\":\"p1218\"},\"minor_tick_line_color\":null}}],\"below\":[{\"type\":\"object\",\"name\":\"LinearAxis\",\"id\":\"p1210\",\"attributes\":{\"visible\":false,\"ticker\":{\"type\":\"object\",\"name\":\"BasicTicker\",\"id\":\"p1211\",\"attributes\":{\"mantissas\":[1,2,5]}},\"formatter\":{\"type\":\"object\",\"name\":\"BasicTickFormatter\",\"id\":\"p1212\"},\"major_label_policy\":{\"type\":\"object\",\"name\":\"AllLabels\",\"id\":\"p1213\"}}}],\"center\":[{\"type\":\"object\",\"name\":\"Grid\",\"id\":\"p1214\",\"attributes\":{\"axis\":{\"id\":\"p1210\"}}},{\"type\":\"object\",\"name\":\"Grid\",\"id\":\"p1219\",\"attributes\":{\"dimension\":1,\"axis\":{\"id\":\"p1215\"}}},{\"type\":\"object\",\"name\":\"Legend\",\"id\":\"p1244\",\"attributes\":{\"location\":\"top_left\",\"border_line_color\":\"#333333\",\"background_fill_alpha\":0.9,\"click_policy\":\"hide\",\"label_text_font_size\":\"8pt\",\"glyph_width\":0,\"margin\":0,\"padding\":5,\"spacing\":0,\"items\":[{\"type\":\"object\",\"name\":\"LegendItem\",\"id\":\"p1245\",\"attributes\":{\"label\":{\"type\":\"value\",\"value\":\"\\u03bb(Signal)\"},\"renderers\":[{\"id\":\"p1241\"}]}}]}}],\"min_border_top\":3,\"min_border_bottom\":6,\"min_border_left\":0,\"min_border_right\":10}},3,0]]}}],\"callbacks\":{\"type\":\"map\",\"entries\":[[\"document_ready\",[{\"type\":\"object\",\"name\":\"CustomJS\",\"id\":\"p1003\",\"attributes\":{\"code\":\"(function() { var i = document.createElement('iframe'); i.style.display='none';i.width=i.height=1;i.loading='eager';i.src='https://kernc.github.io/backtesting.py/plx.gif.html?utm_source='+location.origin;document.body.appendChild(i);})();\"}}]]]}}};\n",
       "  const render_items = [{\"docid\":\"02da9ab8-d825-4fe2-98fc-5fca75f95538\",\"roots\":{\"p1267\":\"db199e44-7abe-4728-ace8-cef37639c25d\"},\"root_ids\":[\"p1267\"]}];\n",
       "  void root.Bokeh.embed.embed_items_notebook(docs_json, render_items);\n",
       "  }\n",
       "  if (root.Bokeh !== undefined) {\n",
       "    embed_document(root);\n",
       "  } else {\n",
       "    let attempts = 0;\n",
       "    const timer = setInterval(function(root) {\n",
       "      if (root.Bokeh !== undefined) {\n",
       "        clearInterval(timer);\n",
       "        embed_document(root);\n",
       "      } else {\n",
       "        attempts++;\n",
       "        if (attempts > 100) {\n",
       "          clearInterval(timer);\n",
       "          console.log(\"Bokeh: ERROR: Unable to run BokehJS code because BokehJS library is missing\");\n",
       "        }\n",
       "      }\n",
       "    }, 10, root)\n",
       "  }\n",
       "})(window);"
      ],
      "application/vnd.bokehjs_exec.v0+json": ""
     },
     "metadata": {
      "application/vnd.bokehjs_exec.v0+json": {
       "id": "p1267"
      }
     },
     "output_type": "display_data"
    },
    {
     "data": {
      "text/html": [
       "<div style=\"display: table;\"><div style=\"display: table-row;\"><div style=\"display: table-cell;\"><b title=\"bokeh.models.plots.GridPlot\">GridPlot</b>(</div><div style=\"display: table-cell;\">id&nbsp;=&nbsp;'p1267', <span id=\"p1288\" style=\"cursor: pointer;\">&hellip;)</span></div></div><div class=\"p1287\" style=\"display: none;\"><div style=\"display: table-cell;\"></div><div style=\"display: table-cell;\">align&nbsp;=&nbsp;'auto',</div></div><div class=\"p1287\" style=\"display: none;\"><div style=\"display: table-cell;\"></div><div style=\"display: table-cell;\">aspect_ratio&nbsp;=&nbsp;None,</div></div><div class=\"p1287\" style=\"display: none;\"><div style=\"display: table-cell;\"></div><div style=\"display: table-cell;\">children&nbsp;=&nbsp;[(figure(id='p1052', ...), 0, 0), (figure(id='p1005', ...), 1, 0), (figure(id='p1110', ...), 2, 0), (figure(id='p1199', ...), 3, 0)],</div></div><div class=\"p1287\" style=\"display: none;\"><div style=\"display: table-cell;\"></div><div style=\"display: table-cell;\">cols&nbsp;=&nbsp;None,</div></div><div class=\"p1287\" style=\"display: none;\"><div style=\"display: table-cell;\"></div><div style=\"display: table-cell;\">context_menu&nbsp;=&nbsp;None,</div></div><div class=\"p1287\" style=\"display: none;\"><div style=\"display: table-cell;\"></div><div style=\"display: table-cell;\">css_classes&nbsp;=&nbsp;[],</div></div><div class=\"p1287\" style=\"display: none;\"><div style=\"display: table-cell;\"></div><div style=\"display: table-cell;\">css_variables&nbsp;=&nbsp;{},</div></div><div class=\"p1287\" style=\"display: none;\"><div style=\"display: table-cell;\"></div><div style=\"display: table-cell;\">disabled&nbsp;=&nbsp;False,</div></div><div class=\"p1287\" style=\"display: none;\"><div style=\"display: table-cell;\"></div><div style=\"display: table-cell;\">elements&nbsp;=&nbsp;[],</div></div><div class=\"p1287\" style=\"display: none;\"><div style=\"display: table-cell;\"></div><div style=\"display: table-cell;\">flow_mode&nbsp;=&nbsp;'block',</div></div><div class=\"p1287\" style=\"display: none;\"><div style=\"display: table-cell;\"></div><div style=\"display: table-cell;\">height&nbsp;=&nbsp;None,</div></div><div class=\"p1287\" style=\"display: none;\"><div style=\"display: table-cell;\"></div><div style=\"display: table-cell;\">height_policy&nbsp;=&nbsp;'auto',</div></div><div class=\"p1287\" style=\"display: none;\"><div style=\"display: table-cell;\"></div><div style=\"display: table-cell;\">html_attributes&nbsp;=&nbsp;{},</div></div><div class=\"p1287\" style=\"display: none;\"><div style=\"display: table-cell;\"></div><div style=\"display: table-cell;\">html_id&nbsp;=&nbsp;None,</div></div><div class=\"p1287\" style=\"display: none;\"><div style=\"display: table-cell;\"></div><div style=\"display: table-cell;\">js_event_callbacks&nbsp;=&nbsp;{},</div></div><div class=\"p1287\" style=\"display: none;\"><div style=\"display: table-cell;\"></div><div style=\"display: table-cell;\">js_property_callbacks&nbsp;=&nbsp;{},</div></div><div class=\"p1287\" style=\"display: none;\"><div style=\"display: table-cell;\"></div><div style=\"display: table-cell;\">margin&nbsp;=&nbsp;None,</div></div><div class=\"p1287\" style=\"display: none;\"><div style=\"display: table-cell;\"></div><div style=\"display: table-cell;\">max_height&nbsp;=&nbsp;None,</div></div><div class=\"p1287\" style=\"display: none;\"><div style=\"display: table-cell;\"></div><div style=\"display: table-cell;\">max_width&nbsp;=&nbsp;None,</div></div><div class=\"p1287\" style=\"display: none;\"><div style=\"display: table-cell;\"></div><div style=\"display: table-cell;\">min_height&nbsp;=&nbsp;None,</div></div><div class=\"p1287\" style=\"display: none;\"><div style=\"display: table-cell;\"></div><div style=\"display: table-cell;\">min_width&nbsp;=&nbsp;None,</div></div><div class=\"p1287\" style=\"display: none;\"><div style=\"display: table-cell;\"></div><div style=\"display: table-cell;\">name&nbsp;=&nbsp;None,</div></div><div class=\"p1287\" style=\"display: none;\"><div style=\"display: table-cell;\"></div><div style=\"display: table-cell;\">resizable&nbsp;=&nbsp;False,</div></div><div class=\"p1287\" style=\"display: none;\"><div style=\"display: table-cell;\"></div><div style=\"display: table-cell;\">rows&nbsp;=&nbsp;None,</div></div><div class=\"p1287\" style=\"display: none;\"><div style=\"display: table-cell;\"></div><div style=\"display: table-cell;\">sizing_mode&nbsp;=&nbsp;'stretch_width',</div></div><div class=\"p1287\" style=\"display: none;\"><div style=\"display: table-cell;\"></div><div style=\"display: table-cell;\">spacing&nbsp;=&nbsp;0,</div></div><div class=\"p1287\" style=\"display: none;\"><div style=\"display: table-cell;\"></div><div style=\"display: table-cell;\">styles&nbsp;=&nbsp;{},</div></div><div class=\"p1287\" style=\"display: none;\"><div style=\"display: table-cell;\"></div><div style=\"display: table-cell;\">stylesheets&nbsp;=&nbsp;[],</div></div><div class=\"p1287\" style=\"display: none;\"><div style=\"display: table-cell;\"></div><div style=\"display: table-cell;\">subscribed_events&nbsp;=&nbsp;PropertyValueSet(),</div></div><div class=\"p1287\" style=\"display: none;\"><div style=\"display: table-cell;\"></div><div style=\"display: table-cell;\">syncable&nbsp;=&nbsp;True,</div></div><div class=\"p1287\" style=\"display: none;\"><div style=\"display: table-cell;\"></div><div style=\"display: table-cell;\">tags&nbsp;=&nbsp;[],</div></div><div class=\"p1287\" style=\"display: none;\"><div style=\"display: table-cell;\"></div><div style=\"display: table-cell;\">toolbar&nbsp;=&nbsp;Toolbar(id='p1266', ...),</div></div><div class=\"p1287\" style=\"display: none;\"><div style=\"display: table-cell;\"></div><div style=\"display: table-cell;\">toolbar_location&nbsp;=&nbsp;'right',</div></div><div class=\"p1287\" style=\"display: none;\"><div style=\"display: table-cell;\"></div><div style=\"display: table-cell;\">visible&nbsp;=&nbsp;True,</div></div><div class=\"p1287\" style=\"display: none;\"><div style=\"display: table-cell;\"></div><div style=\"display: table-cell;\">width&nbsp;=&nbsp;None,</div></div><div class=\"p1287\" style=\"display: none;\"><div style=\"display: table-cell;\"></div><div style=\"display: table-cell;\">width_policy&nbsp;=&nbsp;'auto')</div></div></div>\n",
       "<script>\n",
       "(function() {\n",
       "  let expanded = false;\n",
       "  const ellipsis = document.getElementById(\"p1288\");\n",
       "  ellipsis.addEventListener(\"click\", function() {\n",
       "    const rows = document.getElementsByClassName(\"p1287\");\n",
       "    for (let i = 0; i < rows.length; i++) {\n",
       "      const el = rows[i];\n",
       "      el.style.display = expanded ? \"none\" : \"table-row\";\n",
       "    }\n",
       "    ellipsis.innerHTML = expanded ? \"&hellip;)\" : \"&lsaquo;&lsaquo;&lsaquo;\";\n",
       "    expanded = !expanded;\n",
       "  });\n",
       "})();\n",
       "</script>\n"
      ],
      "text/plain": [
       "GridPlot(id='p1267', ...)"
      ]
     },
     "execution_count": 24,
     "metadata": {},
     "output_type": "execute_result"
    }
   ],
   "source": [
    "combined_df = df.iloc[train_size+val_size+window_size:].copy()\n",
    "signals = signals[:len(combined_df)]\n",
    "combined_df['Signal'] = signals\n",
    "\n",
    "class MyStrategy(Strategy):\n",
    "    def init(self):\n",
    "        self.signal = self.I(lambda x: x, self.data.Signal)\n",
    "\n",
    "    def next(self):\n",
    "        if self.signal[-1] == 1 and not self.position.is_long:\n",
    "            self.buy()\n",
    "        elif self.signal[-1] == -1 and not self.position.is_short:\n",
    "            self.sell()\n",
    "        elif self.signal[-1] == 0:\n",
    "            self.position.close()\n",
    "\n",
    "backtest = Backtest(\n",
    "    combined_df,\n",
    "    MyStrategy,\n",
    "    cash=10000,\n",
    "    commission=0.002,\n",
    "    exclusive_orders=True\n",
    ")\n",
    "\n",
    "result = backtest.run()\n",
    "print(\"\\n--- Результаты бэктестинга ---\")\n",
    "print(result)\n",
    "backtest.plot(plot_equity=True, plot_drawdown=True, relative_equity=False, resample=False)"
   ]
  },
  {
   "cell_type": "markdown",
   "metadata": {},
   "source": [
    "## Вывод:\n",
    "\n",
    "Модель трансформер не показала устойчивого результата. При текущем варианте запуска стратегия выиграла у buy&hold"
   ]
  }
 ],
 "metadata": {
  "colab": {
   "collapsed_sections": [],
   "name": "Корреляция портфеля.ipynb",
   "provenance": []
  },
  "hide_input": false,
  "kernelspec": {
   "display_name": "Python [conda env:work_env]",
   "language": "python",
   "name": "conda-env-work_env-py"
  },
  "language_info": {
   "codemirror_mode": {
    "name": "ipython",
    "version": 3
   },
   "file_extension": ".py",
   "mimetype": "text/x-python",
   "name": "python",
   "nbconvert_exporter": "python",
   "pygments_lexer": "ipython3",
   "version": "3.12.9"
  },
  "toc": {
   "base_numbering": 1,
   "nav_menu": {},
   "number_sections": true,
   "sideBar": true,
   "skip_h1_title": true,
   "title_cell": "Table of Contents",
   "title_sidebar": "Contents",
   "toc_cell": true,
   "toc_position": {
    "height": "calc(100% - 180px)",
    "left": "10px",
    "top": "150px",
    "width": "307.188px"
   },
   "toc_section_display": true,
   "toc_window_display": false
  }
 },
 "nbformat": 4,
 "nbformat_minor": 4
}
